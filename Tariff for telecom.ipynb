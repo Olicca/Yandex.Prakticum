{
 "cells": [
  {
   "cell_type": "markdown",
   "metadata": {},
   "source": [
    "# Определение перспективного тарифа для телеком компании"
   ]
  },
  {
   "cell_type": "markdown",
   "metadata": {},
   "source": [
    "В данной работе нам необходимо исследовать данные по тарифным планам оператора сотовой связи. \n",
    "Клиентам предлагают два тарифных плана: «Смарт» и «Ультра», нужно определить, какой из тарифов приносит больше денег компании.\n",
    "Мы проведем предварительный анализ тарифов на небольшой выборке клиентов. В выборке сохранены данные 500 пользователей: кто они, откуда, каким тарифом пользуются, сколько звонков и сообщений каждый отправил за 2018 год.Мы проанализируем поведение клиентов и сделаем вывод — какой тариф лучше.\n"
   ]
  },
  {
   "cell_type": "markdown",
   "metadata": {},
   "source": [
    "#### Описание тарифов оператора связи####\n",
    "<b>Тариф «Смарт»</b>\n",
    "1.\tЕжемесячная плата: 550 рублей\n",
    "2.\tВключено 500 минут разговора, 50 сообщений и 15 Гб интернет-трафика\n",
    "3.\tСтоимость услуг сверх тарифного пакета: \n",
    "\n",
    "<p>\n",
    "минута разговора: 3 рубля, \n",
    "сообщение: 3 рубля, \n",
    "1 Гб интернет-трафика: 200 рублей, \n",
    "<p>\n",
    "\n",
    "<b>Тариф «Ультра»</b>\n",
    "1.\tЕжемесячная плата: 1950 рублей\n",
    "2.\tВключено 3000 минут разговора, 1000 сообщений и 30 Гб интернет-трафика\n",
    "3.\tСтоимость услуг сверх тарифного пакета:\n",
    "    \n",
    "<p>    \n",
    "минута разговора: 1 рубль, \n",
    "сообщение: 1 рубль, \n",
    "1 Гб интернет-трафика: 150 рублей\n",
    "    \n",
    "<p>\n",
    "<b>Особенность:</b>     \n",
    "«Мегалайн» всегда округляет вверх значения минут и мегабайтов. Если пользователь проговорил всего 1 секунду, в тарифе засчитывается целая минута.   \n",
    "    \n"
   ]
  },
  {
   "cell_type": "markdown",
   "metadata": {},
   "source": [
    "#### План работы:"
   ]
  },
  {
   "cell_type": "markdown",
   "metadata": {},
   "source": [
    "1. Откроем датасеты и проверим, что за данные перед нами\n",
    "2. Проведем предобработку данных: приведем имена столбцов к единому формату, заполним или удалим пропуски и проверим данные на дубликаты\n",
    "3. Проведем исследовательский анализ данных\n",
    "4. Сформируем гипотезы и проверим их реалистичность\n",
    "5. Сделаем выводы"
   ]
  },
  {
   "cell_type": "markdown",
   "metadata": {},
   "source": [
    "### Оглавление <a id=\"toc\"></a>"
   ]
  },
  {
   "cell_type": "markdown",
   "metadata": {},
   "source": [
    "* [Шаг 1. Изучение общей информации](#step_1)\n",
    " * [Таблица №1 - calls (информация о звонках)](#step_1_1)\n",
    " * [Таблица №2 - internet (информация об интернет-сессиях)](#step_1_2)\n",
    " * [Таблица №3 - messages (информация о сообщениях)](#step_1_3)\n",
    " * [Таблица №4  - tariffs (информация о тарифах)](#step_1_4)\n",
    " * [Таблица №5  - users (информация о пользователях)](#step_1_5)\n",
    "* [Шаг 1. Вывод](#step_11)\n",
    "* [Шаг 2. Предобработка и изучение данных. Расчеты для каждого пользователя](#step_2)\n",
    " * [2.1. Количество сделанных звонков и израсходованных минут разговора по месяцам](#step_2.1)\n",
    " * [2.2. Количество отправленных сообщений по месяцам](#step_2.2)\n",
    " * [2.3. Объем израсходованного интернет-трафика по месяцам](#step_2.3)\n",
    " * [2.4. Выручка с каждого пользователя  по месяцам](#step_2.4)\n",
    "* [Шаг 2. Вывод](#step_22)\n",
    "* [Шаг 3. Исследование данных](#step_3)\n",
    " * [3.1 Исследование длительности разговора](#step_3.1)\n",
    "  * [3.1.1 Средняя длительность разговора в зависимости от вида тарифа](#step_3.1.1)\n",
    "  * [3.1.2 Стандартное отклонение длительности разговора](#step_3.1.2)\n",
    "  * [3.1.3 Дисперсия длительности звонков](#step_3.1.3)\n",
    " * [3.2 Анализ количества сообщений](#step_3.2)\n",
    "  * [3.2.1  Среднее количество сообщений по тарифам](#step_3.2.1)\n",
    "  * [3.2.2  Стандартное отклонение количества сообщений по тарифам](#step_3.2.2)\n",
    "  * [3.2.3  Анализ дисперсии количества сообщений по тарифам](#step_3.2.3)\n",
    "  * [3.3 Анализ интернет-траффика](#step_3.3)\n",
    "  * [3.3.1  Среднее количество интернет-траффика](#step_3.3.1)\n",
    "  * [3.3.2  Стандартное отклонение объема интернет-траффика](#step_3.3.2)\n",
    "  * [3.3.3  Анализ дисперсии объема интернет-траффика](#step_3.3.3)\n",
    "* [Шаг4. Исследование выручки. Проверка гипотез](#step_4)\n",
    " * [4.1 Исследование выручки](#step_4.1)\n",
    " * [4.2 Проверка гипотез](#step_4.2)\n",
    "  \n",
    " \n",
    " \n",
    " \n",
    " \n",
    " \n",
    " \n",
    " \n",
    " "
   ]
  },
  {
   "cell_type": "markdown",
   "metadata": {},
   "source": [
    "### [Шаг 1. Изучение общей информации]<a id=\"step_1\"></a>"
   ]
  },
  {
   "cell_type": "markdown",
   "metadata": {},
   "source": [
    "[в начало](#toc)"
   ]
  },
  {
   "cell_type": "markdown",
   "metadata": {},
   "source": [
    "Импортируем все необходимые нам библиотеки"
   ]
  },
  {
   "cell_type": "code",
   "execution_count": 1,
   "metadata": {},
   "outputs": [],
   "source": [
    "import pandas as pd\n",
    "import matplotlib.pyplot as plt \n",
    "import seaborn as sns\n",
    "from scipy import stats as st\n",
    "import numpy as np"
   ]
  },
  {
   "cell_type": "markdown",
   "metadata": {},
   "source": [
    "Откроем наши датасеты и посмотрим на данные"
   ]
  },
  {
   "cell_type": "markdown",
   "metadata": {},
   "source": [
    "### [Таблица №1 - calls (информация о звонках)]<a id=\"step_1_1\"></a>"
   ]
  },
  {
   "cell_type": "markdown",
   "metadata": {},
   "source": [
    "[в начало](#toc)"
   ]
  },
  {
   "cell_type": "code",
   "execution_count": 2,
   "metadata": {},
   "outputs": [
    {
     "data": {
      "text/html": [
       "<div>\n",
       "<style scoped>\n",
       "    .dataframe tbody tr th:only-of-type {\n",
       "        vertical-align: middle;\n",
       "    }\n",
       "\n",
       "    .dataframe tbody tr th {\n",
       "        vertical-align: top;\n",
       "    }\n",
       "\n",
       "    .dataframe thead th {\n",
       "        text-align: right;\n",
       "    }\n",
       "</style>\n",
       "<table border=\"1\" class=\"dataframe\">\n",
       "  <thead>\n",
       "    <tr style=\"text-align: right;\">\n",
       "      <th></th>\n",
       "      <th>id</th>\n",
       "      <th>call_date</th>\n",
       "      <th>duration</th>\n",
       "      <th>user_id</th>\n",
       "    </tr>\n",
       "  </thead>\n",
       "  <tbody>\n",
       "    <tr>\n",
       "      <td>0</td>\n",
       "      <td>1000_0</td>\n",
       "      <td>2018-07-25</td>\n",
       "      <td>0.00</td>\n",
       "      <td>1000</td>\n",
       "    </tr>\n",
       "    <tr>\n",
       "      <td>1</td>\n",
       "      <td>1000_1</td>\n",
       "      <td>2018-08-17</td>\n",
       "      <td>0.00</td>\n",
       "      <td>1000</td>\n",
       "    </tr>\n",
       "    <tr>\n",
       "      <td>2</td>\n",
       "      <td>1000_2</td>\n",
       "      <td>2018-06-11</td>\n",
       "      <td>2.85</td>\n",
       "      <td>1000</td>\n",
       "    </tr>\n",
       "    <tr>\n",
       "      <td>3</td>\n",
       "      <td>1000_3</td>\n",
       "      <td>2018-09-21</td>\n",
       "      <td>13.80</td>\n",
       "      <td>1000</td>\n",
       "    </tr>\n",
       "    <tr>\n",
       "      <td>4</td>\n",
       "      <td>1000_4</td>\n",
       "      <td>2018-12-15</td>\n",
       "      <td>5.18</td>\n",
       "      <td>1000</td>\n",
       "    </tr>\n",
       "  </tbody>\n",
       "</table>\n",
       "</div>"
      ],
      "text/plain": [
       "       id   call_date  duration  user_id\n",
       "0  1000_0  2018-07-25      0.00     1000\n",
       "1  1000_1  2018-08-17      0.00     1000\n",
       "2  1000_2  2018-06-11      2.85     1000\n",
       "3  1000_3  2018-09-21     13.80     1000\n",
       "4  1000_4  2018-12-15      5.18     1000"
      ]
     },
     "metadata": {},
     "output_type": "display_data"
    },
    {
     "name": "stdout",
     "output_type": "stream",
     "text": [
      "<class 'pandas.core.frame.DataFrame'>\n",
      "RangeIndex: 202607 entries, 0 to 202606\n",
      "Data columns (total 4 columns):\n",
      "id           202607 non-null object\n",
      "call_date    202607 non-null object\n",
      "duration     202607 non-null float64\n",
      "user_id      202607 non-null int64\n",
      "dtypes: float64(1), int64(1), object(2)\n",
      "memory usage: 6.2+ MB\n"
     ]
    }
   ],
   "source": [
    "calls = pd.read_csv(\"/datasets/calls.csv\")\n",
    "display(calls.head())\n",
    "calls.info()"
   ]
  },
  {
   "cell_type": "markdown",
   "metadata": {},
   "source": [
    "Таблица <b> calls </b> состоит из 202607строк и 4х столбцов\n",
    "В ней мы видим следующие наименования столбцов:\n",
    "1. id — уникальный номер звонка\n",
    "2. call_date — дата звонка\n",
    "3. duration — длительность звонка в минутах\n",
    "4. user_id — идентификатор пользователя, сделавшего звонок\n",
    "\n",
    "Названия столбцов нас вполне устраивают.\n",
    "Посмотрим данные чуть подробнее."
   ]
  },
  {
   "cell_type": "markdown",
   "metadata": {},
   "source": [
    "Переведем сразу столбец с датами в нужный нам формат даты"
   ]
  },
  {
   "cell_type": "code",
   "execution_count": 3,
   "metadata": {},
   "outputs": [
    {
     "name": "stdout",
     "output_type": "stream",
     "text": [
      "<class 'pandas.core.frame.DataFrame'>\n",
      "RangeIndex: 202607 entries, 0 to 202606\n",
      "Data columns (total 5 columns):\n",
      "id           202607 non-null object\n",
      "call_date    202607 non-null datetime64[ns]\n",
      "duration     202607 non-null float64\n",
      "user_id      202607 non-null int64\n",
      "month        202607 non-null int64\n",
      "dtypes: datetime64[ns](1), float64(1), int64(2), object(1)\n",
      "memory usage: 7.7+ MB\n"
     ]
    },
    {
     "data": {
      "text/html": [
       "<div>\n",
       "<style scoped>\n",
       "    .dataframe tbody tr th:only-of-type {\n",
       "        vertical-align: middle;\n",
       "    }\n",
       "\n",
       "    .dataframe tbody tr th {\n",
       "        vertical-align: top;\n",
       "    }\n",
       "\n",
       "    .dataframe thead th {\n",
       "        text-align: right;\n",
       "    }\n",
       "</style>\n",
       "<table border=\"1\" class=\"dataframe\">\n",
       "  <thead>\n",
       "    <tr style=\"text-align: right;\">\n",
       "      <th></th>\n",
       "      <th>id</th>\n",
       "      <th>call_date</th>\n",
       "      <th>duration</th>\n",
       "      <th>user_id</th>\n",
       "      <th>month</th>\n",
       "    </tr>\n",
       "  </thead>\n",
       "  <tbody>\n",
       "    <tr>\n",
       "      <td>0</td>\n",
       "      <td>1000_0</td>\n",
       "      <td>2018-07-25</td>\n",
       "      <td>0.00</td>\n",
       "      <td>1000</td>\n",
       "      <td>7</td>\n",
       "    </tr>\n",
       "    <tr>\n",
       "      <td>1</td>\n",
       "      <td>1000_1</td>\n",
       "      <td>2018-08-17</td>\n",
       "      <td>0.00</td>\n",
       "      <td>1000</td>\n",
       "      <td>8</td>\n",
       "    </tr>\n",
       "    <tr>\n",
       "      <td>2</td>\n",
       "      <td>1000_2</td>\n",
       "      <td>2018-06-11</td>\n",
       "      <td>2.85</td>\n",
       "      <td>1000</td>\n",
       "      <td>6</td>\n",
       "    </tr>\n",
       "    <tr>\n",
       "      <td>3</td>\n",
       "      <td>1000_3</td>\n",
       "      <td>2018-09-21</td>\n",
       "      <td>13.80</td>\n",
       "      <td>1000</td>\n",
       "      <td>9</td>\n",
       "    </tr>\n",
       "    <tr>\n",
       "      <td>4</td>\n",
       "      <td>1000_4</td>\n",
       "      <td>2018-12-15</td>\n",
       "      <td>5.18</td>\n",
       "      <td>1000</td>\n",
       "      <td>12</td>\n",
       "    </tr>\n",
       "  </tbody>\n",
       "</table>\n",
       "</div>"
      ],
      "text/plain": [
       "       id  call_date  duration  user_id  month\n",
       "0  1000_0 2018-07-25      0.00     1000      7\n",
       "1  1000_1 2018-08-17      0.00     1000      8\n",
       "2  1000_2 2018-06-11      2.85     1000      6\n",
       "3  1000_3 2018-09-21     13.80     1000      9\n",
       "4  1000_4 2018-12-15      5.18     1000     12"
      ]
     },
     "metadata": {},
     "output_type": "display_data"
    }
   ],
   "source": [
    "#меняем тип данных\n",
    "calls.call_date = pd.to_datetime(calls.call_date)\n",
    "\n",
    "#добавим столбец с месяцем\n",
    "calls['month'] = calls.call_date.dt.month\n",
    "\n",
    "#проверим\n",
    "calls.info()\n",
    "display(calls.head())\n"
   ]
  },
  {
   "cell_type": "markdown",
   "metadata": {},
   "source": [
    "Все в порядке, формат даты изменили на корректный. Теперь проверим пропуски."
   ]
  },
  {
   "cell_type": "code",
   "execution_count": 4,
   "metadata": {},
   "outputs": [
    {
     "data": {
      "text/plain": [
       "id           0\n",
       "call_date    0\n",
       "duration     0\n",
       "user_id      0\n",
       "month        0\n",
       "dtype: int64"
      ]
     },
     "execution_count": 4,
     "metadata": {},
     "output_type": "execute_result"
    }
   ],
   "source": [
    "#проверим на пропуски и дубликаты\n",
    "calls.isnull().sum() \n",
    "#calls.duplicated().sum()"
   ]
  },
  {
   "cell_type": "markdown",
   "metadata": {},
   "source": [
    "Пропусков и дубликатов нет, и это прекрасно. Проверим описание таблицы."
   ]
  },
  {
   "cell_type": "code",
   "execution_count": 5,
   "metadata": {},
   "outputs": [
    {
     "data": {
      "text/html": [
       "<div>\n",
       "<style scoped>\n",
       "    .dataframe tbody tr th:only-of-type {\n",
       "        vertical-align: middle;\n",
       "    }\n",
       "\n",
       "    .dataframe tbody tr th {\n",
       "        vertical-align: top;\n",
       "    }\n",
       "\n",
       "    .dataframe thead th {\n",
       "        text-align: right;\n",
       "    }\n",
       "</style>\n",
       "<table border=\"1\" class=\"dataframe\">\n",
       "  <thead>\n",
       "    <tr style=\"text-align: right;\">\n",
       "      <th></th>\n",
       "      <th>duration</th>\n",
       "      <th>user_id</th>\n",
       "      <th>month</th>\n",
       "    </tr>\n",
       "  </thead>\n",
       "  <tbody>\n",
       "    <tr>\n",
       "      <td>count</td>\n",
       "      <td>202607.000000</td>\n",
       "      <td>202607.000000</td>\n",
       "      <td>202607.000000</td>\n",
       "    </tr>\n",
       "    <tr>\n",
       "      <td>mean</td>\n",
       "      <td>6.755887</td>\n",
       "      <td>1253.940619</td>\n",
       "      <td>8.574067</td>\n",
       "    </tr>\n",
       "    <tr>\n",
       "      <td>std</td>\n",
       "      <td>5.843365</td>\n",
       "      <td>144.722751</td>\n",
       "      <td>2.787093</td>\n",
       "    </tr>\n",
       "    <tr>\n",
       "      <td>min</td>\n",
       "      <td>0.000000</td>\n",
       "      <td>1000.000000</td>\n",
       "      <td>1.000000</td>\n",
       "    </tr>\n",
       "    <tr>\n",
       "      <td>25%</td>\n",
       "      <td>1.300000</td>\n",
       "      <td>1126.000000</td>\n",
       "      <td>7.000000</td>\n",
       "    </tr>\n",
       "    <tr>\n",
       "      <td>50%</td>\n",
       "      <td>6.000000</td>\n",
       "      <td>1260.000000</td>\n",
       "      <td>9.000000</td>\n",
       "    </tr>\n",
       "    <tr>\n",
       "      <td>75%</td>\n",
       "      <td>10.700000</td>\n",
       "      <td>1379.000000</td>\n",
       "      <td>11.000000</td>\n",
       "    </tr>\n",
       "    <tr>\n",
       "      <td>max</td>\n",
       "      <td>38.000000</td>\n",
       "      <td>1499.000000</td>\n",
       "      <td>12.000000</td>\n",
       "    </tr>\n",
       "  </tbody>\n",
       "</table>\n",
       "</div>"
      ],
      "text/plain": [
       "            duration        user_id          month\n",
       "count  202607.000000  202607.000000  202607.000000\n",
       "mean        6.755887    1253.940619       8.574067\n",
       "std         5.843365     144.722751       2.787093\n",
       "min         0.000000    1000.000000       1.000000\n",
       "25%         1.300000    1126.000000       7.000000\n",
       "50%         6.000000    1260.000000       9.000000\n",
       "75%        10.700000    1379.000000      11.000000\n",
       "max        38.000000    1499.000000      12.000000"
      ]
     },
     "execution_count": 5,
     "metadata": {},
     "output_type": "execute_result"
    }
   ],
   "source": [
    "#посмотрим описание таблицы\n",
    "calls.describe()"
   ]
  },
  {
   "cell_type": "markdown",
   "metadata": {},
   "source": [
    "В данном случае, здесь информативны данные только по столбцу duration.\n",
    "Мы можем видеть минимальую, максимальную и среднюю продолжительность звонков. Медиана и средняя не слишком отличаются, а значит можно предполжить, что вбросов по продолжительности звонков нет. "
   ]
  },
  {
   "cell_type": "markdown",
   "metadata": {},
   "source": [
    "Посморим на гистограмму длительности звонков"
   ]
  },
  {
   "cell_type": "code",
   "execution_count": 6,
   "metadata": {},
   "outputs": [
    {
     "data": {
      "text/plain": [
       "Text(0, 0.5, 'Частотность')"
      ]
     },
     "execution_count": 6,
     "metadata": {},
     "output_type": "execute_result"
    },
    {
     "data": {
      "image/png": "[encoded data removed]",
      "text/plain": [
       "<Figure size 432x288 with 1 Axes>"
      ]
     },
     "metadata": {
      "needs_background": "light"
     },
     "output_type": "display_data"
    }
   ],
   "source": [
    "calls.plot(kind = 'hist', y = 'duration', bins = 20, title = 'Гистограмма длительности звонков')\n",
    "plt.xlabel('Минуты')\n",
    "plt.ylabel('Частотность')"
   ]
  },
  {
   "cell_type": "markdown",
   "metadata": {},
   "source": [
    "На гистограмме мы видим большое количество звоноков длительностью в 0 минут - скорее всего, это звонки, которые начались, но по какой-то технической причине связь оборвалась. "
   ]
  },
  {
   "cell_type": "code",
   "execution_count": 7,
   "metadata": {},
   "outputs": [
    {
     "data": {
      "text/plain": [
       "39613"
      ]
     },
     "execution_count": 7,
     "metadata": {},
     "output_type": "execute_result"
    }
   ],
   "source": [
    "#посчитаем количество нулевых значений\n",
    "calls['duration'].value_counts().sort_index()[0]"
   ]
  },
  {
   "cell_type": "markdown",
   "metadata": {},
   "source": [
    "Поскольку таких звонков большое количество и мы  знаем, что сотовый оператор взимает оплату за свои услуги поминутно, то округлим значение 0 до 1 минуты. "
   ]
  },
  {
   "cell_type": "code",
   "execution_count": 8,
   "metadata": {},
   "outputs": [],
   "source": [
    "#заменяем нулевые значения на 1\n",
    "calls.loc[calls['duration'] == 0, 'duration'] = 1"
   ]
  },
  {
   "cell_type": "markdown",
   "metadata": {},
   "source": [
    "Округлим так же остальные значения до минут"
   ]
  },
  {
   "cell_type": "code",
   "execution_count": 9,
   "metadata": {},
   "outputs": [
    {
     "name": "stdout",
     "output_type": "stream",
     "text": [
      "<class 'pandas.core.frame.DataFrame'>\n",
      "RangeIndex: 202607 entries, 0 to 202606\n",
      "Data columns (total 5 columns):\n",
      "id           202607 non-null object\n",
      "call_date    202607 non-null datetime64[ns]\n",
      "duration     202607 non-null int64\n",
      "user_id      202607 non-null int64\n",
      "month        202607 non-null int64\n",
      "dtypes: datetime64[ns](1), int64(3), object(1)\n",
      "memory usage: 7.7+ MB\n"
     ]
    },
    {
     "data": {
      "text/html": [
       "<div>\n",
       "<style scoped>\n",
       "    .dataframe tbody tr th:only-of-type {\n",
       "        vertical-align: middle;\n",
       "    }\n",
       "\n",
       "    .dataframe tbody tr th {\n",
       "        vertical-align: top;\n",
       "    }\n",
       "\n",
       "    .dataframe thead th {\n",
       "        text-align: right;\n",
       "    }\n",
       "</style>\n",
       "<table border=\"1\" class=\"dataframe\">\n",
       "  <thead>\n",
       "    <tr style=\"text-align: right;\">\n",
       "      <th></th>\n",
       "      <th>id</th>\n",
       "      <th>call_date</th>\n",
       "      <th>duration</th>\n",
       "      <th>user_id</th>\n",
       "      <th>month</th>\n",
       "    </tr>\n",
       "  </thead>\n",
       "  <tbody>\n",
       "    <tr>\n",
       "      <td>0</td>\n",
       "      <td>1000_0</td>\n",
       "      <td>2018-07-25</td>\n",
       "      <td>1</td>\n",
       "      <td>1000</td>\n",
       "      <td>7</td>\n",
       "    </tr>\n",
       "    <tr>\n",
       "      <td>1</td>\n",
       "      <td>1000_1</td>\n",
       "      <td>2018-08-17</td>\n",
       "      <td>1</td>\n",
       "      <td>1000</td>\n",
       "      <td>8</td>\n",
       "    </tr>\n",
       "    <tr>\n",
       "      <td>2</td>\n",
       "      <td>1000_2</td>\n",
       "      <td>2018-06-11</td>\n",
       "      <td>3</td>\n",
       "      <td>1000</td>\n",
       "      <td>6</td>\n",
       "    </tr>\n",
       "    <tr>\n",
       "      <td>3</td>\n",
       "      <td>1000_3</td>\n",
       "      <td>2018-09-21</td>\n",
       "      <td>14</td>\n",
       "      <td>1000</td>\n",
       "      <td>9</td>\n",
       "    </tr>\n",
       "    <tr>\n",
       "      <td>4</td>\n",
       "      <td>1000_4</td>\n",
       "      <td>2018-12-15</td>\n",
       "      <td>6</td>\n",
       "      <td>1000</td>\n",
       "      <td>12</td>\n",
       "    </tr>\n",
       "  </tbody>\n",
       "</table>\n",
       "</div>"
      ],
      "text/plain": [
       "       id  call_date  duration  user_id  month\n",
       "0  1000_0 2018-07-25         1     1000      7\n",
       "1  1000_1 2018-08-17         1     1000      8\n",
       "2  1000_2 2018-06-11         3     1000      6\n",
       "3  1000_3 2018-09-21        14     1000      9\n",
       "4  1000_4 2018-12-15         6     1000     12"
      ]
     },
     "metadata": {},
     "output_type": "display_data"
    }
   ],
   "source": [
    "#округляем остальные данные до минут\n",
    "calls['duration'] = np.ceil(calls['duration'])\n",
    "#поменяем сразу тип данных на int\n",
    "calls['duration'] = calls['duration'].astype('int')\n",
    "calls.info()\n",
    "display(calls.head(5))"
   ]
  },
  {
   "cell_type": "markdown",
   "metadata": {},
   "source": [
    "По данному столбцу мы убедились, что пропусков нет, поменяли формат даты зввонка на datetime64, округлили данные по длительности звонка до минут и изменили формат данных столбца duration на целочисленный int64."
   ]
  },
  {
   "cell_type": "markdown",
   "metadata": {},
   "source": [
    "### [Таблица №2 - internet (информация об интернет-сессиях)]<a id=\"step_1_2\"></a>"
   ]
  },
  {
   "cell_type": "markdown",
   "metadata": {},
   "source": [
    "[в начало](#toc)"
   ]
  },
  {
   "cell_type": "code",
   "execution_count": 10,
   "metadata": {},
   "outputs": [
    {
     "data": {
      "text/html": [
       "<div>\n",
       "<style scoped>\n",
       "    .dataframe tbody tr th:only-of-type {\n",
       "        vertical-align: middle;\n",
       "    }\n",
       "\n",
       "    .dataframe tbody tr th {\n",
       "        vertical-align: top;\n",
       "    }\n",
       "\n",
       "    .dataframe thead th {\n",
       "        text-align: right;\n",
       "    }\n",
       "</style>\n",
       "<table border=\"1\" class=\"dataframe\">\n",
       "  <thead>\n",
       "    <tr style=\"text-align: right;\">\n",
       "      <th></th>\n",
       "      <th>Unnamed: 0</th>\n",
       "      <th>id</th>\n",
       "      <th>mb_used</th>\n",
       "      <th>session_date</th>\n",
       "      <th>user_id</th>\n",
       "    </tr>\n",
       "  </thead>\n",
       "  <tbody>\n",
       "    <tr>\n",
       "      <td>0</td>\n",
       "      <td>0</td>\n",
       "      <td>1000_0</td>\n",
       "      <td>112.95</td>\n",
       "      <td>2018-11-25</td>\n",
       "      <td>1000</td>\n",
       "    </tr>\n",
       "    <tr>\n",
       "      <td>1</td>\n",
       "      <td>1</td>\n",
       "      <td>1000_1</td>\n",
       "      <td>1052.81</td>\n",
       "      <td>2018-09-07</td>\n",
       "      <td>1000</td>\n",
       "    </tr>\n",
       "    <tr>\n",
       "      <td>2</td>\n",
       "      <td>2</td>\n",
       "      <td>1000_2</td>\n",
       "      <td>1197.26</td>\n",
       "      <td>2018-06-25</td>\n",
       "      <td>1000</td>\n",
       "    </tr>\n",
       "    <tr>\n",
       "      <td>3</td>\n",
       "      <td>3</td>\n",
       "      <td>1000_3</td>\n",
       "      <td>550.27</td>\n",
       "      <td>2018-08-22</td>\n",
       "      <td>1000</td>\n",
       "    </tr>\n",
       "    <tr>\n",
       "      <td>4</td>\n",
       "      <td>4</td>\n",
       "      <td>1000_4</td>\n",
       "      <td>302.56</td>\n",
       "      <td>2018-09-24</td>\n",
       "      <td>1000</td>\n",
       "    </tr>\n",
       "  </tbody>\n",
       "</table>\n",
       "</div>"
      ],
      "text/plain": [
       "   Unnamed: 0      id  mb_used session_date  user_id\n",
       "0           0  1000_0   112.95   2018-11-25     1000\n",
       "1           1  1000_1  1052.81   2018-09-07     1000\n",
       "2           2  1000_2  1197.26   2018-06-25     1000\n",
       "3           3  1000_3   550.27   2018-08-22     1000\n",
       "4           4  1000_4   302.56   2018-09-24     1000"
      ]
     },
     "metadata": {},
     "output_type": "display_data"
    },
    {
     "name": "stdout",
     "output_type": "stream",
     "text": [
      "<class 'pandas.core.frame.DataFrame'>\n",
      "RangeIndex: 149396 entries, 0 to 149395\n",
      "Data columns (total 5 columns):\n",
      "Unnamed: 0      149396 non-null int64\n",
      "id              149396 non-null object\n",
      "mb_used         149396 non-null float64\n",
      "session_date    149396 non-null object\n",
      "user_id         149396 non-null int64\n",
      "dtypes: float64(1), int64(2), object(2)\n",
      "memory usage: 5.7+ MB\n"
     ]
    }
   ],
   "source": [
    "internet = pd.read_csv(\"/datasets/internet.csv\")\n",
    "display(internet.head())\n",
    "internet.info()"
   ]
  },
  {
   "cell_type": "markdown",
   "metadata": {},
   "source": [
    "Таблица <b> internet </b> состоит из 149396 строк и 5 столбцов\n",
    "В ней мы видим следующие наименования столбцов:\n",
    "1. id — уникальный номер сессии\n",
    "2. mb_used — объём потраченного за сессию интернет-трафика (в мегабайтах)\n",
    "3. session_date — дата интернет-сессии\n",
    "4. user_id — идентификатор пользователя\n",
    "\n",
    "Плюс есть еще один пустой столбец."
   ]
  },
  {
   "cell_type": "markdown",
   "metadata": {},
   "source": [
    "Сформулируем, что нам нужно сделать:\n",
    "1. Удалим пустой столбец\n",
    "2. Переименуем столбец id в более понятное название.\n",
    "3. Нам известно, что сотовый оператор округляет данные всегда до целых мегабайтов в своих тарифах. Поэтому округлим эти данные в столбце mb_used.\n",
    "4. Переведем данные в столбце mb_used в целочисленный тип\n",
    "5. Переведем данные в столбце с датой в datetime\n",
    "6. Проверим на пропуски"
   ]
  },
  {
   "cell_type": "code",
   "execution_count": 11,
   "metadata": {},
   "outputs": [],
   "source": [
    "#удалим пустой столбец\n",
    "internet.drop(columns=['Unnamed: 0'], inplace=True)\n",
    "\n",
    "#переименуем столбец id:\n",
    "internet.columns = ['session_id', 'mb_used', 'session_date', 'user_id']"
   ]
  },
  {
   "cell_type": "code",
   "execution_count": 12,
   "metadata": {},
   "outputs": [
    {
     "name": "stdout",
     "output_type": "stream",
     "text": [
      "<class 'pandas.core.frame.DataFrame'>\n",
      "RangeIndex: 149396 entries, 0 to 149395\n",
      "Data columns (total 5 columns):\n",
      "session_id      149396 non-null object\n",
      "mb_used         149396 non-null int64\n",
      "session_date    149396 non-null datetime64[ns]\n",
      "user_id         149396 non-null int64\n",
      "month           149396 non-null int64\n",
      "dtypes: datetime64[ns](1), int64(3), object(1)\n",
      "memory usage: 5.7+ MB\n"
     ]
    },
    {
     "data": {
      "text/html": [
       "<div>\n",
       "<style scoped>\n",
       "    .dataframe tbody tr th:only-of-type {\n",
       "        vertical-align: middle;\n",
       "    }\n",
       "\n",
       "    .dataframe tbody tr th {\n",
       "        vertical-align: top;\n",
       "    }\n",
       "\n",
       "    .dataframe thead th {\n",
       "        text-align: right;\n",
       "    }\n",
       "</style>\n",
       "<table border=\"1\" class=\"dataframe\">\n",
       "  <thead>\n",
       "    <tr style=\"text-align: right;\">\n",
       "      <th></th>\n",
       "      <th>session_id</th>\n",
       "      <th>mb_used</th>\n",
       "      <th>session_date</th>\n",
       "      <th>user_id</th>\n",
       "      <th>month</th>\n",
       "    </tr>\n",
       "  </thead>\n",
       "  <tbody>\n",
       "    <tr>\n",
       "      <td>0</td>\n",
       "      <td>1000_0</td>\n",
       "      <td>113</td>\n",
       "      <td>2018-11-25</td>\n",
       "      <td>1000</td>\n",
       "      <td>11</td>\n",
       "    </tr>\n",
       "    <tr>\n",
       "      <td>1</td>\n",
       "      <td>1000_1</td>\n",
       "      <td>1053</td>\n",
       "      <td>2018-09-07</td>\n",
       "      <td>1000</td>\n",
       "      <td>9</td>\n",
       "    </tr>\n",
       "    <tr>\n",
       "      <td>2</td>\n",
       "      <td>1000_2</td>\n",
       "      <td>1198</td>\n",
       "      <td>2018-06-25</td>\n",
       "      <td>1000</td>\n",
       "      <td>6</td>\n",
       "    </tr>\n",
       "    <tr>\n",
       "      <td>3</td>\n",
       "      <td>1000_3</td>\n",
       "      <td>551</td>\n",
       "      <td>2018-08-22</td>\n",
       "      <td>1000</td>\n",
       "      <td>8</td>\n",
       "    </tr>\n",
       "    <tr>\n",
       "      <td>4</td>\n",
       "      <td>1000_4</td>\n",
       "      <td>303</td>\n",
       "      <td>2018-09-24</td>\n",
       "      <td>1000</td>\n",
       "      <td>9</td>\n",
       "    </tr>\n",
       "  </tbody>\n",
       "</table>\n",
       "</div>"
      ],
      "text/plain": [
       "  session_id  mb_used session_date  user_id  month\n",
       "0     1000_0      113   2018-11-25     1000     11\n",
       "1     1000_1     1053   2018-09-07     1000      9\n",
       "2     1000_2     1198   2018-06-25     1000      6\n",
       "3     1000_3      551   2018-08-22     1000      8\n",
       "4     1000_4      303   2018-09-24     1000      9"
      ]
     },
     "metadata": {},
     "output_type": "display_data"
    },
    {
     "data": {
      "text/plain": [
       "session_id      0\n",
       "mb_used         0\n",
       "session_date    0\n",
       "user_id         0\n",
       "month           0\n",
       "dtype: int64"
      ]
     },
     "execution_count": 12,
     "metadata": {},
     "output_type": "execute_result"
    }
   ],
   "source": [
    "#округлим данные\n",
    "internet['mb_used'] = np.ceil(internet['mb_used'])\n",
    "\n",
    "#поменяем сразу тип данных на int\n",
    "internet['mb_used'] = internet['mb_used'].astype('int')\n",
    "\n",
    "#поменяем тип данных на datetime\n",
    "internet.session_date = pd.to_datetime(internet.session_date)\n",
    "\n",
    "#добавим столбец с месяцем\n",
    "internet['month'] = internet.session_date.dt.month\n",
    "\n",
    "#проверим\n",
    "internet.info()\n",
    "display(internet.head(5))\n",
    "\n",
    "#пропуски\n",
    "internet.isnull().sum()"
   ]
  },
  {
   "cell_type": "code",
   "execution_count": 13,
   "metadata": {},
   "outputs": [
    {
     "data": {
      "text/plain": [
       "0"
      ]
     },
     "execution_count": 13,
     "metadata": {},
     "output_type": "execute_result"
    }
   ],
   "source": [
    "internet.duplicated().sum()"
   ]
  },
  {
   "cell_type": "markdown",
   "metadata": {},
   "source": [
    "Все в порядке, пропусков и дубликатов так же нет. Посмотрим так же описание таблицы."
   ]
  },
  {
   "cell_type": "code",
   "execution_count": 14,
   "metadata": {},
   "outputs": [
    {
     "data": {
      "text/html": [
       "<div>\n",
       "<style scoped>\n",
       "    .dataframe tbody tr th:only-of-type {\n",
       "        vertical-align: middle;\n",
       "    }\n",
       "\n",
       "    .dataframe tbody tr th {\n",
       "        vertical-align: top;\n",
       "    }\n",
       "\n",
       "    .dataframe thead th {\n",
       "        text-align: right;\n",
       "    }\n",
       "</style>\n",
       "<table border=\"1\" class=\"dataframe\">\n",
       "  <thead>\n",
       "    <tr style=\"text-align: right;\">\n",
       "      <th></th>\n",
       "      <th>mb_used</th>\n",
       "      <th>user_id</th>\n",
       "      <th>month</th>\n",
       "    </tr>\n",
       "  </thead>\n",
       "  <tbody>\n",
       "    <tr>\n",
       "      <td>count</td>\n",
       "      <td>149396.000000</td>\n",
       "      <td>149396.000000</td>\n",
       "      <td>149396.000000</td>\n",
       "    </tr>\n",
       "    <tr>\n",
       "      <td>mean</td>\n",
       "      <td>370.622098</td>\n",
       "      <td>1252.099842</td>\n",
       "      <td>8.563315</td>\n",
       "    </tr>\n",
       "    <tr>\n",
       "      <td>std</td>\n",
       "      <td>278.387019</td>\n",
       "      <td>144.050823</td>\n",
       "      <td>2.788717</td>\n",
       "    </tr>\n",
       "    <tr>\n",
       "      <td>min</td>\n",
       "      <td>0.000000</td>\n",
       "      <td>1000.000000</td>\n",
       "      <td>1.000000</td>\n",
       "    </tr>\n",
       "    <tr>\n",
       "      <td>25%</td>\n",
       "      <td>139.000000</td>\n",
       "      <td>1130.000000</td>\n",
       "      <td>7.000000</td>\n",
       "    </tr>\n",
       "    <tr>\n",
       "      <td>50%</td>\n",
       "      <td>349.000000</td>\n",
       "      <td>1251.000000</td>\n",
       "      <td>9.000000</td>\n",
       "    </tr>\n",
       "    <tr>\n",
       "      <td>75%</td>\n",
       "      <td>560.000000</td>\n",
       "      <td>1380.000000</td>\n",
       "      <td>11.000000</td>\n",
       "    </tr>\n",
       "    <tr>\n",
       "      <td>max</td>\n",
       "      <td>1725.000000</td>\n",
       "      <td>1499.000000</td>\n",
       "      <td>12.000000</td>\n",
       "    </tr>\n",
       "  </tbody>\n",
       "</table>\n",
       "</div>"
      ],
      "text/plain": [
       "             mb_used        user_id          month\n",
       "count  149396.000000  149396.000000  149396.000000\n",
       "mean      370.622098    1252.099842       8.563315\n",
       "std       278.387019     144.050823       2.788717\n",
       "min         0.000000    1000.000000       1.000000\n",
       "25%       139.000000    1130.000000       7.000000\n",
       "50%       349.000000    1251.000000       9.000000\n",
       "75%       560.000000    1380.000000      11.000000\n",
       "max      1725.000000    1499.000000      12.000000"
      ]
     },
     "execution_count": 14,
     "metadata": {},
     "output_type": "execute_result"
    }
   ],
   "source": [
    "#посмотрим описание таблицы\n",
    "internet.describe()"
   ]
  },
  {
   "cell_type": "markdown",
   "metadata": {},
   "source": [
    "Посмотрим на данные в столбце mb_used.\n",
    "Мы можем видеть минимальный, максимальный и средний объем траффика. Медиана и средняя так же не слишком отличаются, а значит можно предполжить, что существенных вбросов по траффику тоже нет."
   ]
  },
  {
   "cell_type": "markdown",
   "metadata": {},
   "source": [
    "### [Таблица №3 - messages (информация о сообщениях)]<a id=\"step_1_3\"></a>"
   ]
  },
  {
   "cell_type": "markdown",
   "metadata": {},
   "source": [
    "[в начало](#toc)"
   ]
  },
  {
   "cell_type": "markdown",
   "metadata": {},
   "source": [
    "Откроем третью таблицу"
   ]
  },
  {
   "cell_type": "code",
   "execution_count": 15,
   "metadata": {},
   "outputs": [
    {
     "data": {
      "text/html": [
       "<div>\n",
       "<style scoped>\n",
       "    .dataframe tbody tr th:only-of-type {\n",
       "        vertical-align: middle;\n",
       "    }\n",
       "\n",
       "    .dataframe tbody tr th {\n",
       "        vertical-align: top;\n",
       "    }\n",
       "\n",
       "    .dataframe thead th {\n",
       "        text-align: right;\n",
       "    }\n",
       "</style>\n",
       "<table border=\"1\" class=\"dataframe\">\n",
       "  <thead>\n",
       "    <tr style=\"text-align: right;\">\n",
       "      <th></th>\n",
       "      <th>id</th>\n",
       "      <th>message_date</th>\n",
       "      <th>user_id</th>\n",
       "    </tr>\n",
       "  </thead>\n",
       "  <tbody>\n",
       "    <tr>\n",
       "      <td>0</td>\n",
       "      <td>1000_0</td>\n",
       "      <td>2018-06-27</td>\n",
       "      <td>1000</td>\n",
       "    </tr>\n",
       "    <tr>\n",
       "      <td>1</td>\n",
       "      <td>1000_1</td>\n",
       "      <td>2018-10-08</td>\n",
       "      <td>1000</td>\n",
       "    </tr>\n",
       "    <tr>\n",
       "      <td>2</td>\n",
       "      <td>1000_2</td>\n",
       "      <td>2018-08-04</td>\n",
       "      <td>1000</td>\n",
       "    </tr>\n",
       "    <tr>\n",
       "      <td>3</td>\n",
       "      <td>1000_3</td>\n",
       "      <td>2018-06-16</td>\n",
       "      <td>1000</td>\n",
       "    </tr>\n",
       "    <tr>\n",
       "      <td>4</td>\n",
       "      <td>1000_4</td>\n",
       "      <td>2018-12-05</td>\n",
       "      <td>1000</td>\n",
       "    </tr>\n",
       "  </tbody>\n",
       "</table>\n",
       "</div>"
      ],
      "text/plain": [
       "       id message_date  user_id\n",
       "0  1000_0   2018-06-27     1000\n",
       "1  1000_1   2018-10-08     1000\n",
       "2  1000_2   2018-08-04     1000\n",
       "3  1000_3   2018-06-16     1000\n",
       "4  1000_4   2018-12-05     1000"
      ]
     },
     "metadata": {},
     "output_type": "display_data"
    },
    {
     "name": "stdout",
     "output_type": "stream",
     "text": [
      "<class 'pandas.core.frame.DataFrame'>\n",
      "RangeIndex: 123036 entries, 0 to 123035\n",
      "Data columns (total 3 columns):\n",
      "id              123036 non-null object\n",
      "message_date    123036 non-null object\n",
      "user_id         123036 non-null int64\n",
      "dtypes: int64(1), object(2)\n",
      "memory usage: 2.8+ MB\n"
     ]
    }
   ],
   "source": [
    "messages = pd.read_csv(\"/datasets/messages.csv\")\n",
    "display(messages.head())\n",
    "messages.info()"
   ]
  },
  {
   "cell_type": "markdown",
   "metadata": {},
   "source": [
    "Таблица <b> messages </b> состоит из 123036 строк и 3х столбцов\n",
    "В ней мы видим следующие наименования столбцов:\n",
    "1. id — уникальный номер сообщения\n",
    "2. message_date — дата сообщения\n",
    "3. user_id — идентификатор пользователя, отправившего сообщение"
   ]
  },
  {
   "cell_type": "markdown",
   "metadata": {},
   "source": [
    "Сформулируем, что нам нужно сделать по таблице messages:\n",
    "1. Переименуем столбец id в более понятное название.\n",
    "2. Переведем данные в столбце с датой в datetime\n",
    "3. Проверим на пропуски\n",
    "4. Посмотрим описание таблицы"
   ]
  },
  {
   "cell_type": "code",
   "execution_count": 16,
   "metadata": {},
   "outputs": [
    {
     "name": "stdout",
     "output_type": "stream",
     "text": [
      "<class 'pandas.core.frame.DataFrame'>\n",
      "RangeIndex: 123036 entries, 0 to 123035\n",
      "Data columns (total 4 columns):\n",
      "message_id      123036 non-null object\n",
      "message_date    123036 non-null datetime64[ns]\n",
      "user_id         123036 non-null int64\n",
      "month           123036 non-null int64\n",
      "dtypes: datetime64[ns](1), int64(2), object(1)\n",
      "memory usage: 3.8+ MB\n"
     ]
    },
    {
     "data": {
      "text/html": [
       "<div>\n",
       "<style scoped>\n",
       "    .dataframe tbody tr th:only-of-type {\n",
       "        vertical-align: middle;\n",
       "    }\n",
       "\n",
       "    .dataframe tbody tr th {\n",
       "        vertical-align: top;\n",
       "    }\n",
       "\n",
       "    .dataframe thead th {\n",
       "        text-align: right;\n",
       "    }\n",
       "</style>\n",
       "<table border=\"1\" class=\"dataframe\">\n",
       "  <thead>\n",
       "    <tr style=\"text-align: right;\">\n",
       "      <th></th>\n",
       "      <th>message_id</th>\n",
       "      <th>message_date</th>\n",
       "      <th>user_id</th>\n",
       "      <th>month</th>\n",
       "    </tr>\n",
       "  </thead>\n",
       "  <tbody>\n",
       "    <tr>\n",
       "      <td>0</td>\n",
       "      <td>1000_0</td>\n",
       "      <td>2018-06-27</td>\n",
       "      <td>1000</td>\n",
       "      <td>6</td>\n",
       "    </tr>\n",
       "    <tr>\n",
       "      <td>1</td>\n",
       "      <td>1000_1</td>\n",
       "      <td>2018-10-08</td>\n",
       "      <td>1000</td>\n",
       "      <td>10</td>\n",
       "    </tr>\n",
       "    <tr>\n",
       "      <td>2</td>\n",
       "      <td>1000_2</td>\n",
       "      <td>2018-08-04</td>\n",
       "      <td>1000</td>\n",
       "      <td>8</td>\n",
       "    </tr>\n",
       "    <tr>\n",
       "      <td>3</td>\n",
       "      <td>1000_3</td>\n",
       "      <td>2018-06-16</td>\n",
       "      <td>1000</td>\n",
       "      <td>6</td>\n",
       "    </tr>\n",
       "    <tr>\n",
       "      <td>4</td>\n",
       "      <td>1000_4</td>\n",
       "      <td>2018-12-05</td>\n",
       "      <td>1000</td>\n",
       "      <td>12</td>\n",
       "    </tr>\n",
       "  </tbody>\n",
       "</table>\n",
       "</div>"
      ],
      "text/plain": [
       "  message_id message_date  user_id  month\n",
       "0     1000_0   2018-06-27     1000      6\n",
       "1     1000_1   2018-10-08     1000     10\n",
       "2     1000_2   2018-08-04     1000      8\n",
       "3     1000_3   2018-06-16     1000      6\n",
       "4     1000_4   2018-12-05     1000     12"
      ]
     },
     "metadata": {},
     "output_type": "display_data"
    },
    {
     "data": {
      "text/html": [
       "<div>\n",
       "<style scoped>\n",
       "    .dataframe tbody tr th:only-of-type {\n",
       "        vertical-align: middle;\n",
       "    }\n",
       "\n",
       "    .dataframe tbody tr th {\n",
       "        vertical-align: top;\n",
       "    }\n",
       "\n",
       "    .dataframe thead th {\n",
       "        text-align: right;\n",
       "    }\n",
       "</style>\n",
       "<table border=\"1\" class=\"dataframe\">\n",
       "  <thead>\n",
       "    <tr style=\"text-align: right;\">\n",
       "      <th></th>\n",
       "      <th>user_id</th>\n",
       "      <th>month</th>\n",
       "    </tr>\n",
       "  </thead>\n",
       "  <tbody>\n",
       "    <tr>\n",
       "      <td>count</td>\n",
       "      <td>123036.000000</td>\n",
       "      <td>123036.000000</td>\n",
       "    </tr>\n",
       "    <tr>\n",
       "      <td>mean</td>\n",
       "      <td>1256.989410</td>\n",
       "      <td>8.632262</td>\n",
       "    </tr>\n",
       "    <tr>\n",
       "      <td>std</td>\n",
       "      <td>143.523967</td>\n",
       "      <td>2.747328</td>\n",
       "    </tr>\n",
       "    <tr>\n",
       "      <td>min</td>\n",
       "      <td>1000.000000</td>\n",
       "      <td>1.000000</td>\n",
       "    </tr>\n",
       "    <tr>\n",
       "      <td>25%</td>\n",
       "      <td>1134.000000</td>\n",
       "      <td>7.000000</td>\n",
       "    </tr>\n",
       "    <tr>\n",
       "      <td>50%</td>\n",
       "      <td>1271.000000</td>\n",
       "      <td>9.000000</td>\n",
       "    </tr>\n",
       "    <tr>\n",
       "      <td>75%</td>\n",
       "      <td>1381.000000</td>\n",
       "      <td>11.000000</td>\n",
       "    </tr>\n",
       "    <tr>\n",
       "      <td>max</td>\n",
       "      <td>1499.000000</td>\n",
       "      <td>12.000000</td>\n",
       "    </tr>\n",
       "  </tbody>\n",
       "</table>\n",
       "</div>"
      ],
      "text/plain": [
       "             user_id          month\n",
       "count  123036.000000  123036.000000\n",
       "mean     1256.989410       8.632262\n",
       "std       143.523967       2.747328\n",
       "min      1000.000000       1.000000\n",
       "25%      1134.000000       7.000000\n",
       "50%      1271.000000       9.000000\n",
       "75%      1381.000000      11.000000\n",
       "max      1499.000000      12.000000"
      ]
     },
     "execution_count": 16,
     "metadata": {},
     "output_type": "execute_result"
    }
   ],
   "source": [
    "#переименуем столбец id:\n",
    "messages.columns = ['message_id', 'message_date', 'user_id']\n",
    "\n",
    "#поменяем тип данных на datetime\n",
    "messages.message_date = pd.to_datetime(messages.message_date)\n",
    "\n",
    "#добавим столбец с месяцем\n",
    "messages['month'] = messages.message_date.dt.month\n",
    "\n",
    "#проверим\n",
    "messages.info()\n",
    "display(messages.head(5))\n",
    "\n",
    "#пропуски\n",
    "messages.isnull().sum()\n",
    "\n",
    "#посмотрим описание таблицы\n",
    "messages.describe()"
   ]
  },
  {
   "cell_type": "code",
   "execution_count": 17,
   "metadata": {},
   "outputs": [
    {
     "data": {
      "text/plain": [
       "0"
      ]
     },
     "execution_count": 17,
     "metadata": {},
     "output_type": "execute_result"
    }
   ],
   "source": [
    "messages.duplicated().sum()"
   ]
  },
  {
   "cell_type": "markdown",
   "metadata": {},
   "source": [
    "Пропуски и дубликаты отсутствуют"
   ]
  },
  {
   "cell_type": "markdown",
   "metadata": {},
   "source": [
    "### [Таблица №4  - tariffs (информация о тарифах)]<a id=\"step_1_4\"></a>"
   ]
  },
  {
   "cell_type": "markdown",
   "metadata": {},
   "source": [
    "[в начало](#toc)"
   ]
  },
  {
   "cell_type": "code",
   "execution_count": 18,
   "metadata": {},
   "outputs": [
    {
     "data": {
      "text/html": [
       "<div>\n",
       "<style scoped>\n",
       "    .dataframe tbody tr th:only-of-type {\n",
       "        vertical-align: middle;\n",
       "    }\n",
       "\n",
       "    .dataframe tbody tr th {\n",
       "        vertical-align: top;\n",
       "    }\n",
       "\n",
       "    .dataframe thead th {\n",
       "        text-align: right;\n",
       "    }\n",
       "</style>\n",
       "<table border=\"1\" class=\"dataframe\">\n",
       "  <thead>\n",
       "    <tr style=\"text-align: right;\">\n",
       "      <th></th>\n",
       "      <th>messages_included</th>\n",
       "      <th>mb_per_month_included</th>\n",
       "      <th>minutes_included</th>\n",
       "      <th>rub_monthly_fee</th>\n",
       "      <th>rub_per_gb</th>\n",
       "      <th>rub_per_message</th>\n",
       "      <th>rub_per_minute</th>\n",
       "      <th>tariff_name</th>\n",
       "    </tr>\n",
       "  </thead>\n",
       "  <tbody>\n",
       "    <tr>\n",
       "      <td>0</td>\n",
       "      <td>50</td>\n",
       "      <td>15360</td>\n",
       "      <td>500</td>\n",
       "      <td>550</td>\n",
       "      <td>200</td>\n",
       "      <td>3</td>\n",
       "      <td>3</td>\n",
       "      <td>smart</td>\n",
       "    </tr>\n",
       "    <tr>\n",
       "      <td>1</td>\n",
       "      <td>1000</td>\n",
       "      <td>30720</td>\n",
       "      <td>3000</td>\n",
       "      <td>1950</td>\n",
       "      <td>150</td>\n",
       "      <td>1</td>\n",
       "      <td>1</td>\n",
       "      <td>ultra</td>\n",
       "    </tr>\n",
       "  </tbody>\n",
       "</table>\n",
       "</div>"
      ],
      "text/plain": [
       "   messages_included  mb_per_month_included  minutes_included  \\\n",
       "0                 50                  15360               500   \n",
       "1               1000                  30720              3000   \n",
       "\n",
       "   rub_monthly_fee  rub_per_gb  rub_per_message  rub_per_minute tariff_name  \n",
       "0              550         200                3               3       smart  \n",
       "1             1950         150                1               1       ultra  "
      ]
     },
     "metadata": {},
     "output_type": "display_data"
    },
    {
     "name": "stdout",
     "output_type": "stream",
     "text": [
      "<class 'pandas.core.frame.DataFrame'>\n",
      "RangeIndex: 2 entries, 0 to 1\n",
      "Data columns (total 8 columns):\n",
      "messages_included        2 non-null int64\n",
      "mb_per_month_included    2 non-null int64\n",
      "minutes_included         2 non-null int64\n",
      "rub_monthly_fee          2 non-null int64\n",
      "rub_per_gb               2 non-null int64\n",
      "rub_per_message          2 non-null int64\n",
      "rub_per_minute           2 non-null int64\n",
      "tariff_name              2 non-null object\n",
      "dtypes: int64(7), object(1)\n",
      "memory usage: 256.0+ bytes\n"
     ]
    }
   ],
   "source": [
    "tariffs = pd.read_csv(\"/datasets/tariffs.csv\")\n",
    "display(tariffs.head())\n",
    "tariffs.info()"
   ]
  },
  {
   "cell_type": "markdown",
   "metadata": {},
   "source": [
    "Наименования столбцов:\n",
    "\n",
    "1. tariff_name — название тарифа\n",
    "2. rub_monthly_fee — ежемесячная абонентская плата в рублях\n",
    "3. minutes_included — количество минут разговора в месяц, включённых в абонентскую плату\n",
    "4. messages_included — количество сообщений в месяц, включённых в абонентскую плату\n",
    "5. mb_per_month_included — объём интернет-трафика, включённого в абонентскую плату (в мегабайтах)\n",
    "6. rub_per_minute — стоимость минуты разговора сверх тарифного пакета (например, если в тарифе 100 минут разговора в месяц, то со 101 минуты будет взиматься плата)\n",
    "7. rub_per_message — стоимость отправки сообщения сверх тарифного пакета\n",
    "8. rub_per_gb — стоимость дополнительного гигабайта интернет-трафика сверх тарифного пакета (1 гигабайт = 1024 мегабайта)\n"
   ]
  },
  {
   "cell_type": "markdown",
   "metadata": {},
   "source": [
    "Заменим название столбца traiff_name на tariff"
   ]
  },
  {
   "cell_type": "code",
   "execution_count": 19,
   "metadata": {},
   "outputs": [],
   "source": [
    "tariffs.columns = ['messages_included', 'mb_per_month_included', 'minutes_included', 'rub_monthly_fee', 'rub_per_gb', 'rub_per_message', 'rub_per_minute', 'tariff']"
   ]
  },
  {
   "cell_type": "code",
   "execution_count": 20,
   "metadata": {},
   "outputs": [
    {
     "data": {
      "text/html": [
       "<div>\n",
       "<style scoped>\n",
       "    .dataframe tbody tr th:only-of-type {\n",
       "        vertical-align: middle;\n",
       "    }\n",
       "\n",
       "    .dataframe tbody tr th {\n",
       "        vertical-align: top;\n",
       "    }\n",
       "\n",
       "    .dataframe thead th {\n",
       "        text-align: right;\n",
       "    }\n",
       "</style>\n",
       "<table border=\"1\" class=\"dataframe\">\n",
       "  <thead>\n",
       "    <tr style=\"text-align: right;\">\n",
       "      <th></th>\n",
       "      <th>messages_included</th>\n",
       "      <th>mb_per_month_included</th>\n",
       "      <th>minutes_included</th>\n",
       "      <th>rub_monthly_fee</th>\n",
       "      <th>rub_per_gb</th>\n",
       "      <th>rub_per_message</th>\n",
       "      <th>rub_per_minute</th>\n",
       "      <th>tariff</th>\n",
       "    </tr>\n",
       "  </thead>\n",
       "  <tbody>\n",
       "    <tr>\n",
       "      <td>0</td>\n",
       "      <td>50</td>\n",
       "      <td>15360</td>\n",
       "      <td>500</td>\n",
       "      <td>550</td>\n",
       "      <td>200</td>\n",
       "      <td>3</td>\n",
       "      <td>3</td>\n",
       "      <td>smart</td>\n",
       "    </tr>\n",
       "    <tr>\n",
       "      <td>1</td>\n",
       "      <td>1000</td>\n",
       "      <td>30720</td>\n",
       "      <td>3000</td>\n",
       "      <td>1950</td>\n",
       "      <td>150</td>\n",
       "      <td>1</td>\n",
       "      <td>1</td>\n",
       "      <td>ultra</td>\n",
       "    </tr>\n",
       "  </tbody>\n",
       "</table>\n",
       "</div>"
      ],
      "text/plain": [
       "   messages_included  mb_per_month_included  minutes_included  \\\n",
       "0                 50                  15360               500   \n",
       "1               1000                  30720              3000   \n",
       "\n",
       "   rub_monthly_fee  rub_per_gb  rub_per_message  rub_per_minute tariff  \n",
       "0              550         200                3               3  smart  \n",
       "1             1950         150                1               1  ultra  "
      ]
     },
     "metadata": {},
     "output_type": "display_data"
    }
   ],
   "source": [
    "display(tariffs.head())"
   ]
  },
  {
   "cell_type": "markdown",
   "metadata": {},
   "source": [
    "### [Таблица №5  - users (информация о пользователях)]<a id=\"step_1_5\"></a>"
   ]
  },
  {
   "cell_type": "markdown",
   "metadata": {},
   "source": [
    "[в начало](#toc)"
   ]
  },
  {
   "cell_type": "code",
   "execution_count": 21,
   "metadata": {},
   "outputs": [
    {
     "data": {
      "text/html": [
       "<div>\n",
       "<style scoped>\n",
       "    .dataframe tbody tr th:only-of-type {\n",
       "        vertical-align: middle;\n",
       "    }\n",
       "\n",
       "    .dataframe tbody tr th {\n",
       "        vertical-align: top;\n",
       "    }\n",
       "\n",
       "    .dataframe thead th {\n",
       "        text-align: right;\n",
       "    }\n",
       "</style>\n",
       "<table border=\"1\" class=\"dataframe\">\n",
       "  <thead>\n",
       "    <tr style=\"text-align: right;\">\n",
       "      <th></th>\n",
       "      <th>user_id</th>\n",
       "      <th>age</th>\n",
       "      <th>churn_date</th>\n",
       "      <th>city</th>\n",
       "      <th>first_name</th>\n",
       "      <th>last_name</th>\n",
       "      <th>reg_date</th>\n",
       "      <th>tariff</th>\n",
       "    </tr>\n",
       "  </thead>\n",
       "  <tbody>\n",
       "    <tr>\n",
       "      <td>0</td>\n",
       "      <td>1000</td>\n",
       "      <td>52</td>\n",
       "      <td>NaN</td>\n",
       "      <td>Краснодар</td>\n",
       "      <td>Рафаил</td>\n",
       "      <td>Верещагин</td>\n",
       "      <td>2018-05-25</td>\n",
       "      <td>ultra</td>\n",
       "    </tr>\n",
       "    <tr>\n",
       "      <td>1</td>\n",
       "      <td>1001</td>\n",
       "      <td>41</td>\n",
       "      <td>NaN</td>\n",
       "      <td>Москва</td>\n",
       "      <td>Иван</td>\n",
       "      <td>Ежов</td>\n",
       "      <td>2018-11-01</td>\n",
       "      <td>smart</td>\n",
       "    </tr>\n",
       "    <tr>\n",
       "      <td>2</td>\n",
       "      <td>1002</td>\n",
       "      <td>59</td>\n",
       "      <td>NaN</td>\n",
       "      <td>Стерлитамак</td>\n",
       "      <td>Евгений</td>\n",
       "      <td>Абрамович</td>\n",
       "      <td>2018-06-17</td>\n",
       "      <td>smart</td>\n",
       "    </tr>\n",
       "    <tr>\n",
       "      <td>3</td>\n",
       "      <td>1003</td>\n",
       "      <td>23</td>\n",
       "      <td>NaN</td>\n",
       "      <td>Москва</td>\n",
       "      <td>Белла</td>\n",
       "      <td>Белякова</td>\n",
       "      <td>2018-08-17</td>\n",
       "      <td>ultra</td>\n",
       "    </tr>\n",
       "    <tr>\n",
       "      <td>4</td>\n",
       "      <td>1004</td>\n",
       "      <td>68</td>\n",
       "      <td>NaN</td>\n",
       "      <td>Новокузнецк</td>\n",
       "      <td>Татьяна</td>\n",
       "      <td>Авдеенко</td>\n",
       "      <td>2018-05-14</td>\n",
       "      <td>ultra</td>\n",
       "    </tr>\n",
       "  </tbody>\n",
       "</table>\n",
       "</div>"
      ],
      "text/plain": [
       "   user_id  age churn_date         city first_name  last_name    reg_date  \\\n",
       "0     1000   52        NaN    Краснодар     Рафаил  Верещагин  2018-05-25   \n",
       "1     1001   41        NaN       Москва       Иван       Ежов  2018-11-01   \n",
       "2     1002   59        NaN  Стерлитамак    Евгений  Абрамович  2018-06-17   \n",
       "3     1003   23        NaN       Москва      Белла   Белякова  2018-08-17   \n",
       "4     1004   68        NaN  Новокузнецк    Татьяна   Авдеенко  2018-05-14   \n",
       "\n",
       "  tariff  \n",
       "0  ultra  \n",
       "1  smart  \n",
       "2  smart  \n",
       "3  ultra  \n",
       "4  ultra  "
      ]
     },
     "metadata": {},
     "output_type": "display_data"
    },
    {
     "name": "stdout",
     "output_type": "stream",
     "text": [
      "<class 'pandas.core.frame.DataFrame'>\n",
      "RangeIndex: 500 entries, 0 to 499\n",
      "Data columns (total 8 columns):\n",
      "user_id       500 non-null int64\n",
      "age           500 non-null int64\n",
      "churn_date    38 non-null object\n",
      "city          500 non-null object\n",
      "first_name    500 non-null object\n",
      "last_name     500 non-null object\n",
      "reg_date      500 non-null object\n",
      "tariff        500 non-null object\n",
      "dtypes: int64(2), object(6)\n",
      "memory usage: 31.4+ KB\n"
     ]
    }
   ],
   "source": [
    "users = pd.read_csv(\"/datasets/users.csv\")\n",
    "display(users.head())\n",
    "users.info()"
   ]
  },
  {
   "cell_type": "markdown",
   "metadata": {},
   "source": [
    "Таблица состоит из 500 строк и 8 столбцов.\n",
    "Наименования столбцов:\n",
    "\n",
    "1. user_id — уникальный идентификатор пользователя\n",
    "2. first_name — имя пользователя\n",
    "3. last_name — фамилия пользователя\n",
    "4. age — возраст пользователя (годы)\n",
    "5. reg_date — дата подключения тарифа (день, месяц, год)\n",
    "6. churn_date — дата прекращения пользования тарифом (если значение пропущено, то тариф ещё действовал на момент выгрузки данных)\n",
    "7. city — город проживания пользователя\n",
    "8. tariff — название тарифного плана\n",
    "\n",
    "Мы видим очень много пропусков в столбце churn_date, это означает, что большинство клиентов пользуются тарифом до сих пор."
   ]
  },
  {
   "cell_type": "code",
   "execution_count": 22,
   "metadata": {},
   "outputs": [
    {
     "data": {
      "text/plain": [
       "0"
      ]
     },
     "execution_count": 22,
     "metadata": {},
     "output_type": "execute_result"
    }
   ],
   "source": [
    "users.duplicated().sum()"
   ]
  },
  {
   "cell_type": "markdown",
   "metadata": {},
   "source": [
    "Заменим тип данных"
   ]
  },
  {
   "cell_type": "code",
   "execution_count": 23,
   "metadata": {},
   "outputs": [],
   "source": [
    "users.churn_date = pd.to_datetime(users.churn_date)\n",
    "users.reg_date = pd.to_datetime(users.reg_date)"
   ]
  },
  {
   "cell_type": "markdown",
   "metadata": {},
   "source": [
    "Добавим столбцы с месяцами начала и с месяцами окончания пользования тарифом"
   ]
  },
  {
   "cell_type": "code",
   "execution_count": 24,
   "metadata": {},
   "outputs": [],
   "source": [
    "#добавляем столбцы с месяцами\n",
    "users['reg_date'] = pd.DatetimeIndex(users['reg_date']).month\n",
    "users['churn_date'] = pd.DatetimeIndex(users['churn_date']).month"
   ]
  },
  {
   "cell_type": "code",
   "execution_count": 25,
   "metadata": {},
   "outputs": [
    {
     "data": {
      "text/html": [
       "<div>\n",
       "<style scoped>\n",
       "    .dataframe tbody tr th:only-of-type {\n",
       "        vertical-align: middle;\n",
       "    }\n",
       "\n",
       "    .dataframe tbody tr th {\n",
       "        vertical-align: top;\n",
       "    }\n",
       "\n",
       "    .dataframe thead th {\n",
       "        text-align: right;\n",
       "    }\n",
       "</style>\n",
       "<table border=\"1\" class=\"dataframe\">\n",
       "  <thead>\n",
       "    <tr style=\"text-align: right;\">\n",
       "      <th></th>\n",
       "      <th>user_id</th>\n",
       "      <th>age</th>\n",
       "      <th>churn_date</th>\n",
       "      <th>city</th>\n",
       "      <th>first_name</th>\n",
       "      <th>last_name</th>\n",
       "      <th>reg_date</th>\n",
       "      <th>tariff</th>\n",
       "      <th>day_duration_of_use</th>\n",
       "    </tr>\n",
       "  </thead>\n",
       "  <tbody>\n",
       "    <tr>\n",
       "      <td>0</td>\n",
       "      <td>1000</td>\n",
       "      <td>52</td>\n",
       "      <td>NaN</td>\n",
       "      <td>Краснодар</td>\n",
       "      <td>Рафаил</td>\n",
       "      <td>Верещагин</td>\n",
       "      <td>5</td>\n",
       "      <td>ultra</td>\n",
       "      <td>NaN</td>\n",
       "    </tr>\n",
       "    <tr>\n",
       "      <td>1</td>\n",
       "      <td>1001</td>\n",
       "      <td>41</td>\n",
       "      <td>NaN</td>\n",
       "      <td>Москва</td>\n",
       "      <td>Иван</td>\n",
       "      <td>Ежов</td>\n",
       "      <td>11</td>\n",
       "      <td>smart</td>\n",
       "      <td>NaN</td>\n",
       "    </tr>\n",
       "    <tr>\n",
       "      <td>2</td>\n",
       "      <td>1002</td>\n",
       "      <td>59</td>\n",
       "      <td>NaN</td>\n",
       "      <td>Стерлитамак</td>\n",
       "      <td>Евгений</td>\n",
       "      <td>Абрамович</td>\n",
       "      <td>6</td>\n",
       "      <td>smart</td>\n",
       "      <td>NaN</td>\n",
       "    </tr>\n",
       "    <tr>\n",
       "      <td>3</td>\n",
       "      <td>1003</td>\n",
       "      <td>23</td>\n",
       "      <td>NaN</td>\n",
       "      <td>Москва</td>\n",
       "      <td>Белла</td>\n",
       "      <td>Белякова</td>\n",
       "      <td>8</td>\n",
       "      <td>ultra</td>\n",
       "      <td>NaN</td>\n",
       "    </tr>\n",
       "    <tr>\n",
       "      <td>4</td>\n",
       "      <td>1004</td>\n",
       "      <td>68</td>\n",
       "      <td>NaN</td>\n",
       "      <td>Новокузнецк</td>\n",
       "      <td>Татьяна</td>\n",
       "      <td>Авдеенко</td>\n",
       "      <td>5</td>\n",
       "      <td>ultra</td>\n",
       "      <td>NaN</td>\n",
       "    </tr>\n",
       "  </tbody>\n",
       "</table>\n",
       "</div>"
      ],
      "text/plain": [
       "   user_id  age  churn_date         city first_name  last_name  reg_date  \\\n",
       "0     1000   52         NaN    Краснодар     Рафаил  Верещагин         5   \n",
       "1     1001   41         NaN       Москва       Иван       Ежов        11   \n",
       "2     1002   59         NaN  Стерлитамак    Евгений  Абрамович         6   \n",
       "3     1003   23         NaN       Москва      Белла   Белякова         8   \n",
       "4     1004   68         NaN  Новокузнецк    Татьяна   Авдеенко         5   \n",
       "\n",
       "  tariff  day_duration_of_use  \n",
       "0  ultra                  NaN  \n",
       "1  smart                  NaN  \n",
       "2  smart                  NaN  \n",
       "3  ultra                  NaN  \n",
       "4  ultra                  NaN  "
      ]
     },
     "metadata": {},
     "output_type": "display_data"
    }
   ],
   "source": [
    "#рассчитаем длительность пользования тарифом\n",
    "users['day_duration_of_use'] = users['churn_date'] - users['reg_date']\n",
    "display(users.head())"
   ]
  },
  {
   "cell_type": "code",
   "execution_count": 26,
   "metadata": {},
   "outputs": [
    {
     "name": "stdout",
     "output_type": "stream",
     "text": [
      "<class 'pandas.core.frame.DataFrame'>\n",
      "RangeIndex: 500 entries, 0 to 499\n",
      "Data columns (total 9 columns):\n",
      "user_id                500 non-null int64\n",
      "age                    500 non-null int64\n",
      "churn_date             38 non-null float64\n",
      "city                   500 non-null object\n",
      "first_name             500 non-null object\n",
      "last_name              500 non-null object\n",
      "reg_date               500 non-null int64\n",
      "tariff                 500 non-null object\n",
      "day_duration_of_use    38 non-null float64\n",
      "dtypes: float64(2), int64(3), object(4)\n",
      "memory usage: 35.3+ KB\n"
     ]
    }
   ],
   "source": [
    "users.info()"
   ]
  },
  {
   "cell_type": "markdown",
   "metadata": {},
   "source": [
    "### [Шаг 1. Вывод]<a id=\"step_11\"></a>"
   ]
  },
  {
   "cell_type": "markdown",
   "metadata": {},
   "source": [
    "[в начало](#toc)"
   ]
  },
  {
   "cell_type": "markdown",
   "metadata": {},
   "source": [
    "Мы рассмотрели 5 таблиц от 500 до 202607 строк, в которых содержится информация о пользователях сотового оператора. Мы проверили таблицы на пропуски и дубликаты, переименовали неудобные, похожие друг на друга названия столбцов, чтобы далее при исследовании данных не запутаться. Так же мы изменили формат данных, там, где это требовалось."
   ]
  },
  {
   "cell_type": "markdown",
   "metadata": {},
   "source": [
    "### [Шаг 2. Предобработка и изучение данных. Расчеты для каждого пользователя]<a id=\"step_2\"></a>"
   ]
  },
  {
   "cell_type": "markdown",
   "metadata": {},
   "source": [
    "Проведем расчеты для каждого пользователя"
   ]
  },
  {
   "cell_type": "markdown",
   "metadata": {},
   "source": [
    "### [2.1. Количество сделанных звонков и израсходованных минут разговора по месяцам]<a id=\"step_2.1\"></a>"
   ]
  },
  {
   "cell_type": "markdown",
   "metadata": {},
   "source": [
    "[в начало](#toc)"
   ]
  },
  {
   "cell_type": "markdown",
   "metadata": {},
   "source": [
    "Сгруппируем данные."
   ]
  },
  {
   "cell_type": "code",
   "execution_count": 27,
   "metadata": {},
   "outputs": [
    {
     "data": {
      "text/html": [
       "<div>\n",
       "<style scoped>\n",
       "    .dataframe tbody tr th:only-of-type {\n",
       "        vertical-align: middle;\n",
       "    }\n",
       "\n",
       "    .dataframe tbody tr th {\n",
       "        vertical-align: top;\n",
       "    }\n",
       "\n",
       "    .dataframe thead th {\n",
       "        text-align: right;\n",
       "    }\n",
       "</style>\n",
       "<table border=\"1\" class=\"dataframe\">\n",
       "  <thead>\n",
       "    <tr style=\"text-align: right;\">\n",
       "      <th></th>\n",
       "      <th>user_id</th>\n",
       "      <th>month</th>\n",
       "      <th>calls_count</th>\n",
       "      <th>calls_duration</th>\n",
       "    </tr>\n",
       "  </thead>\n",
       "  <tbody>\n",
       "    <tr>\n",
       "      <td>0</td>\n",
       "      <td>1000</td>\n",
       "      <td>5</td>\n",
       "      <td>22</td>\n",
       "      <td>164</td>\n",
       "    </tr>\n",
       "    <tr>\n",
       "      <td>1</td>\n",
       "      <td>1000</td>\n",
       "      <td>6</td>\n",
       "      <td>43</td>\n",
       "      <td>187</td>\n",
       "    </tr>\n",
       "    <tr>\n",
       "      <td>2</td>\n",
       "      <td>1000</td>\n",
       "      <td>7</td>\n",
       "      <td>47</td>\n",
       "      <td>346</td>\n",
       "    </tr>\n",
       "    <tr>\n",
       "      <td>3</td>\n",
       "      <td>1000</td>\n",
       "      <td>8</td>\n",
       "      <td>52</td>\n",
       "      <td>418</td>\n",
       "    </tr>\n",
       "    <tr>\n",
       "      <td>4</td>\n",
       "      <td>1000</td>\n",
       "      <td>9</td>\n",
       "      <td>58</td>\n",
       "      <td>478</td>\n",
       "    </tr>\n",
       "  </tbody>\n",
       "</table>\n",
       "</div>"
      ],
      "text/plain": [
       "   user_id  month  calls_count  calls_duration\n",
       "0     1000      5           22             164\n",
       "1     1000      6           43             187\n",
       "2     1000      7           47             346\n",
       "3     1000      8           52             418\n",
       "4     1000      9           58             478"
      ]
     },
     "metadata": {},
     "output_type": "display_data"
    }
   ],
   "source": [
    "#cгруппируем данные по пользователям и месяцам, посчитав при этом по столбцу duration количество звонков и сумму минут \n",
    "#поскольку далее нам нужно будет объединять несколько сгруппированных таблиц, то сразу удалили индекс - .reset_index()\n",
    "\n",
    "calls_group = calls.groupby(['user_id','month']).agg({'duration': ['count', 'sum']}).reset_index()\n",
    "calls_group.columns = ['user_id', 'month', 'calls_count', 'calls_duration']\n",
    "display(calls_group.head())"
   ]
  },
  {
   "cell_type": "markdown",
   "metadata": {},
   "source": [
    "У нас слишком много user_id (500 пользователей), чтобы сделать наглядный график с разбивкой для каждого пользователя по месяцам. Поэтому сделаем сводную таблицу для более наглядного результата общей длительности звонков по месяцам"
   ]
  },
  {
   "cell_type": "code",
   "execution_count": 28,
   "metadata": {},
   "outputs": [
    {
     "data": {
      "text/html": [
       "<div>\n",
       "<style scoped>\n",
       "    .dataframe tbody tr th:only-of-type {\n",
       "        vertical-align: middle;\n",
       "    }\n",
       "\n",
       "    .dataframe tbody tr th {\n",
       "        vertical-align: top;\n",
       "    }\n",
       "\n",
       "    .dataframe thead th {\n",
       "        text-align: right;\n",
       "    }\n",
       "</style>\n",
       "<table border=\"1\" class=\"dataframe\">\n",
       "  <thead>\n",
       "    <tr style=\"text-align: right;\">\n",
       "      <th></th>\n",
       "      <th>calls_duration</th>\n",
       "    </tr>\n",
       "    <tr>\n",
       "      <th>month</th>\n",
       "      <th></th>\n",
       "    </tr>\n",
       "  </thead>\n",
       "  <tbody>\n",
       "    <tr>\n",
       "      <td>1</td>\n",
       "      <td>11096</td>\n",
       "    </tr>\n",
       "    <tr>\n",
       "      <td>2</td>\n",
       "      <td>25078</td>\n",
       "    </tr>\n",
       "    <tr>\n",
       "      <td>3</td>\n",
       "      <td>49455</td>\n",
       "    </tr>\n",
       "    <tr>\n",
       "      <td>4</td>\n",
       "      <td>68078</td>\n",
       "    </tr>\n",
       "    <tr>\n",
       "      <td>5</td>\n",
       "      <td>91341</td>\n",
       "    </tr>\n",
       "    <tr>\n",
       "      <td>6</td>\n",
       "      <td>108063</td>\n",
       "    </tr>\n",
       "    <tr>\n",
       "      <td>7</td>\n",
       "      <td>135264</td>\n",
       "    </tr>\n",
       "    <tr>\n",
       "      <td>8</td>\n",
       "      <td>157929</td>\n",
       "    </tr>\n",
       "    <tr>\n",
       "      <td>9</td>\n",
       "      <td>178090</td>\n",
       "    </tr>\n",
       "    <tr>\n",
       "      <td>10</td>\n",
       "      <td>199317</td>\n",
       "    </tr>\n",
       "    <tr>\n",
       "      <td>11</td>\n",
       "      <td>215926</td>\n",
       "    </tr>\n",
       "    <tr>\n",
       "      <td>12</td>\n",
       "      <td>250277</td>\n",
       "    </tr>\n",
       "  </tbody>\n",
       "</table>\n",
       "</div>"
      ],
      "text/plain": [
       "       calls_duration\n",
       "month                \n",
       "1               11096\n",
       "2               25078\n",
       "3               49455\n",
       "4               68078\n",
       "5               91341\n",
       "6              108063\n",
       "7              135264\n",
       "8              157929\n",
       "9              178090\n",
       "10             199317\n",
       "11             215926\n",
       "12             250277"
      ]
     },
     "metadata": {},
     "output_type": "display_data"
    }
   ],
   "source": [
    "calls_pivot = calls.pivot_table(index = 'month', values = 'duration', aggfunc = 'sum')\n",
    "calls_pivot.columns = ['calls_duration']\n",
    "display(calls_pivot)"
   ]
  },
  {
   "cell_type": "markdown",
   "metadata": {},
   "source": [
    "Построим график"
   ]
  },
  {
   "cell_type": "code",
   "execution_count": 29,
   "metadata": {},
   "outputs": [
    {
     "data": {
      "image/png": "[encoded data removed]",
      "text/plain": [
       "<Figure size 1440x432 with 1 Axes>"
      ]
     },
     "metadata": {
      "needs_background": "light"
     },
     "output_type": "display_data"
    }
   ],
   "source": [
    "calls_pivot.plot(y = 'calls_duration', grid = True, figsize = (20,6), title = 'Динамика продолжительности звонков по месяцам')\n",
    "plt.xlabel(\"Месяц\")\n",
    "plt.ylabel(\"Продолжительность звонков в минутах\")\n",
    "plt.show()"
   ]
  },
  {
   "cell_type": "markdown",
   "metadata": {},
   "source": [
    "Из графика мы видим, что продолжительность звонков увеличивалось линейно по месяцам. Через 12 месяцев продолжительность звонка увеличилась более,чем в 22 раза.\n",
    "Проанализируем количество звонков."
   ]
  },
  {
   "cell_type": "code",
   "execution_count": 30,
   "metadata": {},
   "outputs": [
    {
     "data": {
      "text/html": [
       "<div>\n",
       "<style scoped>\n",
       "    .dataframe tbody tr th:only-of-type {\n",
       "        vertical-align: middle;\n",
       "    }\n",
       "\n",
       "    .dataframe tbody tr th {\n",
       "        vertical-align: top;\n",
       "    }\n",
       "\n",
       "    .dataframe thead th {\n",
       "        text-align: right;\n",
       "    }\n",
       "</style>\n",
       "<table border=\"1\" class=\"dataframe\">\n",
       "  <thead>\n",
       "    <tr style=\"text-align: right;\">\n",
       "      <th></th>\n",
       "      <th>calls_count</th>\n",
       "    </tr>\n",
       "    <tr>\n",
       "      <th>month</th>\n",
       "      <th></th>\n",
       "    </tr>\n",
       "  </thead>\n",
       "  <tbody>\n",
       "    <tr>\n",
       "      <td>1</td>\n",
       "      <td>1476</td>\n",
       "    </tr>\n",
       "    <tr>\n",
       "      <td>2</td>\n",
       "      <td>3328</td>\n",
       "    </tr>\n",
       "    <tr>\n",
       "      <td>3</td>\n",
       "      <td>6687</td>\n",
       "    </tr>\n",
       "    <tr>\n",
       "      <td>4</td>\n",
       "      <td>9272</td>\n",
       "    </tr>\n",
       "    <tr>\n",
       "      <td>5</td>\n",
       "      <td>12647</td>\n",
       "    </tr>\n",
       "    <tr>\n",
       "      <td>6</td>\n",
       "      <td>14716</td>\n",
       "    </tr>\n",
       "    <tr>\n",
       "      <td>7</td>\n",
       "      <td>18298</td>\n",
       "    </tr>\n",
       "    <tr>\n",
       "      <td>8</td>\n",
       "      <td>21488</td>\n",
       "    </tr>\n",
       "    <tr>\n",
       "      <td>9</td>\n",
       "      <td>24061</td>\n",
       "    </tr>\n",
       "    <tr>\n",
       "      <td>10</td>\n",
       "      <td>27146</td>\n",
       "    </tr>\n",
       "    <tr>\n",
       "      <td>11</td>\n",
       "      <td>29501</td>\n",
       "    </tr>\n",
       "    <tr>\n",
       "      <td>12</td>\n",
       "      <td>33987</td>\n",
       "    </tr>\n",
       "  </tbody>\n",
       "</table>\n",
       "</div>"
      ],
      "text/plain": [
       "       calls_count\n",
       "month             \n",
       "1             1476\n",
       "2             3328\n",
       "3             6687\n",
       "4             9272\n",
       "5            12647\n",
       "6            14716\n",
       "7            18298\n",
       "8            21488\n",
       "9            24061\n",
       "10           27146\n",
       "11           29501\n",
       "12           33987"
      ]
     },
     "metadata": {},
     "output_type": "display_data"
    }
   ],
   "source": [
    "calls_pivot_count = calls.pivot_table(index = 'month', values = 'duration', aggfunc = 'count')\n",
    "calls_pivot_count.columns = ['calls_count']\n",
    "display(calls_pivot_count)"
   ]
  },
  {
   "cell_type": "code",
   "execution_count": 31,
   "metadata": {},
   "outputs": [
    {
     "data": {
      "image/png": "[encoded data removed]",
      "text/plain": [
       "<Figure size 1440x432 with 1 Axes>"
      ]
     },
     "metadata": {
      "needs_background": "light"
     },
     "output_type": "display_data"
    }
   ],
   "source": [
    "calls_pivot_count.plot(y = 'calls_count', grid = True, figsize = (20,6), title = 'Динамика изменения количества звонков по месяцам')\n",
    "plt.xlabel(\"Месяц\")\n",
    "plt.ylabel(\"Количество звонков\")\n",
    "plt.show()"
   ]
  },
  {
   "cell_type": "markdown",
   "metadata": {},
   "source": [
    "Здесь тоже самое, мы видим, что количество звонков выросло за 12 месяцев очень существенно - в 23,5 раза."
   ]
  },
  {
   "cell_type": "markdown",
   "metadata": {},
   "source": [
    "### [2.2 Количество отправленных сообщений по месяцам]<a id=\"step_2.2\">"
   ]
  },
  {
   "cell_type": "markdown",
   "metadata": {},
   "source": [
    "[в начало](#toc)"
   ]
  },
  {
   "cell_type": "markdown",
   "metadata": {},
   "source": [
    "Сгруппируем данные, чтобы увидеть количество сообщений для каждого пользователя по месяцам"
   ]
  },
  {
   "cell_type": "code",
   "execution_count": 32,
   "metadata": {},
   "outputs": [
    {
     "data": {
      "text/html": [
       "<div>\n",
       "<style scoped>\n",
       "    .dataframe tbody tr th:only-of-type {\n",
       "        vertical-align: middle;\n",
       "    }\n",
       "\n",
       "    .dataframe tbody tr th {\n",
       "        vertical-align: top;\n",
       "    }\n",
       "\n",
       "    .dataframe thead th {\n",
       "        text-align: right;\n",
       "    }\n",
       "</style>\n",
       "<table border=\"1\" class=\"dataframe\">\n",
       "  <thead>\n",
       "    <tr style=\"text-align: right;\">\n",
       "      <th></th>\n",
       "      <th>user_id</th>\n",
       "      <th>month</th>\n",
       "      <th>message_count</th>\n",
       "    </tr>\n",
       "  </thead>\n",
       "  <tbody>\n",
       "    <tr>\n",
       "      <td>0</td>\n",
       "      <td>1000</td>\n",
       "      <td>5</td>\n",
       "      <td>22</td>\n",
       "    </tr>\n",
       "    <tr>\n",
       "      <td>1</td>\n",
       "      <td>1000</td>\n",
       "      <td>6</td>\n",
       "      <td>60</td>\n",
       "    </tr>\n",
       "    <tr>\n",
       "      <td>2</td>\n",
       "      <td>1000</td>\n",
       "      <td>7</td>\n",
       "      <td>75</td>\n",
       "    </tr>\n",
       "    <tr>\n",
       "      <td>3</td>\n",
       "      <td>1000</td>\n",
       "      <td>8</td>\n",
       "      <td>81</td>\n",
       "    </tr>\n",
       "    <tr>\n",
       "      <td>4</td>\n",
       "      <td>1000</td>\n",
       "      <td>9</td>\n",
       "      <td>57</td>\n",
       "    </tr>\n",
       "    <tr>\n",
       "      <td>5</td>\n",
       "      <td>1000</td>\n",
       "      <td>10</td>\n",
       "      <td>73</td>\n",
       "    </tr>\n",
       "    <tr>\n",
       "      <td>6</td>\n",
       "      <td>1000</td>\n",
       "      <td>11</td>\n",
       "      <td>58</td>\n",
       "    </tr>\n",
       "    <tr>\n",
       "      <td>7</td>\n",
       "      <td>1000</td>\n",
       "      <td>12</td>\n",
       "      <td>70</td>\n",
       "    </tr>\n",
       "    <tr>\n",
       "      <td>8</td>\n",
       "      <td>1002</td>\n",
       "      <td>6</td>\n",
       "      <td>4</td>\n",
       "    </tr>\n",
       "    <tr>\n",
       "      <td>9</td>\n",
       "      <td>1002</td>\n",
       "      <td>7</td>\n",
       "      <td>11</td>\n",
       "    </tr>\n",
       "  </tbody>\n",
       "</table>\n",
       "</div>"
      ],
      "text/plain": [
       "   user_id  month  message_count\n",
       "0     1000      5             22\n",
       "1     1000      6             60\n",
       "2     1000      7             75\n",
       "3     1000      8             81\n",
       "4     1000      9             57\n",
       "5     1000     10             73\n",
       "6     1000     11             58\n",
       "7     1000     12             70\n",
       "8     1002      6              4\n",
       "9     1002      7             11"
      ]
     },
     "metadata": {},
     "output_type": "display_data"
    }
   ],
   "source": [
    "#группируем данные\n",
    "messages_group = messages.groupby(['user_id','month']).agg({'message_date':'count'}).reset_index()\n",
    "messages_group.columns = ['user_id', 'month', 'message_count']\n",
    "\n",
    "#проверяем\n",
    "display(messages_group.head(10))"
   ]
  },
  {
   "cell_type": "markdown",
   "metadata": {},
   "source": [
    "Поскольку пользователей слишком много и график сообщений по месяцам для каждого пользователя не будет информативным, построим для наглядности график сообщениям всех клиентов по месяцам"
   ]
  },
  {
   "cell_type": "code",
   "execution_count": 33,
   "metadata": {},
   "outputs": [
    {
     "data": {
      "image/png": "[encoded data removed]",
      "text/plain": [
       "<Figure size 1440x432 with 1 Axes>"
      ]
     },
     "metadata": {
      "needs_background": "light"
     },
     "output_type": "display_data"
    }
   ],
   "source": [
    "messages_pivot = messages.pivot_table(index = 'month', values = 'message_date', aggfunc = 'count')\n",
    "messages_pivot.plot(y = 'message_date', grid = True, figsize = (20,6), \n",
    "                    title = 'Динамика изменения количества сообщений по месяцам')\n",
    "plt.xlabel(\"Месяц\")\n",
    "plt.ylabel(\"Количество сообщений\")\n",
    "plt.show()\n",
    "#display(messages_pivot)"
   ]
  },
  {
   "cell_type": "markdown",
   "metadata": {},
   "source": [
    "Количество сообщений так же выросло линейно"
   ]
  },
  {
   "cell_type": "markdown",
   "metadata": {},
   "source": [
    "### [2.3. Объем израсходованного интернет-трафика по месяцам]<a id=\"step_2.3\">"
   ]
  },
  {
   "cell_type": "markdown",
   "metadata": {},
   "source": [
    "[в начало](#toc)"
   ]
  },
  {
   "cell_type": "markdown",
   "metadata": {},
   "source": [
    "Посчитаем объем израсходованного трафимка по месяцам для каждого пользователя"
   ]
  },
  {
   "cell_type": "code",
   "execution_count": 34,
   "metadata": {},
   "outputs": [
    {
     "data": {
      "text/html": [
       "<div>\n",
       "<style scoped>\n",
       "    .dataframe tbody tr th:only-of-type {\n",
       "        vertical-align: middle;\n",
       "    }\n",
       "\n",
       "    .dataframe tbody tr th {\n",
       "        vertical-align: top;\n",
       "    }\n",
       "\n",
       "    .dataframe thead th {\n",
       "        text-align: right;\n",
       "    }\n",
       "</style>\n",
       "<table border=\"1\" class=\"dataframe\">\n",
       "  <thead>\n",
       "    <tr style=\"text-align: right;\">\n",
       "      <th></th>\n",
       "      <th>user_id</th>\n",
       "      <th>month</th>\n",
       "      <th>mb_used_sum</th>\n",
       "    </tr>\n",
       "  </thead>\n",
       "  <tbody>\n",
       "    <tr>\n",
       "      <td>0</td>\n",
       "      <td>1000</td>\n",
       "      <td>5</td>\n",
       "      <td>2256</td>\n",
       "    </tr>\n",
       "    <tr>\n",
       "      <td>1</td>\n",
       "      <td>1000</td>\n",
       "      <td>6</td>\n",
       "      <td>23257</td>\n",
       "    </tr>\n",
       "    <tr>\n",
       "      <td>2</td>\n",
       "      <td>1000</td>\n",
       "      <td>7</td>\n",
       "      <td>14016</td>\n",
       "    </tr>\n",
       "    <tr>\n",
       "      <td>3</td>\n",
       "      <td>1000</td>\n",
       "      <td>8</td>\n",
       "      <td>14070</td>\n",
       "    </tr>\n",
       "    <tr>\n",
       "      <td>4</td>\n",
       "      <td>1000</td>\n",
       "      <td>9</td>\n",
       "      <td>14581</td>\n",
       "    </tr>\n",
       "  </tbody>\n",
       "</table>\n",
       "</div>"
      ],
      "text/plain": [
       "   user_id  month  mb_used_sum\n",
       "0     1000      5         2256\n",
       "1     1000      6        23257\n",
       "2     1000      7        14016\n",
       "3     1000      8        14070\n",
       "4     1000      9        14581"
      ]
     },
     "metadata": {},
     "output_type": "display_data"
    }
   ],
   "source": [
    "#делаем сводную таблицу интернет траффика для каждого пользователя по месяцам\n",
    "internet_group = internet.groupby(['user_id', 'month']).agg({'mb_used': 'sum'}).reset_index()\n",
    "internet_group.columns = ['user_id', 'month', 'mb_used_sum']\n",
    "display(internet_group.head())"
   ]
  },
  {
   "cell_type": "markdown",
   "metadata": {},
   "source": [
    "Построим график по объему сообщений"
   ]
  },
  {
   "cell_type": "code",
   "execution_count": 35,
   "metadata": {},
   "outputs": [
    {
     "data": {
      "image/png": "[encoded data removed]",
      "text/plain": [
       "<Figure size 1440x432 with 1 Axes>"
      ]
     },
     "metadata": {
      "needs_background": "light"
     },
     "output_type": "display_data"
    },
    {
     "data": {
      "text/html": [
       "<div>\n",
       "<style scoped>\n",
       "    .dataframe tbody tr th:only-of-type {\n",
       "        vertical-align: middle;\n",
       "    }\n",
       "\n",
       "    .dataframe tbody tr th {\n",
       "        vertical-align: top;\n",
       "    }\n",
       "\n",
       "    .dataframe thead th {\n",
       "        text-align: right;\n",
       "    }\n",
       "</style>\n",
       "<table border=\"1\" class=\"dataframe\">\n",
       "  <thead>\n",
       "    <tr style=\"text-align: right;\">\n",
       "      <th></th>\n",
       "      <th>mb_used</th>\n",
       "    </tr>\n",
       "    <tr>\n",
       "      <th>month</th>\n",
       "      <th></th>\n",
       "    </tr>\n",
       "  </thead>\n",
       "  <tbody>\n",
       "    <tr>\n",
       "      <td>1</td>\n",
       "      <td>408213</td>\n",
       "    </tr>\n",
       "    <tr>\n",
       "      <td>2</td>\n",
       "      <td>956348</td>\n",
       "    </tr>\n",
       "    <tr>\n",
       "      <td>3</td>\n",
       "      <td>1813960</td>\n",
       "    </tr>\n",
       "    <tr>\n",
       "      <td>4</td>\n",
       "      <td>2436111</td>\n",
       "    </tr>\n",
       "    <tr>\n",
       "      <td>5</td>\n",
       "      <td>3529893</td>\n",
       "    </tr>\n",
       "    <tr>\n",
       "      <td>6</td>\n",
       "      <td>4184770</td>\n",
       "    </tr>\n",
       "    <tr>\n",
       "      <td>7</td>\n",
       "      <td>5035299</td>\n",
       "    </tr>\n",
       "    <tr>\n",
       "      <td>8</td>\n",
       "      <td>6005126</td>\n",
       "    </tr>\n",
       "    <tr>\n",
       "      <td>9</td>\n",
       "      <td>6454931</td>\n",
       "    </tr>\n",
       "    <tr>\n",
       "      <td>10</td>\n",
       "      <td>7400754</td>\n",
       "    </tr>\n",
       "    <tr>\n",
       "      <td>11</td>\n",
       "      <td>7999852</td>\n",
       "    </tr>\n",
       "    <tr>\n",
       "      <td>12</td>\n",
       "      <td>9144202</td>\n",
       "    </tr>\n",
       "  </tbody>\n",
       "</table>\n",
       "</div>"
      ],
      "text/plain": [
       "       mb_used\n",
       "month         \n",
       "1       408213\n",
       "2       956348\n",
       "3      1813960\n",
       "4      2436111\n",
       "5      3529893\n",
       "6      4184770\n",
       "7      5035299\n",
       "8      6005126\n",
       "9      6454931\n",
       "10     7400754\n",
       "11     7999852\n",
       "12     9144202"
      ]
     },
     "metadata": {},
     "output_type": "display_data"
    }
   ],
   "source": [
    "internet_pivot = internet.pivot_table(index = 'month', values = 'mb_used', aggfunc = 'sum')\n",
    "internet_pivot.plot(y = 'mb_used', grid = True, figsize = (20,6), \n",
    "                    title = 'Динамика изменения использования траффика по месяцам')\n",
    "plt.xlabel(\"Месяц\")\n",
    "plt.ylabel(\"Количество траффика, мб\")\n",
    "plt.show()\n",
    "display(internet_pivot)"
   ]
  },
  {
   "cell_type": "markdown",
   "metadata": {},
   "source": [
    "Количество траффика так же выросло"
   ]
  },
  {
   "cell_type": "code",
   "execution_count": null,
   "metadata": {},
   "outputs": [],
   "source": []
  },
  {
   "cell_type": "markdown",
   "metadata": {},
   "source": [
    "### [2.4. Выручка с каждого пользователя  по месяцам]<a id=\"step_2.4\"></a>"
   ]
  },
  {
   "cell_type": "markdown",
   "metadata": {},
   "source": [
    "[в начало](#toc)"
   ]
  },
  {
   "cell_type": "markdown",
   "metadata": {},
   "source": [
    "Чтобы посчитать выручку, нам необходимо объединить несколько таблиц"
   ]
  },
  {
   "cell_type": "code",
   "execution_count": 36,
   "metadata": {},
   "outputs": [
    {
     "data": {
      "text/html": [
       "<div>\n",
       "<style scoped>\n",
       "    .dataframe tbody tr th:only-of-type {\n",
       "        vertical-align: middle;\n",
       "    }\n",
       "\n",
       "    .dataframe tbody tr th {\n",
       "        vertical-align: top;\n",
       "    }\n",
       "\n",
       "    .dataframe thead th {\n",
       "        text-align: right;\n",
       "    }\n",
       "</style>\n",
       "<table border=\"1\" class=\"dataframe\">\n",
       "  <thead>\n",
       "    <tr style=\"text-align: right;\">\n",
       "      <th></th>\n",
       "      <th>user_id</th>\n",
       "      <th>month</th>\n",
       "      <th>mb_used</th>\n",
       "      <th>messages</th>\n",
       "      <th>calls_count</th>\n",
       "      <th>calls_duration</th>\n",
       "      <th>reg_date</th>\n",
       "      <th>churn_date</th>\n",
       "      <th>city</th>\n",
       "      <th>tariff</th>\n",
       "      <th>monthly_fee</th>\n",
       "    </tr>\n",
       "  </thead>\n",
       "  <tbody>\n",
       "    <tr>\n",
       "      <td>0</td>\n",
       "      <td>1000</td>\n",
       "      <td>5</td>\n",
       "      <td>2256.0</td>\n",
       "      <td>22.0</td>\n",
       "      <td>22.0</td>\n",
       "      <td>164.0</td>\n",
       "      <td>5</td>\n",
       "      <td>NaN</td>\n",
       "      <td>Краснодар</td>\n",
       "      <td>ultra</td>\n",
       "      <td>1950</td>\n",
       "    </tr>\n",
       "    <tr>\n",
       "      <td>1</td>\n",
       "      <td>1000</td>\n",
       "      <td>6</td>\n",
       "      <td>23257.0</td>\n",
       "      <td>60.0</td>\n",
       "      <td>43.0</td>\n",
       "      <td>187.0</td>\n",
       "      <td>5</td>\n",
       "      <td>NaN</td>\n",
       "      <td>Краснодар</td>\n",
       "      <td>ultra</td>\n",
       "      <td>1950</td>\n",
       "    </tr>\n",
       "    <tr>\n",
       "      <td>2</td>\n",
       "      <td>1000</td>\n",
       "      <td>7</td>\n",
       "      <td>14016.0</td>\n",
       "      <td>75.0</td>\n",
       "      <td>47.0</td>\n",
       "      <td>346.0</td>\n",
       "      <td>5</td>\n",
       "      <td>NaN</td>\n",
       "      <td>Краснодар</td>\n",
       "      <td>ultra</td>\n",
       "      <td>1950</td>\n",
       "    </tr>\n",
       "    <tr>\n",
       "      <td>3</td>\n",
       "      <td>1000</td>\n",
       "      <td>8</td>\n",
       "      <td>14070.0</td>\n",
       "      <td>81.0</td>\n",
       "      <td>52.0</td>\n",
       "      <td>418.0</td>\n",
       "      <td>5</td>\n",
       "      <td>NaN</td>\n",
       "      <td>Краснодар</td>\n",
       "      <td>ultra</td>\n",
       "      <td>1950</td>\n",
       "    </tr>\n",
       "    <tr>\n",
       "      <td>4</td>\n",
       "      <td>1000</td>\n",
       "      <td>9</td>\n",
       "      <td>14581.0</td>\n",
       "      <td>57.0</td>\n",
       "      <td>58.0</td>\n",
       "      <td>478.0</td>\n",
       "      <td>5</td>\n",
       "      <td>NaN</td>\n",
       "      <td>Краснодар</td>\n",
       "      <td>ultra</td>\n",
       "      <td>1950</td>\n",
       "    </tr>\n",
       "  </tbody>\n",
       "</table>\n",
       "</div>"
      ],
      "text/plain": [
       "   user_id  month  mb_used  messages  calls_count  calls_duration  reg_date  \\\n",
       "0     1000      5   2256.0      22.0         22.0           164.0         5   \n",
       "1     1000      6  23257.0      60.0         43.0           187.0         5   \n",
       "2     1000      7  14016.0      75.0         47.0           346.0         5   \n",
       "3     1000      8  14070.0      81.0         52.0           418.0         5   \n",
       "4     1000      9  14581.0      57.0         58.0           478.0         5   \n",
       "\n",
       "   churn_date       city tariff monthly_fee  \n",
       "0         NaN  Краснодар  ultra        1950  \n",
       "1         NaN  Краснодар  ultra        1950  \n",
       "2         NaN  Краснодар  ultra        1950  \n",
       "3         NaN  Краснодар  ultra        1950  \n",
       "4         NaN  Краснодар  ultra        1950  "
      ]
     },
     "metadata": {},
     "output_type": "display_data"
    }
   ],
   "source": [
    "#объединяем нужные таблицы по столбцу 'user_id' и 'month'\n",
    "all_grouped = internet_group.merge(messages_group,  how = 'outer', on = ['user_id', 'month']).merge(calls_group,  how = 'outer', on = ['user_id', 'month']).merge(users[['user_id', 'reg_date', 'churn_date','city', 'tariff']], how = 'left', on = 'user_id')\n",
    "\n",
    "#присваиваем имена столбцам\n",
    "all_grouped.columns = ['user_id', 'month', 'mb_used', 'messages', 'calls_count','calls_duration', 'reg_date', 'churn_date', 'city','tariff']\n",
    "#display(all_grouped.head(10))\n",
    " \n",
    "def monthly_fee(row):\n",
    "    if row['tariff'] == 'smart':\n",
    "        return '550'\n",
    "    else:\n",
    "        return '1950'\n",
    "\n",
    "all_grouped['monthly_fee'] = all_grouped.apply(monthly_fee, axis = 1)\n",
    "display(all_grouped.head(5))\n"
   ]
  },
  {
   "cell_type": "code",
   "execution_count": 37,
   "metadata": {},
   "outputs": [
    {
     "data": {
      "text/html": [
       "<div>\n",
       "<style scoped>\n",
       "    .dataframe tbody tr th:only-of-type {\n",
       "        vertical-align: middle;\n",
       "    }\n",
       "\n",
       "    .dataframe tbody tr th {\n",
       "        vertical-align: top;\n",
       "    }\n",
       "\n",
       "    .dataframe thead th {\n",
       "        text-align: right;\n",
       "    }\n",
       "</style>\n",
       "<table border=\"1\" class=\"dataframe\">\n",
       "  <thead>\n",
       "    <tr style=\"text-align: right;\">\n",
       "      <th></th>\n",
       "      <th>id</th>\n",
       "      <th>call_date</th>\n",
       "      <th>duration</th>\n",
       "      <th>user_id</th>\n",
       "      <th>month</th>\n",
       "    </tr>\n",
       "  </thead>\n",
       "  <tbody>\n",
       "    <tr>\n",
       "      <td>0</td>\n",
       "      <td>1000_0</td>\n",
       "      <td>2018-07-25</td>\n",
       "      <td>1</td>\n",
       "      <td>1000</td>\n",
       "      <td>7</td>\n",
       "    </tr>\n",
       "    <tr>\n",
       "      <td>1</td>\n",
       "      <td>1000_1</td>\n",
       "      <td>2018-08-17</td>\n",
       "      <td>1</td>\n",
       "      <td>1000</td>\n",
       "      <td>8</td>\n",
       "    </tr>\n",
       "    <tr>\n",
       "      <td>2</td>\n",
       "      <td>1000_2</td>\n",
       "      <td>2018-06-11</td>\n",
       "      <td>3</td>\n",
       "      <td>1000</td>\n",
       "      <td>6</td>\n",
       "    </tr>\n",
       "    <tr>\n",
       "      <td>3</td>\n",
       "      <td>1000_3</td>\n",
       "      <td>2018-09-21</td>\n",
       "      <td>14</td>\n",
       "      <td>1000</td>\n",
       "      <td>9</td>\n",
       "    </tr>\n",
       "    <tr>\n",
       "      <td>4</td>\n",
       "      <td>1000_4</td>\n",
       "      <td>2018-12-15</td>\n",
       "      <td>6</td>\n",
       "      <td>1000</td>\n",
       "      <td>12</td>\n",
       "    </tr>\n",
       "  </tbody>\n",
       "</table>\n",
       "</div>"
      ],
      "text/plain": [
       "       id  call_date  duration  user_id  month\n",
       "0  1000_0 2018-07-25         1     1000      7\n",
       "1  1000_1 2018-08-17         1     1000      8\n",
       "2  1000_2 2018-06-11         3     1000      6\n",
       "3  1000_3 2018-09-21        14     1000      9\n",
       "4  1000_4 2018-12-15         6     1000     12"
      ]
     },
     "metadata": {},
     "output_type": "display_data"
    }
   ],
   "source": [
    "display(calls.head())"
   ]
  },
  {
   "cell_type": "markdown",
   "metadata": {},
   "source": [
    "Посчитаем выручку для каждого пользователя по месяцам"
   ]
  },
  {
   "cell_type": "code",
   "execution_count": 38,
   "metadata": {},
   "outputs": [],
   "source": [
    "#напишем функцию по подсчету стоимости тарифа + стоимость превышения лимита по тарифу\n",
    "\n",
    "def additional_payment(row):\n",
    "    if row['tariff'] == 'smart':\n",
    "        if row['messages'] > 50:\n",
    "            messages_extra = (row['messages'] - 50)*3\n",
    "        else:\n",
    "            messages_extra = 0\n",
    "        if row['calls_duration'] > 500:\n",
    "            calls_extra = (row['calls_duration'] - 500)*3\n",
    "        else:\n",
    "            calls_extra = 0\n",
    "        if row['mb_used'] > (15*1024):\n",
    "            mb_extra = (row['mb_used'] - (15*1024))*200/1024\n",
    "        else:\n",
    "            mb_extra = 0\n",
    "            \n",
    "        total_cost = messages_extra + calls_extra + mb_extra + 550\n",
    "        \n",
    "    if row['tariff'] == 'ultra':\n",
    "        if row['messages'] > 1000:\n",
    "            messages_extra = (row['messages'] - 1000)*1\n",
    "        else:\n",
    "            messages_extra = 0\n",
    "        if row['calls_duration'] > 3900:\n",
    "            calls_extra = (row['calls_duration'] - 3000)*1\n",
    "        else:\n",
    "            calls_extra = 0\n",
    "        if row['mb_used'] > (30*1024):\n",
    "            mb_extra = (row['mb_used'] - (30*1024))*150/1024\n",
    "        else:\n",
    "            mb_extra = 0\n",
    "        total_cost = messages_extra + calls_extra + mb_extra + 1950\n",
    "    return total_cost\n",
    "\n",
    "all_grouped['total_cost'] = all_grouped.apply(additional_payment, axis=1)"
   ]
  },
  {
   "cell_type": "code",
   "execution_count": 39,
   "metadata": {},
   "outputs": [
    {
     "data": {
      "text/html": [
       "<div>\n",
       "<style scoped>\n",
       "    .dataframe tbody tr th:only-of-type {\n",
       "        vertical-align: middle;\n",
       "    }\n",
       "\n",
       "    .dataframe tbody tr th {\n",
       "        vertical-align: top;\n",
       "    }\n",
       "\n",
       "    .dataframe thead th {\n",
       "        text-align: right;\n",
       "    }\n",
       "</style>\n",
       "<table border=\"1\" class=\"dataframe\">\n",
       "  <thead>\n",
       "    <tr style=\"text-align: right;\">\n",
       "      <th></th>\n",
       "      <th>user_id</th>\n",
       "      <th>month</th>\n",
       "      <th>mb_used</th>\n",
       "      <th>messages</th>\n",
       "      <th>calls_count</th>\n",
       "      <th>calls_duration</th>\n",
       "      <th>reg_date</th>\n",
       "      <th>churn_date</th>\n",
       "      <th>city</th>\n",
       "      <th>tariff</th>\n",
       "      <th>monthly_fee</th>\n",
       "      <th>total_cost</th>\n",
       "    </tr>\n",
       "  </thead>\n",
       "  <tbody>\n",
       "    <tr>\n",
       "      <td>3130</td>\n",
       "      <td>1486</td>\n",
       "      <td>12</td>\n",
       "      <td>38610.0</td>\n",
       "      <td>83.0</td>\n",
       "      <td>133.0</td>\n",
       "      <td>1025.0</td>\n",
       "      <td>10</td>\n",
       "      <td>NaN</td>\n",
       "      <td>Нижний Новгород</td>\n",
       "      <td>smart</td>\n",
       "      <td>550</td>\n",
       "      <td>6765.015625</td>\n",
       "    </tr>\n",
       "    <tr>\n",
       "      <td>1647</td>\n",
       "      <td>1261</td>\n",
       "      <td>12</td>\n",
       "      <td>32697.0</td>\n",
       "      <td>22.0</td>\n",
       "      <td>141.0</td>\n",
       "      <td>1102.0</td>\n",
       "      <td>10</td>\n",
       "      <td>NaN</td>\n",
       "      <td>Казань</td>\n",
       "      <td>smart</td>\n",
       "      <td>550</td>\n",
       "      <td>5742.132812</td>\n",
       "    </tr>\n",
       "    <tr>\n",
       "      <td>260</td>\n",
       "      <td>1042</td>\n",
       "      <td>12</td>\n",
       "      <td>37219.0</td>\n",
       "      <td>75.0</td>\n",
       "      <td>121.0</td>\n",
       "      <td>755.0</td>\n",
       "      <td>11</td>\n",
       "      <td>NaN</td>\n",
       "      <td>Хабаровск</td>\n",
       "      <td>smart</td>\n",
       "      <td>550</td>\n",
       "      <td>5659.335938</td>\n",
       "    </tr>\n",
       "    <tr>\n",
       "      <td>3129</td>\n",
       "      <td>1486</td>\n",
       "      <td>11</td>\n",
       "      <td>36319.0</td>\n",
       "      <td>96.0</td>\n",
       "      <td>108.0</td>\n",
       "      <td>788.0</td>\n",
       "      <td>10</td>\n",
       "      <td>NaN</td>\n",
       "      <td>Нижний Новгород</td>\n",
       "      <td>smart</td>\n",
       "      <td>550</td>\n",
       "      <td>5645.554688</td>\n",
       "    </tr>\n",
       "    <tr>\n",
       "      <td>1810</td>\n",
       "      <td>1286</td>\n",
       "      <td>12</td>\n",
       "      <td>35151.0</td>\n",
       "      <td>68.0</td>\n",
       "      <td>95.0</td>\n",
       "      <td>751.0</td>\n",
       "      <td>11</td>\n",
       "      <td>NaN</td>\n",
       "      <td>Москва</td>\n",
       "      <td>smart</td>\n",
       "      <td>550</td>\n",
       "      <td>5222.429688</td>\n",
       "    </tr>\n",
       "  </tbody>\n",
       "</table>\n",
       "</div>"
      ],
      "text/plain": [
       "      user_id  month  mb_used  messages  calls_count  calls_duration  \\\n",
       "3130     1486     12  38610.0      83.0        133.0          1025.0   \n",
       "1647     1261     12  32697.0      22.0        141.0          1102.0   \n",
       "260      1042     12  37219.0      75.0        121.0           755.0   \n",
       "3129     1486     11  36319.0      96.0        108.0           788.0   \n",
       "1810     1286     12  35151.0      68.0         95.0           751.0   \n",
       "\n",
       "      reg_date  churn_date             city tariff monthly_fee   total_cost  \n",
       "3130        10         NaN  Нижний Новгород  smart         550  6765.015625  \n",
       "1647        10         NaN           Казань  smart         550  5742.132812  \n",
       "260         11         NaN        Хабаровск  smart         550  5659.335938  \n",
       "3129        10         NaN  Нижний Новгород  smart         550  5645.554688  \n",
       "1810        11         NaN           Москва  smart         550  5222.429688  "
      ]
     },
     "metadata": {},
     "output_type": "display_data"
    }
   ],
   "source": [
    "display(all_grouped.sort_values(by = 'total_cost', ascending = False).head(5))"
   ]
  },
  {
   "cell_type": "markdown",
   "metadata": {},
   "source": [
    "Мы получили данныен по каждому пользователю по месяцам.\n",
    "Мы видим, что пользователи приобретали тариф в разные месяцы и разные даты, но поскольку, закончили пользоваться тарифом всего 38 человек из 500 (это немного, всего 7,6%), будем условно считать, что каждый месяц оплата вносилась за календарный месяц."
   ]
  },
  {
   "cell_type": "markdown",
   "metadata": {},
   "source": [
    "Посмотрим на общую выручку по месяцам"
   ]
  },
  {
   "cell_type": "code",
   "execution_count": 40,
   "metadata": {},
   "outputs": [
    {
     "data": {
      "image/png": "[encoded data removed]",
      "text/plain": [
       "<Figure size 1440x432 with 1 Axes>"
      ]
     },
     "metadata": {
      "needs_background": "light"
     },
     "output_type": "display_data"
    }
   ],
   "source": [
    "all_grouped_pivot = all_grouped.pivot_table(index = 'month', values = 'total_cost', aggfunc = 'sum')\n",
    "all_grouped_pivot.plot(y = 'total_cost', grid = True, figsize = (20,6), \n",
    "                    title = 'Динамика изменения общей выручки по месяцам')\n",
    "plt.xlabel(\"Месяц\")\n",
    "plt.ylabel(\"Выручка, руб.\")\n",
    "plt.show()"
   ]
  },
  {
   "cell_type": "markdown",
   "metadata": {},
   "source": [
    "Выручка растет линейно. Как и объем траффика, длительность звонков и количество сообщений. Все гармонично."
   ]
  },
  {
   "cell_type": "markdown",
   "metadata": {},
   "source": [
    "### [Шаг 2. Вывод]<a id=\"step_22\"></a>"
   ]
  },
  {
   "cell_type": "markdown",
   "metadata": {},
   "source": [
    "[в начало](#toc)"
   ]
  },
  {
   "cell_type": "markdown",
   "metadata": {},
   "source": [
    "В данном разделе мы подробно рассмотрели представленные нам данные. \n",
    "1. Поскольку тип данных мы изменили сразу, в первом шаге, то в этом разделе нам не пришлось ничего менять. \n",
    "2. Так же по данным мы видим некоторые особенности. \n",
    " - в столбце 'duration' много звонков с нулевой длительностью. Мы предположили, что это звонки, которые сорвались по техническим причинам и округлили их до минуты\n",
    " - в столбце 'churn_date' мы видим много пустых значений, означающих, что пользователь все еще использует свой тариф. Здесь мы ничего не меняли, кроме типа данных, поскольку видим, что отказавшися от услуг сотового опреатора всего 38 человек из 500, это немного, примерно 7,6%.\n",
    "3. Рассчитали объем услуг для каждого пользователя: количество и продолжительность звонков, объем интернет-траффика и количество сообщений. Так же расчитали выручку. На графиках мы видим, что у компании гармонично растут и объемы предоставляемых услуг, и объем выручки."
   ]
  },
  {
   "cell_type": "markdown",
   "metadata": {},
   "source": [
    "### [Шаг 3. Исследование данных]<a id=\"step_3\"></a>"
   ]
  },
  {
   "cell_type": "markdown",
   "metadata": {},
   "source": [
    "[в начало](#toc)"
   ]
  },
  {
   "cell_type": "markdown",
   "metadata": {},
   "source": [
    "<b>Задача:</b> изучить поведение клиентов оператора, исходя из выборки. Исследовать,сколько минут разговора, сколько сообщений и какой объём интернет-трафика требуется пользователям каждого тарифа в месяц. Посчитать среднее количество, дисперсию и стандартное отклонение."
   ]
  },
  {
   "cell_type": "markdown",
   "metadata": {},
   "source": [
    "Посчитаем дисперсию, стандартное отклонение и математическое ожидание для наших данных <b> по длительности звонков</b>"
   ]
  },
  {
   "cell_type": "code",
   "execution_count": 41,
   "metadata": {},
   "outputs": [
    {
     "name": "stdout",
     "output_type": "stream",
     "text": [
      "Среднее по тарифу Smart: 431.0\n",
      "Дисперсия по тарифу Smart: 37578.0\n",
      "Стандартное отклонение по тарифу Smart: 194.0\n",
      "\n",
      "Среднее по тарифу Ultra: 560.0\n",
      "Дисперсия по тарифу Ultra: 99063.0\n",
      "Стандартное отклонение по тарифу Ultra: 315.0\n"
     ]
    }
   ],
   "source": [
    "#сделаем срез данных\n",
    "smart_query = all_grouped.query('tariff == \"smart\"')\n",
    "ultra_query = all_grouped.query('tariff == \"ultra\"')\n",
    "\n",
    "#Посчитаем для тарифа Smart:\n",
    "\n",
    "#среднее\n",
    "mean_smart = smart_query['calls_duration'].mean().round(0)\n",
    "#стандартное отклонение\n",
    "std_smart = np.std(smart_query['calls_duration'], ddof=1).round(0)\n",
    "#дисперсию\n",
    "variance_smart = np.var(smart_query['calls_duration'], ddof=1).round(0)\n",
    "\n",
    "# Посчитаем для тарифа Ultra\n",
    "\n",
    "#среднее\n",
    "mean_ultra = ultra_query['calls_duration'].mean().round(0)\n",
    "#стандартное отклонение\n",
    "std_ultra = np.std(ultra_query['calls_duration'], ddof=1).round(0)\n",
    "#дисперсию\n",
    "variance_ultra = np.var(ultra_query['calls_duration'], ddof=1).round(0)\n",
    "\n",
    "print('Среднее по тарифу Smart:',mean_smart)\n",
    "print('Дисперсия по тарифу Smart:', variance_smart)\n",
    "print('Стандартное отклонение по тарифу Smart:', std_smart)\n",
    "print()\n",
    "print('Среднее по тарифу Ultra:', mean_ultra)\n",
    "print('Дисперсия по тарифу Ultra:', variance_ultra)\n",
    "print('Стандартное отклонение по тарифу Ultra:', std_ultra)"
   ]
  },
  {
   "cell_type": "markdown",
   "metadata": {},
   "source": [
    "Посчитаем тоже самое для <b> количества сообщений </b>"
   ]
  },
  {
   "cell_type": "code",
   "execution_count": 42,
   "metadata": {},
   "outputs": [
    {
     "name": "stdout",
     "output_type": "stream",
     "text": [
      "По количеству сообщений:\n",
      "Среднее по тарифу Smart: 39.0\n",
      "Дисперсия по тарифу Smart: 718.0\n",
      "Стандартное отклонение по тарифу Smart: 27.0\n",
      "\n",
      "Среднее по тарифу Ultra: 61.0\n",
      "Дисперсия по тарифу Ultra: 2110.0\n",
      "Стандартное отклонение по тарифу Ultra: 46.0\n"
     ]
    }
   ],
   "source": [
    "#Посчитаем для тарифа Smart:\n",
    "\n",
    "#среднее\n",
    "mean_smart_messages = smart_query['messages'].mean().round(0)\n",
    "#стандартное отклонение\n",
    "std_smart_messages = np.std(smart_query['messages'], ddof=1).round(0)\n",
    "#дисперсию\n",
    "variance_smart_messages = np.var(smart_query['messages'], ddof=1).round(0)\n",
    "\n",
    "# Посчитаем для тарифа Ultra\n",
    "\n",
    "#среднее\n",
    "mean_ultra_messages = ultra_query['messages'].mean().round(0)\n",
    "#стандартное отклонение\n",
    "std_ultra_messages = np.std(ultra_query['messages'], ddof=1).round(0)\n",
    "#дисперсию\n",
    "variance_ultra_messages = np.var(ultra_query['messages'], ddof=1).round(0)\n",
    "\n",
    "print('По количеству сообщений:')\n",
    "print('Среднее по тарифу Smart:',mean_smart_messages)\n",
    "print('Дисперсия по тарифу Smart:', variance_smart_messages)\n",
    "print('Стандартное отклонение по тарифу Smart:', std_smart_messages)\n",
    "print()\n",
    "print('Среднее по тарифу Ultra:', mean_ultra_messages)\n",
    "print('Дисперсия по тарифу Ultra:', variance_ultra_messages)\n",
    "print('Стандартное отклонение по тарифу Ultra:', std_ultra_messages)"
   ]
  },
  {
   "cell_type": "markdown",
   "metadata": {},
   "source": [
    "Для <b>интернет-траффика</b>"
   ]
  },
  {
   "cell_type": "code",
   "execution_count": 43,
   "metadata": {},
   "outputs": [
    {
     "name": "stdout",
     "output_type": "stream",
     "text": [
      "По интернет-траффику:\n",
      "Среднее по тарифу Smart: 16236.0\n",
      "Дисперсия по тарифу Smart: 34443101.0\n",
      "Стандартное отклонение по тарифу Smart: 5869.0\n",
      "\n",
      "Среднее по тарифу Ultra: 19687.0\n",
      "Дисперсия по тарифу Ultra: 99043440.0\n",
      "Стандартное отклонение по тарифу Ultra: 9952.0\n"
     ]
    }
   ],
   "source": [
    "#Посчитаем для тарифа Smart:\n",
    "\n",
    "#среднее\n",
    "mean_smart_internet = smart_query['mb_used'].mean().round(0)\n",
    "#стандартное отклонение\n",
    "std_smart_internet = np.std(smart_query['mb_used'], ddof=1).round(0)\n",
    "#дисперсию\n",
    "variance_smart_internet = np.var(smart_query['mb_used'], ddof=1).round(0)\n",
    "\n",
    "# Посчитаем для тарифа Ultra\n",
    "\n",
    "#среднее\n",
    "mean_ultra_internet = ultra_query['mb_used'].mean().round(0)\n",
    "#стандартное отклонение\n",
    "std_ultra_internet = np.std(ultra_query['mb_used'], ddof=1).round(0)\n",
    "#дисперсию\n",
    "variance_ultra_internet = np.var(ultra_query['mb_used'], ddof=1).round(0)\n",
    "\n",
    "print('По интернет-траффику:')\n",
    "print('Среднее по тарифу Smart:',mean_smart_internet)\n",
    "print('Дисперсия по тарифу Smart:', variance_smart_internet)\n",
    "print('Стандартное отклонение по тарифу Smart:', std_smart_internet)\n",
    "print()\n",
    "print('Среднее по тарифу Ultra:', mean_ultra_internet)\n",
    "print('Дисперсия по тарифу Ultra:', variance_ultra_internet)\n",
    "print('Стандартное отклонение по тарифу Ultra:', std_ultra_internet)"
   ]
  },
  {
   "cell_type": "markdown",
   "metadata": {},
   "source": [
    "По <b> общей стоимости по тарифам </b>"
   ]
  },
  {
   "cell_type": "code",
   "execution_count": 44,
   "metadata": {},
   "outputs": [
    {
     "name": "stdout",
     "output_type": "stream",
     "text": [
      "По общей стоимости:\n",
      "Среднее по тарифу Smart: 1250.0\n",
      "Дисперсия по тарифу Smart: 635259.0\n",
      "Стандартное отклонение по тарифу Smart: 797.0\n",
      "\n",
      "Среднее по тарифу Ultra: 2061.0\n",
      "Дисперсия по тарифу Ultra: 126953.0\n",
      "Стандартное отклонение по тарифу Ultra: 356.0\n"
     ]
    }
   ],
   "source": [
    "#Посчитаем для тарифа Smart:\n",
    "\n",
    "#среднее\n",
    "mean_smart_total_cost = smart_query['total_cost'].mean().round(0)\n",
    "#стандартное отклонение\n",
    "std_smart_total_cost = np.std(smart_query['total_cost'], ddof=1).round(0)\n",
    "#дисперсию\n",
    "variance_smart_total_cost = np.var(smart_query['total_cost'], ddof=1).round(0)\n",
    "\n",
    "# Посчитаем для тарифа Ultra\n",
    "\n",
    "#среднее\n",
    "mean_ultra_total_cost = ultra_query['total_cost'].mean().round(0)\n",
    "#стандартное отклонение\n",
    "std_ultra_total_cost = np.std(ultra_query['total_cost'], ddof=1).round(0)\n",
    "#дисперсию\n",
    "variance_ultra_total_cost = np.var(ultra_query['total_cost'], ddof=1).round(0)\n",
    "\n",
    "print('По общей стоимости:')\n",
    "print('Среднее по тарифу Smart:',mean_smart_total_cost)\n",
    "print('Дисперсия по тарифу Smart:', variance_smart_total_cost)\n",
    "print('Стандартное отклонение по тарифу Smart:', std_smart_total_cost)\n",
    "print()\n",
    "print('Среднее по тарифу Ultra:', mean_ultra_total_cost)\n",
    "print('Дисперсия по тарифу Ultra:', variance_ultra_total_cost)\n",
    "print('Стандартное отклонение по тарифу Ultra:', std_ultra_total_cost)"
   ]
  },
  {
   "cell_type": "markdown",
   "metadata": {},
   "source": [
    "<b>Рассмотрим подробнее и построим графики </b>"
   ]
  },
  {
   "cell_type": "markdown",
   "metadata": {},
   "source": [
    "### [3.1 Исследование длительности разговора] <a id=\"step_3.1\"></a>"
   ]
  },
  {
   "cell_type": "markdown",
   "metadata": {},
   "source": [
    "[в начало](#toc)"
   ]
  },
  {
   "cell_type": "markdown",
   "metadata": {},
   "source": [
    "#### [3.1.1 Средняя длительность разговора в зависимости от вида тарифа]<a id=\"step_3.1.1\"></a>"
   ]
  },
  {
   "cell_type": "markdown",
   "metadata": {},
   "source": [
    "Сделаем сводную таблицу и оценим длительность звонков в зависимости от тарифа"
   ]
  },
  {
   "cell_type": "code",
   "execution_count": 45,
   "metadata": {},
   "outputs": [
    {
     "data": {
      "text/html": [
       "<div>\n",
       "<style scoped>\n",
       "    .dataframe tbody tr th:only-of-type {\n",
       "        vertical-align: middle;\n",
       "    }\n",
       "\n",
       "    .dataframe tbody tr th {\n",
       "        vertical-align: top;\n",
       "    }\n",
       "\n",
       "    .dataframe thead th {\n",
       "        text-align: right;\n",
       "    }\n",
       "</style>\n",
       "<table border=\"1\" class=\"dataframe\">\n",
       "  <thead>\n",
       "    <tr style=\"text-align: right;\">\n",
       "      <th>tariff</th>\n",
       "      <th>smart</th>\n",
       "      <th>ultra</th>\n",
       "    </tr>\n",
       "  </thead>\n",
       "  <tbody>\n",
       "    <tr>\n",
       "      <td>count</td>\n",
       "      <td>12.000000</td>\n",
       "      <td>12.000000</td>\n",
       "    </tr>\n",
       "    <tr>\n",
       "      <td>mean</td>\n",
       "      <td>398.242974</td>\n",
       "      <td>525.068849</td>\n",
       "    </tr>\n",
       "    <tr>\n",
       "      <td>std</td>\n",
       "      <td>74.804144</td>\n",
       "      <td>87.055340</td>\n",
       "    </tr>\n",
       "    <tr>\n",
       "      <td>min</td>\n",
       "      <td>209.647059</td>\n",
       "      <td>304.666667</td>\n",
       "    </tr>\n",
       "    <tr>\n",
       "      <td>25%</td>\n",
       "      <td>393.053191</td>\n",
       "      <td>499.263641</td>\n",
       "    </tr>\n",
       "    <tr>\n",
       "      <td>50%</td>\n",
       "      <td>414.242438</td>\n",
       "      <td>547.205249</td>\n",
       "    </tr>\n",
       "    <tr>\n",
       "      <td>75%</td>\n",
       "      <td>440.288837</td>\n",
       "      <td>577.861060</td>\n",
       "    </tr>\n",
       "    <tr>\n",
       "      <td>max</td>\n",
       "      <td>492.880952</td>\n",
       "      <td>631.858209</td>\n",
       "    </tr>\n",
       "  </tbody>\n",
       "</table>\n",
       "</div>"
      ],
      "text/plain": [
       "tariff       smart       ultra\n",
       "count    12.000000   12.000000\n",
       "mean    398.242974  525.068849\n",
       "std      74.804144   87.055340\n",
       "min     209.647059  304.666667\n",
       "25%     393.053191  499.263641\n",
       "50%     414.242438  547.205249\n",
       "75%     440.288837  577.861060\n",
       "max     492.880952  631.858209"
      ]
     },
     "metadata": {},
     "output_type": "display_data"
    }
   ],
   "source": [
    "#построим сводную таблицу и посмотрим ее описание\n",
    "display(all_grouped.pivot_table(index = 'tariff', columns = 'month', values = 'calls_duration', aggfunc = 'mean').T.describe())"
   ]
  },
  {
   "cell_type": "markdown",
   "metadata": {},
   "source": [
    "Мы видим, что средняя продолжительность звонков в тарифах различается, отличаются так же минимальные и максимальные значения."
   ]
  },
  {
   "cell_type": "markdown",
   "metadata": {},
   "source": [
    "Построим диаграмму размаха, чтобы оценить длительность звонков"
   ]
  },
  {
   "cell_type": "code",
   "execution_count": 46,
   "metadata": {},
   "outputs": [
    {
     "name": "stderr",
     "output_type": "stream",
     "text": [
      "/opt/conda/lib/python3.7/site-packages/numpy/core/_asarray.py:83: VisibleDeprecationWarning: Creating an ndarray from ragged nested sequences (which is a list-or-tuple of lists-or-tuples-or ndarrays with different lengths or shapes) is deprecated. If you meant to do this, you must specify 'dtype=object' when creating the ndarray\n",
      "  return array(a, dtype, copy=False, order=order)\n"
     ]
    },
    {
     "data": {
      "text/plain": [
       "Text(0.5, 1.0, 'Диаграмма размаха длительности звонков')"
      ]
     },
     "execution_count": 46,
     "metadata": {},
     "output_type": "execute_result"
    },
    {
     "data": {
      "image/png": "[encoded data removed]",
      "text/plain": [
       "<Figure size 2880x720 with 1 Axes>"
      ]
     },
     "metadata": {
      "needs_background": "light"
     },
     "output_type": "display_data"
    }
   ],
   "source": [
    "# построим диаграмму размаха\n",
    "plt.subplots(figsize= (40, 10))\n",
    "all_grouped.boxplot('calls_duration',  by = 'tariff', ax=plt.subplot(1, 4, 1))\n",
    "plt.xlabel('Тариф')\n",
    "plt.ylabel('Длительность звонков')\n",
    "plt.title('Диаграмма размаха длительности звонков')"
   ]
  },
  {
   "cell_type": "markdown",
   "metadata": {},
   "source": [
    "Мы видим, что по длительности звонков по тарифу Ultra практически все значения находятся внутри границ, лишь редкие отдельные значения выбиваются из этой тенденции.\n",
    "По тарифу smart другая ситуация. Очень много данных находятся за пределами границ тарифа. "
   ]
  },
  {
   "cell_type": "markdown",
   "metadata": {},
   "source": [
    "Построим гистограмму, чтобы оченить распределение."
   ]
  },
  {
   "cell_type": "code",
   "execution_count": 47,
   "metadata": {},
   "outputs": [
    {
     "data": {
      "text/plain": [
       "Text(0, 0.5, 'Частотность')"
      ]
     },
     "execution_count": 47,
     "metadata": {},
     "output_type": "execute_result"
    },
    {
     "data": {
      "image/png": "[encoded data removed]",
      "text/plain": [
       "<Figure size 720x360 with 1 Axes>"
      ]
     },
     "metadata": {
      "needs_background": "light"
     },
     "output_type": "display_data"
    }
   ],
   "source": [
    "#строим гистограмму\n",
    "(all_grouped\n",
    ".pivot_table(index = 'tariff', columns = 'month', values = 'calls_duration', aggfunc = 'mean')\n",
    ".T\n",
    ".plot(kind = 'hist', alpha=0.5, bins = 15, figsize = (10,5))\n",
    ")\n",
    "plt.title('Распределение средней длительности звонков')\n",
    "plt.xlabel('Минуты')\n",
    "plt.ylabel('Частотность')\n"
   ]
  },
  {
   "cell_type": "markdown",
   "metadata": {},
   "source": [
    "Исходя из диаграммы видим, что по тарифу Ultra длительность разговоров выше, чем, по тарифу Smart"
   ]
  },
  {
   "cell_type": "code",
   "execution_count": 48,
   "metadata": {},
   "outputs": [
    {
     "data": {
      "text/plain": [
       "Text(0, 0.5, 'Частотность')"
      ]
     },
     "execution_count": 48,
     "metadata": {},
     "output_type": "execute_result"
    },
    {
     "data": {
      "image/png": "[encoded data removed]",
      "text/plain": [
       "<Figure size 720x360 with 1 Axes>"
      ]
     },
     "metadata": {
      "needs_background": "light"
     },
     "output_type": "display_data"
    }
   ],
   "source": [
    "#построим столбчатую диаграмму\n",
    "(all_grouped\n",
    ".pivot_table(index = 'tariff', columns = 'month', values = 'calls_duration', aggfunc = 'mean')\n",
    ".T\n",
    ".plot(kind = 'bar', figsize = (10,5))\n",
    ")\n",
    "plt.title('Распределение средней длительности звонков по месяцам')\n",
    "plt.xlabel('Минуты')\n",
    "plt.ylabel('Частотность')\n"
   ]
  },
  {
   "cell_type": "markdown",
   "metadata": {},
   "source": [
    "<b>Вывод:</b>\n",
    "В целом после изучения диаграмм, можно сказать, что разница между длительностью звонков по тарифам есть. По тарифу Ultra продолжительность разговоров была выше. Длительность разговоров увеличивалась в течение всех 12 месяцев изучаемого периода. В феврале знчения обоих тарифов сравнялись, и это был один из самых низких месяцев по длительности звонков.\n",
    "Кроме того, есть интересное наблюдение: по длительности звонков по тарифу Ultra практически все значения находятся внутри границ, лишь редкие отдельные значения выбиваются из этой тенденции.По тарифу Smart, наоборот, большое количество звонков выходят за пределы обычных значений."
   ]
  },
  {
   "cell_type": "markdown",
   "metadata": {},
   "source": [
    "#### [3.1.2 Стандартное отклонение длительности разговора]<a id=\"step_3.1.2\"></a>"
   ]
  },
  {
   "cell_type": "code",
   "execution_count": 49,
   "metadata": {},
   "outputs": [
    {
     "data": {
      "text/html": [
       "<div>\n",
       "<style scoped>\n",
       "    .dataframe tbody tr th:only-of-type {\n",
       "        vertical-align: middle;\n",
       "    }\n",
       "\n",
       "    .dataframe tbody tr th {\n",
       "        vertical-align: top;\n",
       "    }\n",
       "\n",
       "    .dataframe thead th {\n",
       "        text-align: right;\n",
       "    }\n",
       "</style>\n",
       "<table border=\"1\" class=\"dataframe\">\n",
       "  <thead>\n",
       "    <tr style=\"text-align: right;\">\n",
       "      <th>tariff</th>\n",
       "      <th>smart</th>\n",
       "      <th>ultra</th>\n",
       "    </tr>\n",
       "  </thead>\n",
       "  <tbody>\n",
       "    <tr>\n",
       "      <td>count</td>\n",
       "      <td>12.000000</td>\n",
       "      <td>12.000000</td>\n",
       "    </tr>\n",
       "    <tr>\n",
       "      <td>mean</td>\n",
       "      <td>186.871128</td>\n",
       "      <td>305.519697</td>\n",
       "    </tr>\n",
       "    <tr>\n",
       "      <td>std</td>\n",
       "      <td>11.147449</td>\n",
       "      <td>23.189200</td>\n",
       "    </tr>\n",
       "    <tr>\n",
       "      <td>min</td>\n",
       "      <td>158.869087</td>\n",
       "      <td>263.331982</td>\n",
       "    </tr>\n",
       "    <tr>\n",
       "      <td>25%</td>\n",
       "      <td>183.282323</td>\n",
       "      <td>294.996520</td>\n",
       "    </tr>\n",
       "    <tr>\n",
       "      <td>50%</td>\n",
       "      <td>189.955608</td>\n",
       "      <td>304.428200</td>\n",
       "    </tr>\n",
       "    <tr>\n",
       "      <td>75%</td>\n",
       "      <td>192.080232</td>\n",
       "      <td>320.314230</td>\n",
       "    </tr>\n",
       "    <tr>\n",
       "      <td>max</td>\n",
       "      <td>202.120647</td>\n",
       "      <td>342.199940</td>\n",
       "    </tr>\n",
       "  </tbody>\n",
       "</table>\n",
       "</div>"
      ],
      "text/plain": [
       "tariff       smart       ultra\n",
       "count    12.000000   12.000000\n",
       "mean    186.871128  305.519697\n",
       "std      11.147449   23.189200\n",
       "min     158.869087  263.331982\n",
       "25%     183.282323  294.996520\n",
       "50%     189.955608  304.428200\n",
       "75%     192.080232  320.314230\n",
       "max     202.120647  342.199940"
      ]
     },
     "metadata": {},
     "output_type": "display_data"
    }
   ],
   "source": [
    "#проанализируем стандартное отклонение\n",
    "display(all_grouped.pivot_table(index = 'tariff', columns = 'month', values = 'calls_duration', aggfunc = 'std').T.describe())"
   ]
  },
  {
   "cell_type": "markdown",
   "metadata": {},
   "source": [
    "Если посмотреть на стандартное отклонение в тарифе smart и тарифе ultra,  то разница в значениях свидетельствует о том, что данные по тарифу ultra стабильнее."
   ]
  },
  {
   "cell_type": "markdown",
   "metadata": {},
   "source": [
    "Построим гистограмму"
   ]
  },
  {
   "cell_type": "code",
   "execution_count": 50,
   "metadata": {},
   "outputs": [
    {
     "data": {
      "image/png": "[encoded data removed]",
      "text/plain": [
       "<Figure size 432x288 with 1 Axes>"
      ]
     },
     "metadata": {
      "needs_background": "light"
     },
     "output_type": "display_data"
    }
   ],
   "source": [
    "(all_grouped\n",
    ".pivot_table(index = 'tariff', columns = 'month', values = 'calls_duration', aggfunc = 'std')\n",
    ".T\n",
    ".plot(kind = 'hist', alpha = 0.5, bins = 30)\n",
    ")\n",
    "plt.title('Гистограмма распределения стандартного отклонения длительности звонков')\n",
    "plt.xlabel('Минуты')\n",
    "plt.ylabel('Частотность')\n",
    "plt.show()"
   ]
  },
  {
   "cell_type": "markdown",
   "metadata": {},
   "source": [
    "Мы видим, что стандартное отклонение очень отличается по тарифам. Если распределение по тарифу Smart более цельное, то по тарифу Ultra  оно непостоянное, прерывистое, с большими разрывами."
   ]
  },
  {
   "cell_type": "code",
   "execution_count": 51,
   "metadata": {},
   "outputs": [
    {
     "data": {
      "image/png": "[encoded data removed]",
      "text/plain": [
       "<Figure size 432x288 with 1 Axes>"
      ]
     },
     "metadata": {
      "needs_background": "light"
     },
     "output_type": "display_data"
    }
   ],
   "source": [
    "(all_grouped\n",
    ".pivot_table(index = 'tariff', columns = 'month', values = 'calls_duration', aggfunc = 'std')\n",
    ".T\n",
    ".plot(kind = 'box')\n",
    ")\n",
    "plt.title('Диаграмма размаха стандартного отклонения длительности звонков')\n",
    "plt.xlabel('Тариф')\n",
    "plt.ylabel('Минуты')\n",
    "plt.show()"
   ]
  },
  {
   "cell_type": "markdown",
   "metadata": {},
   "source": [
    "<b>Вывод:</b> распределение стандартного отклонения длительности звонков для пользователей тарифа Smart близко к нормальному, однако для тарифа Ultra - очень отличается. Это говорит о том, что пользователи тарифа Ultra менее стабильны в длительности звонков"
   ]
  },
  {
   "cell_type": "code",
   "execution_count": null,
   "metadata": {},
   "outputs": [],
   "source": []
  },
  {
   "cell_type": "markdown",
   "metadata": {},
   "source": [
    "#### [3.1.3 Дисперсия длительности звонков]<a id=\"step_3.1.3\"></a>"
   ]
  },
  {
   "cell_type": "markdown",
   "metadata": {},
   "source": [
    "[в начало](#toc)"
   ]
  },
  {
   "cell_type": "code",
   "execution_count": 52,
   "metadata": {},
   "outputs": [
    {
     "data": {
      "text/html": [
       "<div>\n",
       "<style scoped>\n",
       "    .dataframe tbody tr th:only-of-type {\n",
       "        vertical-align: middle;\n",
       "    }\n",
       "\n",
       "    .dataframe tbody tr th {\n",
       "        vertical-align: top;\n",
       "    }\n",
       "\n",
       "    .dataframe thead th {\n",
       "        text-align: right;\n",
       "    }\n",
       "</style>\n",
       "<table border=\"1\" class=\"dataframe\">\n",
       "  <thead>\n",
       "    <tr style=\"text-align: right;\">\n",
       "      <th>tariff</th>\n",
       "      <th>smart</th>\n",
       "      <th>ultra</th>\n",
       "    </tr>\n",
       "  </thead>\n",
       "  <tbody>\n",
       "    <tr>\n",
       "      <td>count</td>\n",
       "      <td>12.000000</td>\n",
       "      <td>12.000000</td>\n",
       "    </tr>\n",
       "    <tr>\n",
       "      <td>mean</td>\n",
       "      <td>35034.728477</td>\n",
       "      <td>93835.212479</td>\n",
       "    </tr>\n",
       "    <tr>\n",
       "      <td>std</td>\n",
       "      <td>4022.881782</td>\n",
       "      <td>14111.068047</td>\n",
       "    </tr>\n",
       "    <tr>\n",
       "      <td>min</td>\n",
       "      <td>25239.386809</td>\n",
       "      <td>69343.732946</td>\n",
       "    </tr>\n",
       "    <tr>\n",
       "      <td>25%</td>\n",
       "      <td>33593.979789</td>\n",
       "      <td>87088.867510</td>\n",
       "    </tr>\n",
       "    <tr>\n",
       "      <td>50%</td>\n",
       "      <td>36083.656595</td>\n",
       "      <td>92676.550717</td>\n",
       "    </tr>\n",
       "    <tr>\n",
       "      <td>75%</td>\n",
       "      <td>36897.682232</td>\n",
       "      <td>102601.599958</td>\n",
       "    </tr>\n",
       "    <tr>\n",
       "      <td>max</td>\n",
       "      <td>40852.755935</td>\n",
       "      <td>117100.798799</td>\n",
       "    </tr>\n",
       "  </tbody>\n",
       "</table>\n",
       "</div>"
      ],
      "text/plain": [
       "tariff         smart          ultra\n",
       "count      12.000000      12.000000\n",
       "mean    35034.728477   93835.212479\n",
       "std      4022.881782   14111.068047\n",
       "min     25239.386809   69343.732946\n",
       "25%     33593.979789   87088.867510\n",
       "50%     36083.656595   92676.550717\n",
       "75%     36897.682232  102601.599958\n",
       "max     40852.755935  117100.798799"
      ]
     },
     "execution_count": 52,
     "metadata": {},
     "output_type": "execute_result"
    }
   ],
   "source": [
    "#посмотрим подробнее на дисперсию длительности звонков\n",
    "all_grouped.pivot_table(index = 'tariff', columns = 'month', values = 'calls_duration', aggfunc = 'var').T.describe()"
   ]
  },
  {
   "cell_type": "code",
   "execution_count": 53,
   "metadata": {},
   "outputs": [
    {
     "data": {
      "image/png": "[encoded data removed]",
      "text/plain": [
       "<Figure size 432x288 with 1 Axes>"
      ]
     },
     "metadata": {
      "needs_background": "light"
     },
     "output_type": "display_data"
    }
   ],
   "source": [
    "#построим график\n",
    "(all_grouped\n",
    ".pivot_table(index = 'tariff', columns = 'month', values = 'calls_duration', aggfunc = 'var')\n",
    ".T\n",
    ".plot(kind = 'hist', alpha = 0.5, bins = 30)\n",
    ")\n",
    "plt.title('Гистограмма распределения дисперсии длительности звонков')\n",
    "plt.xlabel('Минуты')\n",
    "plt.ylabel('Частотность')\n",
    "plt.show()"
   ]
  },
  {
   "cell_type": "code",
   "execution_count": 54,
   "metadata": {},
   "outputs": [
    {
     "data": {
      "image/png": "[encoded data removed]",
      "text/plain": [
       "<Figure size 432x288 with 1 Axes>"
      ]
     },
     "metadata": {
      "needs_background": "light"
     },
     "output_type": "display_data"
    }
   ],
   "source": [
    "#построим диаграмму размаха\n",
    "#построим график\n",
    "(all_grouped\n",
    ".pivot_table(index = 'tariff', columns = 'month', values = 'calls_duration', aggfunc = 'var')\n",
    ".T\n",
    ".plot(kind = 'box')\n",
    ")\n",
    "plt.title('Гистограмма размаха дисперсии длительности звонков')\n",
    "plt.xlabel('Тариф')\n",
    "plt.ylabel('Длительность звонков')\n",
    "plt.show()"
   ]
  },
  {
   "cell_type": "code",
   "execution_count": 55,
   "metadata": {},
   "outputs": [
    {
     "data": {
      "image/png": "[encoded data removed]",
      "text/plain": [
       "<Figure size 432x288 with 1 Axes>"
      ]
     },
     "metadata": {
      "needs_background": "light"
     },
     "output_type": "display_data"
    },
    {
     "data": {
      "image/png": "[encoded data removed]",
      "text/plain": [
       "<Figure size 432x288 with 1 Axes>"
      ]
     },
     "metadata": {
      "needs_background": "light"
     },
     "output_type": "display_data"
    }
   ],
   "source": [
    "#построим диаграмму размаха\n",
    "#построим график\n",
    "smart_query[['calls_duration']].boxplot(vert=False)\n",
    "plt.xlabel('Минуты')\n",
    "plt.ylabel('Длительность')\n",
    "plt.show()\n",
    "ultra_query[['calls_duration']].boxplot(vert=False)\n",
    "plt.xlabel('Минуты')\n",
    "plt.ylabel('Длительность')\n",
    "plt.show()"
   ]
  },
  {
   "cell_type": "code",
   "execution_count": 56,
   "metadata": {},
   "outputs": [
    {
     "data": {
      "image/png": "[encoded data removed]",
      "text/plain": [
       "<Figure size 720x360 with 1 Axes>"
      ]
     },
     "metadata": {
      "needs_background": "light"
     },
     "output_type": "display_data"
    }
   ],
   "source": [
    "all_grouped[all_grouped['tariff'].isin(['ultra'])]['calls_duration'].plot(kind = 'hist', \n",
    "                                                                          alpha=0.5, bins = 30, \n",
    "                                                                          figsize = (10,5), label = 'ultra')\n",
    "\n",
    "all_grouped[all_grouped['tariff'].isin(['smart'])]['calls_duration'].plot(kind = 'hist', \n",
    "                                                                          alpha=0.5, bins = 30, \n",
    "                                                                          figsize = (10,5), label = 'smart')\n",
    "plt.title('Распределение средней длительности звонков')\n",
    "plt.xlabel('Минуты')\n",
    "plt.ylabel('Частотность')\n",
    "plt.legend();"
   ]
  },
  {
   "cell_type": "markdown",
   "metadata": {},
   "source": [
    "<b>Вывод:</b>Из графиков мы видим, что дисперсия по тарифу Smart приближена к нормальному распределению, дисперсия по тарифу Ultra гораздо больше, чем по тарифу Smart"
   ]
  },
  {
   "cell_type": "code",
   "execution_count": 57,
   "metadata": {},
   "outputs": [
    {
     "name": "stdout",
     "output_type": "stream",
     "text": [
      "Среднее по тарифу Smart 430.60998650472334\n",
      "Среднее по тарифу Ultra 560.1135646687698\n"
     ]
    }
   ],
   "source": [
    "calls_ultra = all_grouped[all_grouped['tariff'].isin(['ultra'])]['calls_duration']\n",
    "calls_smart = all_grouped[all_grouped['tariff'].isin(['smart'])]['calls_duration']\n",
    "print('Среднее по тарифу Smart',calls_smart.mean() )\n",
    "print('Среднее по тарифу Ultra', calls_ultra.mean() )\n"
   ]
  },
  {
   "cell_type": "code",
   "execution_count": 58,
   "metadata": {},
   "outputs": [
    {
     "name": "stdout",
     "output_type": "stream",
     "text": [
      "Дисперсия по тарифу Smart 37577.96708294311\n",
      "Дисперсия по тарифу Ultra 99062.63340527976\n"
     ]
    }
   ],
   "source": [
    "ultra_calls_var = np.var((all_grouped[all_grouped['tariff'].isin(['ultra'])]['calls_duration']), ddof = 1)\n",
    "smart_calls_var = np.var((all_grouped[all_grouped['tariff'].isin(['smart'])]['calls_duration']), ddof = 1)\n",
    "print('Дисперсия по тарифу Smart', smart_calls_var )\n",
    "print('Дисперсия по тарифу Ultra', ultra_calls_var)\n"
   ]
  },
  {
   "cell_type": "code",
   "execution_count": 59,
   "metadata": {},
   "outputs": [
    {
     "name": "stdout",
     "output_type": "stream",
     "text": [
      "Стандартное отклонение по тарифу Smart 193.85037292443653\n",
      "Стандартное отклонение Ultra 314.74216972830277\n"
     ]
    }
   ],
   "source": [
    "ultra_calls_std = np.std((all_grouped[all_grouped['tariff'].isin(['ultra'])]['calls_duration']), ddof = 1)\n",
    "smart_calls_std = np.std((all_grouped[all_grouped['tariff'].isin(['smart'])]['calls_duration']), ddof = 1)\n",
    "print('Стандартное отклонение по тарифу Smart', smart_calls_std )\n",
    "print('Стандартное отклонение Ultra', ultra_calls_std )\n",
    "\n"
   ]
  },
  {
   "cell_type": "code",
   "execution_count": 60,
   "metadata": {},
   "outputs": [
    {
     "data": {
      "image/png": "[encoded data removed]",
      "text/plain": [
       "<Figure size 720x360 with 1 Axes>"
      ]
     },
     "metadata": {
      "needs_background": "light"
     },
     "output_type": "display_data"
    }
   ],
   "source": [
    "all_grouped[all_grouped['tariff'].isin(['ultra'])]['mb_used'].plot(kind = 'hist', \n",
    "                                                                          alpha=0.5, bins = 30, \n",
    "                                                                          figsize = (10,5), label = 'ultra')\n",
    "\n",
    "all_grouped[all_grouped['tariff'].isin(['smart'])]['mb_used'].plot(kind = 'hist', \n",
    "                                                                          alpha=0.5, bins = 30, \n",
    "                                                                          figsize = (10,5), label = 'smart')\n",
    "plt.title('Распределение объема траффика')\n",
    "plt.xlabel('Объем интернет-траффика, мб')\n",
    "plt.ylabel('Частотность')\n",
    "plt.legend();"
   ]
  },
  {
   "cell_type": "markdown",
   "metadata": {},
   "source": [
    "Тут мы видим, что наибольшее количество пользователей тарифа smart использует траффик около 15 000 мб, большая часть пользователей тарифа Ultra использзует около 20 000 мб."
   ]
  },
  {
   "cell_type": "markdown",
   "metadata": {},
   "source": [
    "Рассчитаем дисперсию, ст.отклонение и среднее для объема интернет траффика "
   ]
  },
  {
   "cell_type": "code",
   "execution_count": 61,
   "metadata": {},
   "outputs": [
    {
     "name": "stdout",
     "output_type": "stream",
     "text": [
      "Среднее объема интернет-траффика по тарифу Smart 16236.47262118492\n",
      "Среднее объема интернет-траффика по тарифу Ultra 19686.76717948718\n",
      "\n",
      "Дисперсия объема интернет-траффика по тарифу Smart 34443100.68133359\n",
      "Дисперсия объема интернет-траффика по тарифу Ultra 99043439.60795662\n",
      "\n",
      "Стандартное отклонение объема интернет-траффика по тарифу Smart 5868.824471845583\n",
      "Стандартное отклонение объема интернет-траффика Ultra 9952.057054094726\n"
     ]
    }
   ],
   "source": [
    "mb_ultra = all_grouped[all_grouped['tariff'].isin(['ultra'])]['mb_used']\n",
    "mb_smart = all_grouped[all_grouped['tariff'].isin(['smart'])]['mb_used']\n",
    "print('Среднее объема интернет-траффика по тарифу Smart', mb_smart.mean() )\n",
    "print('Среднее объема интернет-траффика по тарифу Ultra', mb_ultra.mean() )\n",
    "print()\n",
    "ultra_mb_var = np.var((all_grouped[all_grouped['tariff'].isin(['ultra'])]['mb_used']), ddof = 1)\n",
    "smart_mb_var = np.var((all_grouped[all_grouped['tariff'].isin(['smart'])]['mb_used']), ddof = 1)\n",
    "print('Дисперсия объема интернет-траффика по тарифу Smart', smart_mb_var )\n",
    "print('Дисперсия объема интернет-траффика по тарифу Ultra', ultra_mb_var )\n",
    "print()\n",
    "ultra_mb_std = np.std((all_grouped[all_grouped['tariff'].isin(['ultra'])]['mb_used']), ddof = 1)\n",
    "smart_mb_std = np.std((all_grouped[all_grouped['tariff'].isin(['smart'])]['mb_used']), ddof = 1)\n",
    "print('Стандартное отклонение объема интернет-траффика по тарифу Smart', smart_mb_std)\n",
    "print('Стандартное отклонение объема интернет-траффика Ultra', ultra_mb_std )"
   ]
  },
  {
   "cell_type": "markdown",
   "metadata": {},
   "source": [
    "<div class=\"alert alert-block alert-info\">\n",
    "Построим график по столбцу messages\n",
    "</div>"
   ]
  },
  {
   "cell_type": "code",
   "execution_count": 62,
   "metadata": {},
   "outputs": [
    {
     "data": {
      "image/png": "[encoded data removed]",
      "text/plain": [
       "<Figure size 1440x432 with 1 Axes>"
      ]
     },
     "metadata": {
      "needs_background": "light"
     },
     "output_type": "display_data"
    }
   ],
   "source": [
    "all_grouped[all_grouped['tariff'].isin(['ultra'])]['messages'].plot(kind = 'hist', \n",
    "                                                                          alpha=0.5, bins = 40, \n",
    "                                                                          figsize = (20,6), label = 'ultra')\n",
    "\n",
    "all_grouped[all_grouped['tariff'].isin(['smart'])]['messages'].plot(kind = 'hist', \n",
    "                                                                          alpha=0.5, bins = 40, \n",
    "                                                                          figsize = (20,6), label = 'smart')\n",
    "plt.title('Распределение количества сообщений')\n",
    "plt.xlabel('Количество сообщений')\n",
    "plt.ylabel('Частотность')\n",
    "plt.legend();"
   ]
  },
  {
   "cell_type": "markdown",
   "metadata": {},
   "source": [
    "<div class=\"alert alert-block alert-info\">\n",
    "Как видно из графика, пользователи тарифа Ultra отправляют большее количество сообщений. Видны пики на некоторых определенных количествах </div>"
   ]
  },
  {
   "cell_type": "markdown",
   "metadata": {},
   "source": [
    "<div class=\"alert alert-block alert-info\">\n",
    "Рассчитаем дисперсию, ст.отклонение и среднее для столбца 'messeges' </div>"
   ]
  },
  {
   "cell_type": "code",
   "execution_count": 63,
   "metadata": {},
   "outputs": [
    {
     "name": "stdout",
     "output_type": "stream",
     "text": [
      "Среднее количества сообщений по тарифу Smart 38.71644120707596\n",
      "Среднее количества сообщений по тарифу Ultra 61.161006289308176\n",
      "\n",
      "Дисперсия количества сообщений по тарифу Smart 717.5942011753547\n",
      "Дисперсия количества сообщенийа по тарифу Ultra 2109.6591828651995\n",
      "\n",
      "Стандартное отклонение количества сообщений по тарифу Smart 26.787948804926344\n",
      "Стандартное отклонение количества сообщений Ultra 45.93102636416042\n"
     ]
    }
   ],
   "source": [
    "sms_ultra = all_grouped[all_grouped['tariff'].isin(['ultra'])]['messages']\n",
    "sms_smart = all_grouped[all_grouped['tariff'].isin(['smart'])]['messages']\n",
    "print('Среднее количества сообщений по тарифу Smart', sms_smart.mean() )\n",
    "print('Среднее количества сообщений по тарифу Ultra', sms_ultra.mean() )\n",
    "print()\n",
    "ultra_sms_var = np.var((all_grouped[all_grouped['tariff'].isin(['ultra'])]['messages']), ddof = 1)\n",
    "smart_sms_var = np.var((all_grouped[all_grouped['tariff'].isin(['smart'])]['messages']), ddof = 1)\n",
    "print('Дисперсия количества сообщений по тарифу Smart', smart_sms_var )\n",
    "print('Дисперсия количества сообщенийа по тарифу Ultra', ultra_sms_var )\n",
    "print()\n",
    "ultra_sms_std = np.std((all_grouped[all_grouped['tariff'].isin(['ultra'])]['messages']), ddof = 1)\n",
    "smart_sms_std = np.std((all_grouped[all_grouped['tariff'].isin(['smart'])]['messages']), ddof = 1)\n",
    "print('Стандартное отклонение количества сообщений по тарифу Smart', smart_sms_std)\n",
    "print('Стандартное отклонение количества сообщений Ultra', ultra_sms_std )"
   ]
  },
  {
   "cell_type": "markdown",
   "metadata": {},
   "source": [
    "### [3.2 Анализ количества сообщений] <a id=\"step_3.2\"></a>"
   ]
  },
  {
   "cell_type": "markdown",
   "metadata": {},
   "source": [
    "[в начало](#toc)"
   ]
  },
  {
   "cell_type": "markdown",
   "metadata": {},
   "source": [
    "#### [3.2.1  Среднее количество сообщений по тарифам] <a id=\"step_3.2.1\"></a>"
   ]
  },
  {
   "cell_type": "code",
   "execution_count": 64,
   "metadata": {},
   "outputs": [
    {
     "data": {
      "text/html": [
       "<div>\n",
       "<style scoped>\n",
       "    .dataframe tbody tr th:only-of-type {\n",
       "        vertical-align: middle;\n",
       "    }\n",
       "\n",
       "    .dataframe tbody tr th {\n",
       "        vertical-align: top;\n",
       "    }\n",
       "\n",
       "    .dataframe thead th {\n",
       "        text-align: right;\n",
       "    }\n",
       "</style>\n",
       "<table border=\"1\" class=\"dataframe\">\n",
       "  <thead>\n",
       "    <tr style=\"text-align: right;\">\n",
       "      <th>tariff</th>\n",
       "      <th>smart</th>\n",
       "      <th>ultra</th>\n",
       "    </tr>\n",
       "  </thead>\n",
       "  <tbody>\n",
       "    <tr>\n",
       "      <td>count</td>\n",
       "      <td>12.000000</td>\n",
       "      <td>12.000000</td>\n",
       "    </tr>\n",
       "    <tr>\n",
       "      <td>mean</td>\n",
       "      <td>36.262730</td>\n",
       "      <td>55.169629</td>\n",
       "    </tr>\n",
       "    <tr>\n",
       "      <td>std</td>\n",
       "      <td>6.229501</td>\n",
       "      <td>12.042615</td>\n",
       "    </tr>\n",
       "    <tr>\n",
       "      <td>min</td>\n",
       "      <td>20.000000</td>\n",
       "      <td>32.937500</td>\n",
       "    </tr>\n",
       "    <tr>\n",
       "      <td>25%</td>\n",
       "      <td>35.786119</td>\n",
       "      <td>46.978205</td>\n",
       "    </tr>\n",
       "    <tr>\n",
       "      <td>50%</td>\n",
       "      <td>38.869253</td>\n",
       "      <td>55.605580</td>\n",
       "    </tr>\n",
       "    <tr>\n",
       "      <td>75%</td>\n",
       "      <td>39.116941</td>\n",
       "      <td>64.010876</td>\n",
       "    </tr>\n",
       "    <tr>\n",
       "      <td>max</td>\n",
       "      <td>42.264808</td>\n",
       "      <td>72.008547</td>\n",
       "    </tr>\n",
       "  </tbody>\n",
       "</table>\n",
       "</div>"
      ],
      "text/plain": [
       "tariff      smart      ultra\n",
       "count   12.000000  12.000000\n",
       "mean    36.262730  55.169629\n",
       "std      6.229501  12.042615\n",
       "min     20.000000  32.937500\n",
       "25%     35.786119  46.978205\n",
       "50%     38.869253  55.605580\n",
       "75%     39.116941  64.010876\n",
       "max     42.264808  72.008547"
      ]
     },
     "metadata": {},
     "output_type": "display_data"
    }
   ],
   "source": [
    "#построим сводную таблицу и посмотрим ее описание\n",
    "display(all_grouped.pivot_table(index = 'tariff', columns = 'month', values = 'messages', aggfunc = 'mean').T.describe())"
   ]
  },
  {
   "cell_type": "code",
   "execution_count": 65,
   "metadata": {},
   "outputs": [
    {
     "name": "stderr",
     "output_type": "stream",
     "text": [
      "/opt/conda/lib/python3.7/site-packages/numpy/core/_asarray.py:83: VisibleDeprecationWarning: Creating an ndarray from ragged nested sequences (which is a list-or-tuple of lists-or-tuples-or ndarrays with different lengths or shapes) is deprecated. If you meant to do this, you must specify 'dtype=object' when creating the ndarray\n",
      "  return array(a, dtype, copy=False, order=order)\n"
     ]
    },
    {
     "data": {
      "text/plain": [
       "Text(0.5, 1.0, 'Диаграмма размаха среднего количества сообщений')"
      ]
     },
     "execution_count": 65,
     "metadata": {},
     "output_type": "execute_result"
    },
    {
     "data": {
      "image/png": "[encoded data removed]",
      "text/plain": [
       "<Figure size 2880x432 with 1 Axes>"
      ]
     },
     "metadata": {
      "needs_background": "light"
     },
     "output_type": "display_data"
    }
   ],
   "source": [
    "# построим диаграмму размаха\n",
    "plt.subplots(figsize= (40, 6))\n",
    "all_grouped.boxplot('messages',  by = 'tariff', ax=plt.subplot(1, 4, 1))\n",
    "plt.xlabel('Тариф')\n",
    "plt.ylabel('Среднее количество сообщений')\n",
    "plt.title('Диаграмма размаха среднего количества сообщений')"
   ]
  },
  {
   "cell_type": "code",
   "execution_count": 66,
   "metadata": {},
   "outputs": [
    {
     "data": {
      "text/plain": [
       "Text(0, 0.5, 'Частотность')"
      ]
     },
     "execution_count": 66,
     "metadata": {},
     "output_type": "execute_result"
    },
    {
     "data": {
      "image/png": "[encoded data removed]",
      "text/plain": [
       "<Figure size 432x288 with 1 Axes>"
      ]
     },
     "metadata": {
      "needs_background": "light"
     },
     "output_type": "display_data"
    }
   ],
   "source": [
    "#строим гистограмму\n",
    "(all_grouped\n",
    ".pivot_table(index = 'tariff', columns = 'month', values = 'messages', aggfunc = 'mean')\n",
    ".T\n",
    ".plot(kind = 'hist', alpha=0.5, bins = 30)\n",
    ")\n",
    "plt.title('Распределение среднего количества сообщений')\n",
    "plt.xlabel('Количество сообщений')\n",
    "plt.ylabel('Частотность')"
   ]
  },
  {
   "cell_type": "markdown",
   "metadata": {},
   "source": [
    "Мы видим, что в тарифе Ultra больший разброс по количеству сообщений и общее количество сообщений больше.\n",
    "Тем не менее по тарифу Smart так же есть разброс по сообщениям, но не такой сильный."
   ]
  },
  {
   "cell_type": "code",
   "execution_count": 67,
   "metadata": {},
   "outputs": [
    {
     "data": {
      "text/plain": [
       "Text(0, 0.5, 'Месяц')"
      ]
     },
     "execution_count": 67,
     "metadata": {},
     "output_type": "execute_result"
    },
    {
     "data": {
      "image/png": "[encoded data removed]",
      "text/plain": [
       "<Figure size 720x360 with 1 Axes>"
      ]
     },
     "metadata": {
      "needs_background": "light"
     },
     "output_type": "display_data"
    }
   ],
   "source": [
    "#построим столбчатую диаграмму\n",
    "(all_grouped\n",
    ".pivot_table(index = 'tariff', columns = 'month', values = 'messages', aggfunc = 'mean')\n",
    ".T\n",
    ".plot(kind = 'bar', figsize = (10,5))\n",
    ")\n",
    "plt.title('Распределение количества сообщений по месяцам')\n",
    "plt.xlabel('Количество сообщений')\n",
    "plt.ylabel('Месяц')"
   ]
  },
  {
   "cell_type": "markdown",
   "metadata": {},
   "source": [
    "<b>Вывод: </b> В целом пользователи тарифа Ultra отправляют больше сообщений, чем, пользователи тарфа Smart.\n",
    "Здесь мы видим похожую картину, что и по звонкам. В целом, количество сооьщений по обоим тарифм растет в течение 12 месяцев.\n",
    "Самое низкое количество сообщений - в феврале."
   ]
  },
  {
   "cell_type": "markdown",
   "metadata": {},
   "source": [
    "#### [3.2.2  Стандартное отклонение количества сообщений по тарифам] <a id=\"step_3.2.2\"></a>"
   ]
  },
  {
   "cell_type": "markdown",
   "metadata": {},
   "source": [
    "[в начало](#toc)"
   ]
  },
  {
   "cell_type": "code",
   "execution_count": 68,
   "metadata": {},
   "outputs": [
    {
     "data": {
      "text/html": [
       "<div>\n",
       "<style scoped>\n",
       "    .dataframe tbody tr th:only-of-type {\n",
       "        vertical-align: middle;\n",
       "    }\n",
       "\n",
       "    .dataframe tbody tr th {\n",
       "        vertical-align: top;\n",
       "    }\n",
       "\n",
       "    .dataframe thead th {\n",
       "        text-align: right;\n",
       "    }\n",
       "</style>\n",
       "<table border=\"1\" class=\"dataframe\">\n",
       "  <thead>\n",
       "    <tr style=\"text-align: right;\">\n",
       "      <th>tariff</th>\n",
       "      <th>smart</th>\n",
       "      <th>ultra</th>\n",
       "    </tr>\n",
       "  </thead>\n",
       "  <tbody>\n",
       "    <tr>\n",
       "      <td>count</td>\n",
       "      <td>12.000000</td>\n",
       "      <td>12.000000</td>\n",
       "    </tr>\n",
       "    <tr>\n",
       "      <td>mean</td>\n",
       "      <td>25.125986</td>\n",
       "      <td>41.572738</td>\n",
       "    </tr>\n",
       "    <tr>\n",
       "      <td>std</td>\n",
       "      <td>3.621369</td>\n",
       "      <td>7.559188</td>\n",
       "    </tr>\n",
       "    <tr>\n",
       "      <td>min</td>\n",
       "      <td>15.878707</td>\n",
       "      <td>26.709471</td>\n",
       "    </tr>\n",
       "    <tr>\n",
       "      <td>25%</td>\n",
       "      <td>24.644676</td>\n",
       "      <td>39.000073</td>\n",
       "    </tr>\n",
       "    <tr>\n",
       "      <td>50%</td>\n",
       "      <td>26.588090</td>\n",
       "      <td>43.831392</td>\n",
       "    </tr>\n",
       "    <tr>\n",
       "      <td>75%</td>\n",
       "      <td>27.071223</td>\n",
       "      <td>46.960619</td>\n",
       "    </tr>\n",
       "    <tr>\n",
       "      <td>max</td>\n",
       "      <td>28.852160</td>\n",
       "      <td>49.260598</td>\n",
       "    </tr>\n",
       "  </tbody>\n",
       "</table>\n",
       "</div>"
      ],
      "text/plain": [
       "tariff      smart      ultra\n",
       "count   12.000000  12.000000\n",
       "mean    25.125986  41.572738\n",
       "std      3.621369   7.559188\n",
       "min     15.878707  26.709471\n",
       "25%     24.644676  39.000073\n",
       "50%     26.588090  43.831392\n",
       "75%     27.071223  46.960619\n",
       "max     28.852160  49.260598"
      ]
     },
     "metadata": {},
     "output_type": "display_data"
    }
   ],
   "source": [
    "#проанализируем стандартное отклонение\n",
    "display(all_grouped.pivot_table(index = 'tariff', columns = 'month', values = 'messages', aggfunc = 'std').T.describe())"
   ]
  },
  {
   "cell_type": "code",
   "execution_count": 69,
   "metadata": {},
   "outputs": [
    {
     "data": {
      "image/png": "[encoded data removed]",
      "text/plain": [
       "<Figure size 432x288 with 1 Axes>"
      ]
     },
     "metadata": {
      "needs_background": "light"
     },
     "output_type": "display_data"
    }
   ],
   "source": [
    "#построим гистограмму\n",
    "(all_grouped\n",
    ".pivot_table(index = 'tariff', columns = 'month', values = 'messages', aggfunc = 'std')\n",
    ".T\n",
    ".plot(kind = 'hist', alpha = 0.5, bins = 30)\n",
    ")\n",
    "plt.title('Гистограмма распределения стандартного отклонения количества сообщений')\n",
    "plt.xlabel('Количество сообщений')\n",
    "plt.ylabel('Частотность')\n",
    "plt.show()"
   ]
  },
  {
   "cell_type": "code",
   "execution_count": 70,
   "metadata": {},
   "outputs": [
    {
     "data": {
      "image/png": "[encoded data removed]",
      "text/plain": [
       "<Figure size 432x288 with 1 Axes>"
      ]
     },
     "metadata": {
      "needs_background": "light"
     },
     "output_type": "display_data"
    }
   ],
   "source": [
    "#построим диаграмму размаха\n",
    "(all_grouped\n",
    ".pivot_table(index = 'tariff', columns = 'month', values = 'messages', aggfunc = 'std')\n",
    ".T\n",
    ".plot(kind = 'box')\n",
    ")\n",
    "plt.title('Диаграмма размаха стандартного отклонения количества сообщений')\n",
    "plt.xlabel('Тариф')\n",
    "plt.ylabel('Количество сообщений')\n",
    "plt.show()"
   ]
  },
  {
   "cell_type": "markdown",
   "metadata": {},
   "source": [
    "<b> Вывод: </b> Распределение стандартного отклонения далеко от нормального распределения по обоим тарифам. Но больший размах наблюдается у пользователей тарифа Ultra."
   ]
  },
  {
   "cell_type": "markdown",
   "metadata": {},
   "source": [
    "#### [3.2.3  Анализ дисперсии количества сообщений по тарифам] <a id=\"step_3.2.3\"></a>"
   ]
  },
  {
   "cell_type": "markdown",
   "metadata": {},
   "source": [
    "[в начало](#toc)"
   ]
  },
  {
   "cell_type": "code",
   "execution_count": 71,
   "metadata": {},
   "outputs": [
    {
     "data": {
      "text/html": [
       "<div>\n",
       "<style scoped>\n",
       "    .dataframe tbody tr th:only-of-type {\n",
       "        vertical-align: middle;\n",
       "    }\n",
       "\n",
       "    .dataframe tbody tr th {\n",
       "        vertical-align: top;\n",
       "    }\n",
       "\n",
       "    .dataframe thead th {\n",
       "        text-align: right;\n",
       "    }\n",
       "</style>\n",
       "<table border=\"1\" class=\"dataframe\">\n",
       "  <thead>\n",
       "    <tr style=\"text-align: right;\">\n",
       "      <th>tariff</th>\n",
       "      <th>smart</th>\n",
       "      <th>ultra</th>\n",
       "    </tr>\n",
       "  </thead>\n",
       "  <tbody>\n",
       "    <tr>\n",
       "      <td>count</td>\n",
       "      <td>12.000000</td>\n",
       "      <td>12.000000</td>\n",
       "    </tr>\n",
       "    <tr>\n",
       "      <td>mean</td>\n",
       "      <td>643.336613</td>\n",
       "      <td>1780.672066</td>\n",
       "    </tr>\n",
       "    <tr>\n",
       "      <td>std</td>\n",
       "      <td>162.969953</td>\n",
       "      <td>572.265368</td>\n",
       "    </tr>\n",
       "    <tr>\n",
       "      <td>min</td>\n",
       "      <td>252.133333</td>\n",
       "      <td>713.395833</td>\n",
       "    </tr>\n",
       "    <tr>\n",
       "      <td>25%</td>\n",
       "      <td>608.548252</td>\n",
       "      <td>1521.729261</td>\n",
       "    </tr>\n",
       "    <tr>\n",
       "      <td>50%</td>\n",
       "      <td>706.933460</td>\n",
       "      <td>1921.218134</td>\n",
       "    </tr>\n",
       "    <tr>\n",
       "      <td>75%</td>\n",
       "      <td>732.852605</td>\n",
       "      <td>2205.372188</td>\n",
       "    </tr>\n",
       "    <tr>\n",
       "      <td>max</td>\n",
       "      <td>832.447114</td>\n",
       "      <td>2426.606511</td>\n",
       "    </tr>\n",
       "  </tbody>\n",
       "</table>\n",
       "</div>"
      ],
      "text/plain": [
       "tariff       smart        ultra\n",
       "count    12.000000    12.000000\n",
       "mean    643.336613  1780.672066\n",
       "std     162.969953   572.265368\n",
       "min     252.133333   713.395833\n",
       "25%     608.548252  1521.729261\n",
       "50%     706.933460  1921.218134\n",
       "75%     732.852605  2205.372188\n",
       "max     832.447114  2426.606511"
      ]
     },
     "execution_count": 71,
     "metadata": {},
     "output_type": "execute_result"
    }
   ],
   "source": [
    "#посмотрим подробнее на дисперсию длительности звонков\n",
    "all_grouped.pivot_table(index = 'tariff', columns = 'month', values = 'messages', aggfunc = 'var').T.describe()"
   ]
  },
  {
   "cell_type": "code",
   "execution_count": 72,
   "metadata": {},
   "outputs": [
    {
     "data": {
      "image/png": "[encoded data removed]",
      "text/plain": [
       "<Figure size 432x288 with 1 Axes>"
      ]
     },
     "metadata": {
      "needs_background": "light"
     },
     "output_type": "display_data"
    }
   ],
   "source": [
    "#построим график\n",
    "(all_grouped\n",
    ".pivot_table(index = 'tariff', columns = 'month', values = 'messages', aggfunc = 'var')\n",
    ".T\n",
    ".plot(kind = 'hist', alpha = 0.5, bins = 30)\n",
    ")\n",
    "plt.title('Гистограмма распределения дисперсии количества сообщений')\n",
    "plt.xlabel('Количество сообщений')\n",
    "plt.ylabel('Частотность')\n",
    "plt.show()"
   ]
  },
  {
   "cell_type": "code",
   "execution_count": 73,
   "metadata": {},
   "outputs": [
    {
     "data": {
      "image/png": "[encoded data removed]",
      "text/plain": [
       "<Figure size 432x288 with 1 Axes>"
      ]
     },
     "metadata": {
      "needs_background": "light"
     },
     "output_type": "display_data"
    }
   ],
   "source": [
    "#построим диаграмму размаха\n",
    "#построим график\n",
    "(all_grouped\n",
    ".pivot_table(index = 'tariff', columns = 'month', values = 'messages', aggfunc = 'var')\n",
    ".T\n",
    ".plot(kind = 'box')\n",
    ")\n",
    "plt.title('Диаграмма размаха дисперсии количества сообщений')\n",
    "plt.xlabel('Тариф')\n",
    "plt.ylabel('Количество собщений')\n",
    "plt.show()"
   ]
  },
  {
   "cell_type": "markdown",
   "metadata": {},
   "source": [
    "<b>Вывод:</b> мы видим, что распределение дисперсии так же не похоже на нормальное  и в тарифе Ultra более нестабильна, чем в тарифе Smart"
   ]
  },
  {
   "cell_type": "markdown",
   "metadata": {},
   "source": [
    "### [3.3 Анализ интернет-траффика] <a id=\"step_3.3\"></a>"
   ]
  },
  {
   "cell_type": "markdown",
   "metadata": {},
   "source": [
    "[в начало](#toc)"
   ]
  },
  {
   "cell_type": "markdown",
   "metadata": {},
   "source": [
    "#### [3.3.1  Среднее количество интернет-траффика] <a id=\"step_3.3.1\"></a>"
   ]
  },
  {
   "cell_type": "code",
   "execution_count": 74,
   "metadata": {},
   "outputs": [
    {
     "data": {
      "text/html": [
       "<div>\n",
       "<style scoped>\n",
       "    .dataframe tbody tr th:only-of-type {\n",
       "        vertical-align: middle;\n",
       "    }\n",
       "\n",
       "    .dataframe tbody tr th {\n",
       "        vertical-align: top;\n",
       "    }\n",
       "\n",
       "    .dataframe thead th {\n",
       "        text-align: right;\n",
       "    }\n",
       "</style>\n",
       "<table border=\"1\" class=\"dataframe\">\n",
       "  <thead>\n",
       "    <tr style=\"text-align: right;\">\n",
       "      <th>tariff</th>\n",
       "      <th>smart</th>\n",
       "      <th>ultra</th>\n",
       "    </tr>\n",
       "  </thead>\n",
       "  <tbody>\n",
       "    <tr>\n",
       "      <td>count</td>\n",
       "      <td>12.000000</td>\n",
       "      <td>12.000000</td>\n",
       "    </tr>\n",
       "    <tr>\n",
       "      <td>mean</td>\n",
       "      <td>15083.613790</td>\n",
       "      <td>18443.306354</td>\n",
       "    </tr>\n",
       "    <tr>\n",
       "      <td>std</td>\n",
       "      <td>2678.569026</td>\n",
       "      <td>2867.635425</td>\n",
       "    </tr>\n",
       "    <tr>\n",
       "      <td>min</td>\n",
       "      <td>8524.441176</td>\n",
       "      <td>12858.500000</td>\n",
       "    </tr>\n",
       "    <tr>\n",
       "      <td>25%</td>\n",
       "      <td>14712.763393</td>\n",
       "      <td>17374.929730</td>\n",
       "    </tr>\n",
       "    <tr>\n",
       "      <td>50%</td>\n",
       "      <td>15819.983437</td>\n",
       "      <td>19532.836523</td>\n",
       "    </tr>\n",
       "    <tr>\n",
       "      <td>75%</td>\n",
       "      <td>16722.080259</td>\n",
       "      <td>20022.751140</td>\n",
       "    </tr>\n",
       "    <tr>\n",
       "      <td>max</td>\n",
       "      <td>18136.833828</td>\n",
       "      <td>21971.659420</td>\n",
       "    </tr>\n",
       "  </tbody>\n",
       "</table>\n",
       "</div>"
      ],
      "text/plain": [
       "tariff         smart         ultra\n",
       "count      12.000000     12.000000\n",
       "mean    15083.613790  18443.306354\n",
       "std      2678.569026   2867.635425\n",
       "min      8524.441176  12858.500000\n",
       "25%     14712.763393  17374.929730\n",
       "50%     15819.983437  19532.836523\n",
       "75%     16722.080259  20022.751140\n",
       "max     18136.833828  21971.659420"
      ]
     },
     "metadata": {},
     "output_type": "display_data"
    }
   ],
   "source": [
    "#построим сводную таблицу и посмотрим ее описание\n",
    "display(all_grouped.pivot_table(index = 'tariff', columns = 'month', values = 'mb_used', aggfunc = 'mean').T.describe())"
   ]
  },
  {
   "cell_type": "markdown",
   "metadata": {},
   "source": [
    "По использованию интернет-траффика мы видим, что средние значения очень близки. При этом минимумы отличаются существенно. Возможно, тариф smart покупают люди, которые не планируют много пользоваться интернетом."
   ]
  },
  {
   "cell_type": "code",
   "execution_count": 75,
   "metadata": {},
   "outputs": [
    {
     "name": "stderr",
     "output_type": "stream",
     "text": [
      "/opt/conda/lib/python3.7/site-packages/numpy/core/_asarray.py:83: VisibleDeprecationWarning: Creating an ndarray from ragged nested sequences (which is a list-or-tuple of lists-or-tuples-or ndarrays with different lengths or shapes) is deprecated. If you meant to do this, you must specify 'dtype=object' when creating the ndarray\n",
      "  return array(a, dtype, copy=False, order=order)\n"
     ]
    },
    {
     "data": {
      "text/plain": [
       "Text(0.5, 1.0, 'Диаграмма размаха среднего объема интернет-траффика')"
      ]
     },
     "execution_count": 75,
     "metadata": {},
     "output_type": "execute_result"
    },
    {
     "data": {
      "image/png": "[encoded data removed]",
      "text/plain": [
       "<Figure size 2880x432 with 1 Axes>"
      ]
     },
     "metadata": {
      "needs_background": "light"
     },
     "output_type": "display_data"
    }
   ],
   "source": [
    "# построим диаграмму размаха\n",
    "plt.subplots(figsize= (40, 6))\n",
    "all_grouped.boxplot('mb_used',  by = 'tariff', ax=plt.subplot(1, 4, 1))\n",
    "plt.xlabel('Тариф')\n",
    "plt.ylabel('Средний объем интернет-траффика')\n",
    "plt.title('Диаграмма размаха среднего объема интернет-траффика')"
   ]
  },
  {
   "cell_type": "markdown",
   "metadata": {},
   "source": [
    "Здесь мы так же видим, что пользователи тарифа Ultra больше пользуются интернетом, но пересечение по данным есть."
   ]
  },
  {
   "cell_type": "code",
   "execution_count": 76,
   "metadata": {},
   "outputs": [
    {
     "data": {
      "text/plain": [
       "Text(0, 0.5, 'Частотность')"
      ]
     },
     "execution_count": 76,
     "metadata": {},
     "output_type": "execute_result"
    },
    {
     "data": {
      "image/png": "[encoded data removed]",
      "text/plain": [
       "<Figure size 720x360 with 1 Axes>"
      ]
     },
     "metadata": {
      "needs_background": "light"
     },
     "output_type": "display_data"
    }
   ],
   "source": [
    "#строим гистограмму\n",
    "(all_grouped\n",
    ".pivot_table(index = 'tariff', columns = 'month', values = 'mb_used', aggfunc = 'mean')\n",
    ".T\n",
    ".plot(kind = 'hist', alpha=0.5, bins = 30, figsize = (10,5))\n",
    ")\n",
    "plt.title('Распределение среднего объема интернет-траффика')\n",
    "plt.xlabel('Объем интернет-траффика, мб')\n",
    "plt.ylabel('Частотность')"
   ]
  },
  {
   "cell_type": "markdown",
   "metadata": {},
   "source": [
    "Гистограмма так же показывает, что пересечение по объему траффика есть, но объем по тарифу Ultra все же больше"
   ]
  },
  {
   "cell_type": "code",
   "execution_count": 77,
   "metadata": {},
   "outputs": [
    {
     "data": {
      "text/plain": [
       "Text(0, 0.5, 'Месяц')"
      ]
     },
     "execution_count": 77,
     "metadata": {},
     "output_type": "execute_result"
    },
    {
     "data": {
      "image/png": "[encoded data removed]",
      "text/plain": [
       "<Figure size 720x360 with 1 Axes>"
      ]
     },
     "metadata": {
      "needs_background": "light"
     },
     "output_type": "display_data"
    }
   ],
   "source": [
    "#построим столбчатую диаграмму\n",
    "(all_grouped\n",
    ".pivot_table(index = 'tariff', columns = 'month', values = 'mb_used', aggfunc = 'mean')\n",
    ".T\n",
    ".plot(kind = 'bar', figsize = (10,5))\n",
    ")\n",
    "plt.title('Распределение объема интернет-траффика по месяцам')\n",
    "plt.xlabel('Объем интернет-траффика')\n",
    "plt.ylabel('Месяц')"
   ]
  },
  {
   "cell_type": "markdown",
   "metadata": {},
   "source": [
    "В целом по графику видно похожее распределение данных по месяцам"
   ]
  },
  {
   "cell_type": "markdown",
   "metadata": {},
   "source": [
    "<b>Вывод:</b> В целом по интернет-траффику поведение пользователей похоже на обоих тарифов. Использование траффика растет от месяца к месяцу. Меньше всего объем траффика был в январе - феврале, самый высокий - в декабре. Средние значения похожи по обоим тарифам, но минимальные и максимальные существенно отличаются."
   ]
  },
  {
   "cell_type": "markdown",
   "metadata": {},
   "source": [
    "#### [3.3.2  Стандартное отклонение объема интернет-траффика] <a id=\"step_3.3.2\"></a>"
   ]
  },
  {
   "cell_type": "markdown",
   "metadata": {},
   "source": [
    "[в начало](#toc)"
   ]
  },
  {
   "cell_type": "code",
   "execution_count": 78,
   "metadata": {},
   "outputs": [
    {
     "data": {
      "text/html": [
       "<div>\n",
       "<style scoped>\n",
       "    .dataframe tbody tr th:only-of-type {\n",
       "        vertical-align: middle;\n",
       "    }\n",
       "\n",
       "    .dataframe tbody tr th {\n",
       "        vertical-align: top;\n",
       "    }\n",
       "\n",
       "    .dataframe thead th {\n",
       "        text-align: right;\n",
       "    }\n",
       "</style>\n",
       "<table border=\"1\" class=\"dataframe\">\n",
       "  <thead>\n",
       "    <tr style=\"text-align: right;\">\n",
       "      <th>tariff</th>\n",
       "      <th>smart</th>\n",
       "      <th>ultra</th>\n",
       "    </tr>\n",
       "  </thead>\n",
       "  <tbody>\n",
       "    <tr>\n",
       "      <td>count</td>\n",
       "      <td>12.000000</td>\n",
       "      <td>12.000000</td>\n",
       "    </tr>\n",
       "    <tr>\n",
       "      <td>mean</td>\n",
       "      <td>5786.281418</td>\n",
       "      <td>9696.175911</td>\n",
       "    </tr>\n",
       "    <tr>\n",
       "      <td>std</td>\n",
       "      <td>355.114208</td>\n",
       "      <td>1020.956774</td>\n",
       "    </tr>\n",
       "    <tr>\n",
       "      <td>min</td>\n",
       "      <td>5202.129029</td>\n",
       "      <td>6872.147046</td>\n",
       "    </tr>\n",
       "    <tr>\n",
       "      <td>25%</td>\n",
       "      <td>5561.565536</td>\n",
       "      <td>9600.929287</td>\n",
       "    </tr>\n",
       "    <tr>\n",
       "      <td>50%</td>\n",
       "      <td>5816.713303</td>\n",
       "      <td>9820.787991</td>\n",
       "    </tr>\n",
       "    <tr>\n",
       "      <td>75%</td>\n",
       "      <td>5924.540976</td>\n",
       "      <td>10282.113177</td>\n",
       "    </tr>\n",
       "    <tr>\n",
       "      <td>max</td>\n",
       "      <td>6451.837940</td>\n",
       "      <td>10961.936316</td>\n",
       "    </tr>\n",
       "  </tbody>\n",
       "</table>\n",
       "</div>"
      ],
      "text/plain": [
       "tariff        smart         ultra\n",
       "count     12.000000     12.000000\n",
       "mean    5786.281418   9696.175911\n",
       "std      355.114208   1020.956774\n",
       "min     5202.129029   6872.147046\n",
       "25%     5561.565536   9600.929287\n",
       "50%     5816.713303   9820.787991\n",
       "75%     5924.540976  10282.113177\n",
       "max     6451.837940  10961.936316"
      ]
     },
     "metadata": {},
     "output_type": "display_data"
    }
   ],
   "source": [
    "#проанализируем стандартное отклонение\n",
    "display(all_grouped.pivot_table(index = 'tariff', columns = 'month', values = 'mb_used', aggfunc = 'std').T.describe())"
   ]
  },
  {
   "cell_type": "code",
   "execution_count": 79,
   "metadata": {},
   "outputs": [
    {
     "data": {
      "image/png": "[encoded data removed]",
      "text/plain": [
       "<Figure size 432x288 with 1 Axes>"
      ]
     },
     "metadata": {
      "needs_background": "light"
     },
     "output_type": "display_data"
    }
   ],
   "source": [
    "#построим гистограмму\n",
    "(all_grouped\n",
    ".pivot_table(index = 'tariff', columns = 'month', values = 'mb_used', aggfunc = 'std')\n",
    ".T\n",
    ".plot(kind = 'hist', alpha = 0.5, bins = 30)\n",
    ")\n",
    "plt.title('Гистограмма распределения стандартного отклонения объема интернет-траффика')\n",
    "plt.xlabel('Объем интернет-траффика, мб')\n",
    "plt.ylabel('Частотность')\n",
    "plt.show()"
   ]
  },
  {
   "cell_type": "code",
   "execution_count": 80,
   "metadata": {},
   "outputs": [
    {
     "data": {
      "image/png": "[encoded data removed]",
      "text/plain": [
       "<Figure size 432x288 with 1 Axes>"
      ]
     },
     "metadata": {
      "needs_background": "light"
     },
     "output_type": "display_data"
    }
   ],
   "source": [
    "#построим диаграмму размаха\n",
    "(all_grouped\n",
    ".pivot_table(index = 'tariff', columns = 'month', values = 'mb_used', aggfunc = 'std')\n",
    ".T\n",
    ".plot(kind = 'box')\n",
    ")\n",
    "plt.title('Диаграмма размаха стандартного отклонения объема интернет-траффика')\n",
    "plt.xlabel('Тариф')\n",
    "plt.ylabel('Объем интернет-траффика, мб')\n",
    "plt.show()"
   ]
  },
  {
   "cell_type": "markdown",
   "metadata": {},
   "source": [
    "По графикам отчетливо видно, что стандартное отклонение сильно различается. Разброс значений по объему траффика среди пользователей тарифа Ultra существенно выше."
   ]
  },
  {
   "cell_type": "code",
   "execution_count": 81,
   "metadata": {},
   "outputs": [
    {
     "data": {
      "text/plain": [
       "Text(0, 0.5, 'Месяц')"
      ]
     },
     "execution_count": 81,
     "metadata": {},
     "output_type": "execute_result"
    },
    {
     "data": {
      "image/png": "[encoded data removed]",
      "text/plain": [
       "<Figure size 720x360 with 1 Axes>"
      ]
     },
     "metadata": {
      "needs_background": "light"
     },
     "output_type": "display_data"
    }
   ],
   "source": [
    "#построим столбчатую диаграмму\n",
    "(all_grouped\n",
    ".pivot_table(index = 'tariff', columns = 'month', values = 'mb_used', aggfunc = 'std')\n",
    ".T\n",
    ".plot(kind = 'bar', figsize = (10,5))\n",
    ")\n",
    "plt.title('Распределение стандартного отклонения интернет-траффика по месяцам')\n",
    "plt.xlabel('Объем интернет-траффика')\n",
    "plt.ylabel('Месяц')"
   ]
  },
  {
   "cell_type": "markdown",
   "metadata": {},
   "source": [
    "<b>Вывод:</b> По графикам отчетливо видно, что стандартное отклонение между тарифами сильно различается. Разброс значений по объему траффика среди пользователей тарифа Ultra существенно выше.\n",
    "Стандартное отклонение внутри каждого тарифа от месяца к месяцу меняется не сильно, разброс значений к концу года по тарифу Ultra немного выравнивается. По тарифу Smart разброс в течение года более ровный."
   ]
  },
  {
   "cell_type": "markdown",
   "metadata": {},
   "source": [
    "#### [3.3.3  Анализ дисперсии объема интернет-траффика]<a id=\"step_3.3.3\"></a>"
   ]
  },
  {
   "cell_type": "markdown",
   "metadata": {},
   "source": [
    "[в начало](#toc)"
   ]
  },
  {
   "cell_type": "code",
   "execution_count": 82,
   "metadata": {},
   "outputs": [
    {
     "data": {
      "image/png": "[encoded data removed]",
      "text/plain": [
       "<Figure size 432x288 with 1 Axes>"
      ]
     },
     "metadata": {
      "needs_background": "light"
     },
     "output_type": "display_data"
    }
   ],
   "source": [
    "#построим график\n",
    "(all_grouped\n",
    ".pivot_table(index = 'tariff', columns = 'month', values = 'mb_used', aggfunc = 'var')\n",
    ".T\n",
    ".plot(kind = 'hist', alpha = 0.5, bins = 30)\n",
    ")\n",
    "plt.title('Гистограмма распределения дисперсии объема интернет-траффика')\n",
    "plt.xlabel('Объем интернет-траффика')\n",
    "plt.ylabel('Частотность')\n",
    "plt.show()"
   ]
  },
  {
   "cell_type": "code",
   "execution_count": 83,
   "metadata": {},
   "outputs": [
    {
     "data": {
      "image/png": "[encoded data removed]",
      "text/plain": [
       "<Figure size 432x288 with 1 Axes>"
      ]
     },
     "metadata": {
      "needs_background": "light"
     },
     "output_type": "display_data"
    }
   ],
   "source": [
    "#построим диаграмму размаха\n",
    "(all_grouped\n",
    ".pivot_table(index = 'tariff', columns = 'month', values = 'mb_used', aggfunc = 'var')\n",
    ".T\n",
    ".plot(kind = 'box')\n",
    ")\n",
    "plt.title('Диаграмма размаха дисперсии объема интернет-траффика')\n",
    "plt.xlabel('Тариф')\n",
    "plt.ylabel('Объем интернет-траффика, мб')\n",
    "plt.show()"
   ]
  },
  {
   "cell_type": "markdown",
   "metadata": {},
   "source": [
    "<b> Вывод: </b> Из графиков видно, что дисперсия в тарифах сильно отличается. Дисперсия по тарифу Smart приближена к нормальному распределению, дисперсия по тарифу Ultra далека от нормального распределения."
   ]
  },
  {
   "cell_type": "markdown",
   "metadata": {},
   "source": [
    "### [Шаг4. Исследование выручки. Проверка гипотез]<a id=\"step_4\"></a>"
   ]
  },
  {
   "cell_type": "markdown",
   "metadata": {},
   "source": [
    "[в начало](#toc)"
   ]
  },
  {
   "cell_type": "markdown",
   "metadata": {},
   "source": [
    "### [4.1 Исследование выручки] <a id=\"step_4.1\"></a>"
   ]
  },
  {
   "cell_type": "code",
   "execution_count": 84,
   "metadata": {},
   "outputs": [
    {
     "name": "stdout",
     "output_type": "stream",
     "text": [
      "Средняя выручка по тарифу Smart: 1250.0\n",
      "Средняя выручка по тарифу Ultra: 2061.0\n"
     ]
    }
   ],
   "source": [
    "#посмотрим на среднюю выручку по тарифам, мы ее считали ранее в пункте 3\n",
    "print('Средняя выручка по тарифу Smart:',mean_smart_total_cost)\n",
    "print('Средняя выручка по тарифу Ultra:', mean_ultra_total_cost)"
   ]
  },
  {
   "cell_type": "code",
   "execution_count": 85,
   "metadata": {},
   "outputs": [
    {
     "name": "stdout",
     "output_type": "stream",
     "text": [
      "Данные по выручке тарифа Smart:\n"
     ]
    },
    {
     "data": {
      "text/plain": [
       "count    2229.000000\n",
       "mean     1250.325240\n",
       "std       797.031332\n",
       "min       550.000000\n",
       "25%       553.000000\n",
       "50%       986.492188\n",
       "75%      1701.562500\n",
       "max      6765.015625\n",
       "Name: total_cost, dtype: float64"
      ]
     },
     "metadata": {},
     "output_type": "display_data"
    },
    {
     "name": "stdout",
     "output_type": "stream",
     "text": [
      "Данные по выручке тарифа Ultra:\n"
     ]
    },
    {
     "data": {
      "text/plain": [
       "count     985.000000\n",
       "mean     2060.529971\n",
       "std       356.305046\n",
       "min      1950.000000\n",
       "25%      1950.000000\n",
       "50%      1950.000000\n",
       "75%      1950.000000\n",
       "max      4743.310547\n",
       "Name: total_cost, dtype: float64"
      ]
     },
     "metadata": {},
     "output_type": "display_data"
    }
   ],
   "source": [
    "#посмотрим описание по тарифам:\n",
    "print('Данные по выручке тарифа Smart:')\n",
    "display(smart_query['total_cost'].describe())\n",
    "\n",
    "print('Данные по выручке тарифа Ultra:')\n",
    "display(ultra_query['total_cost'].describe())\n"
   ]
  },
  {
   "cell_type": "markdown",
   "metadata": {},
   "source": [
    "Мы видим, что по тарифу Smart очень высокий разброс от минимальной цены (стоимости тарифа) - 550 руб.  до максимальной - 6765 руб.) по тарифу Ultra разборс не такой сильный - от 1950 руб. до 4743 руб."
   ]
  },
  {
   "cell_type": "markdown",
   "metadata": {},
   "source": [
    "Построим диаграммы"
   ]
  },
  {
   "cell_type": "code",
   "execution_count": 86,
   "metadata": {},
   "outputs": [
    {
     "data": {
      "image/png": "[encoded data removed]",
      "text/plain": [
       "<Figure size 432x288 with 1 Axes>"
      ]
     },
     "metadata": {
      "needs_background": "light"
     },
     "output_type": "display_data"
    }
   ],
   "source": [
    "#строим гистограмму\n",
    "ax = all_grouped[all_grouped['tariff'] == 'ultra'].plot(kind = 'hist', y = 'total_cost', label = 'Выручка Ultra', alpha =0.5, bins = 20)\n",
    "all_grouped[all_grouped['tariff'] == 'smart'].plot(kind = 'hist', y = 'total_cost', label = 'Выручка Smart', ax=ax, alpha =0.5, bins = 20)\n",
    "plt.title('Гистограмма распределения выручки по тарифам')\n",
    "plt.xlabel('Рубли')\n",
    "plt.ylabel('Частотность')\n",
    "plt.show()"
   ]
  },
  {
   "cell_type": "markdown",
   "metadata": {},
   "source": [
    "Таким образом, мы видим, что в тарифе Ultra лишь малая часть пользователей выходит за рамки своего тарифа.\n",
    "Однако, среди пользователей тарифа Smart, достаточно большое количество превышают лимит и переплачивают по стоимости. При этом мы помним, что стоимость превышения лимита по всем услугам по тарифу Smart больше, чем у тарифа Ultra.\n",
    "Можно сделать вывод, что достаточно большому количеству пользователей тарифа Smart было бы выгодней переключиться на тариф Ultra и не переплачивать."
   ]
  },
  {
   "cell_type": "markdown",
   "metadata": {},
   "source": [
    "### [4.2 Проверка гипотез] <a id=\"step_4.2\"></a>"
   ]
  },
  {
   "cell_type": "markdown",
   "metadata": {},
   "source": [
    "[в начало](#toc)"
   ]
  },
  {
   "cell_type": "markdown",
   "metadata": {},
   "source": [
    "<b> Наши гипотезы: </b>"
   ]
  },
  {
   "cell_type": "markdown",
   "metadata": {},
   "source": [
    "#### H0 - Средняя выручка пользователей тарифов Ультра и Смарт равны"
   ]
  },
  {
   "cell_type": "markdown",
   "metadata": {},
   "source": [
    "#### H1 - Средняя выручка пользователей тарифов Ультра и Смарт не равны"
   ]
  },
  {
   "cell_type": "markdown",
   "metadata": {},
   "source": [
    "Для проверки гипотез будем использовать критерий p-value. Если p-value меньше порогового значения alpha, то гипотезу отвергаем. Иначе - не отвергаем. Alpha = 0.05"
   ]
  },
  {
   "cell_type": "code",
   "execution_count": 87,
   "metadata": {},
   "outputs": [
    {
     "name": "stdout",
     "output_type": "stream",
     "text": [
      "p-значение: 1.7881542264676596e-180\n",
      "Отвергаем нулевую гипотезу. Средняя выручка тарифов различается.\n"
     ]
    }
   ],
   "source": [
    "#задали alpha\n",
    "alpha = 0.05\n",
    "\n",
    "#используем т-тест, сравнивая выборки\n",
    "results = st.ttest_ind(smart_query['total_cost'], ultra_query['total_cost'])\n",
    "print('p-значение:', results.pvalue)\n",
    "\n",
    "#функция для вывода нужного нам результата\n",
    "if results.pvalue < alpha:\n",
    "    print('Отвергаем нулевую гипотезу. Средняя выручка тарифов различается.')\n",
    "else:\n",
    "    print('Не можем отвергнуть нулевую гипотезу.')"
   ]
  },
  {
   "cell_type": "markdown",
   "metadata": {},
   "source": [
    "Проверка дисперсии выборок, [стат.тестом Левене](https://docs.scipy.org/doc/scipy/reference/generated/scipy.stats.levene.html) и  [тестом Барлетта](https://docs.scipy.org/doc/scipy/reference/generated/scipy.stats.bartlett.html). \n"
   ]
  },
  {
   "cell_type": "code",
   "execution_count": 88,
   "metadata": {},
   "outputs": [
    {
     "data": {
      "text/plain": [
       "5.212050107656611e-119"
      ]
     },
     "execution_count": 88,
     "metadata": {},
     "output_type": "execute_result"
    }
   ],
   "source": [
    "from scipy.stats import levene\n",
    "stat, p = levene(smart_query['total_cost'], ultra_query['total_cost'])\n",
    "p"
   ]
  },
  {
   "cell_type": "code",
   "execution_count": 89,
   "metadata": {},
   "outputs": [
    {
     "data": {
      "text/plain": [
       "4.154473791793454e-150"
      ]
     },
     "execution_count": 89,
     "metadata": {},
     "output_type": "execute_result"
    }
   ],
   "source": [
    "from scipy.stats import bartlett\n",
    "stat, p = bartlett(smart_query['total_cost'], ultra_query['total_cost'])\n",
    "p"
   ]
  },
  {
   "cell_type": "code",
   "execution_count": 90,
   "metadata": {},
   "outputs": [
    {
     "data": {
      "text/plain": [
       "[635258.9445427976, 126953.2854599396]"
      ]
     },
     "execution_count": 90,
     "metadata": {},
     "output_type": "execute_result"
    }
   ],
   "source": [
    "[np.var(x, ddof=1) for x in [smart_query['total_cost'], ultra_query['total_cost']]]"
   ]
  },
  {
   "cell_type": "markdown",
   "metadata": {},
   "source": [
    "Тест Барлетта - используется при нормальном распределении, Левене - если распределение ненормальное."
   ]
  },
  {
   "cell_type": "markdown",
   "metadata": {},
   "source": [
    "При этом p-value достаточно мало, что позволяет утверждать, что ошибочный результат маловероятен. Это говорит нам о том, что мы можем принять альтернативную гипотезу - средняя выручка тарифов различается."
   ]
  },
  {
   "cell_type": "markdown",
   "metadata": {},
   "source": [
    "Данный вывод совпадает с тем, что мы ранее описали при исследовании выручки. Его можно сччитать корректным."
   ]
  },
  {
   "cell_type": "markdown",
   "metadata": {},
   "source": [
    "Теперь создадим 2 новых датафрейма: для москвичей и не-москвичей. На них проверим нулевую гипотезу, что средняя выручка пользователей из Москвы отличается от выручки пользователей из других регионов."
   ]
  },
  {
   "cell_type": "markdown",
   "metadata": {},
   "source": [
    "#### H0 - средняя выручка пользователей из Москвы не отличается от выручки пользователей из других регионов, т.е. средние значения равны"
   ]
  },
  {
   "cell_type": "markdown",
   "metadata": {},
   "source": [
    "#### H1 - средняя выручка пользователей из Москвы отличается от выручки пользователей из  других регионов, т.е. средние значения не равны"
   ]
  },
  {
   "cell_type": "markdown",
   "metadata": {},
   "source": [
    "Для оценки гипотез будетм так же использовать критерий pvalue"
   ]
  },
  {
   "cell_type": "code",
   "execution_count": 91,
   "metadata": {},
   "outputs": [
    {
     "name": "stdout",
     "output_type": "stream",
     "text": [
      "p-значение: 0.5205321893722812\n",
      "Не можем отвергнуть нулевую гипотезу.\n"
     ]
    }
   ],
   "source": [
    "#отделим срез данных по городу Москва\n",
    "mow_query = all_grouped.query('city == \"Москва\"')\n",
    "other_city_query = all_grouped.query('city != \"Москва\"')\n",
    "\n",
    "results_city = st.ttest_ind(mow_query['total_cost'], other_city_query['total_cost'])\n",
    "\n",
    "\n",
    "print('p-значение:', results_city.pvalue)\n",
    "if results_city.pvalue < alpha:\n",
    "    print('Отвергаем нулевую гипотезу.')\n",
    "else:\n",
    "    print('Не можем отвергнуть нулевую гипотезу.')"
   ]
  },
  {
   "cell_type": "markdown",
   "metadata": {},
   "source": [
    "Полученное значение p-value говорит о том, что в среднем выручка между Москвой и остальными регионами отличается, но с вероятностью 52% такое значение можно получить случайно. Это слишком высокая вероятность, чтобы делать выводы о значимом различии между средними значениями выручки. Поэтому принимаем гипотезу, что средняя выручка по Москве равна средней выручке по другим регионам."
   ]
  },
  {
   "cell_type": "markdown",
   "metadata": {},
   "source": [
    "### [Шаг 5. Общий вывод] <a id=\"step_5\"></a>"
   ]
  },
  {
   "cell_type": "markdown",
   "metadata": {},
   "source": [
    "[в начало](#toc)"
   ]
  },
  {
   "cell_type": "markdown",
   "metadata": {},
   "source": [
    "В данной работе мы рассмотрели 5 таблиц от 500 до 202607 строк, в которых содержится информация о пользователях сотового оператора. Провели обработку данных, проверив таблицы на пропуски и дубликаты, заменили формат данных, заменили похожие названия столбцов. <p>\n",
    "Далее мы расмотрели имеющиеся данные, посмотрели динамку роста услуг и выяснили, что по всем тарифам происходил рост объема услуг в течение всего исследуемого периода, так же росла и выручка, что выглядит довольно гармонично. <p>\n",
    "После чего мы проанализировали данные более подробно, выяяснив распределение средних значений по всем видам предоставляемых услуг. Как показал наш анализ, активность пользователей отличается в зависимости от тарифов. Пользователи тарифа Ultra не так ограничены лимитами, поэтому разброс значений в этом тарифе наблюдается почти по всем критериям. \n",
    "Так же активность различается, в зависимости от типа услуг: например, по количеству звонков и сообщений результаты очень разные между тарифами, а вот сравнивая объем интернет-траффика, мы заметили много пересечений.\n",
    "Тем не менее, большая часть клиентов этого тарифа Ultra уклыдвается в абонентскую плату. Менее четверти из них доплачивают за услуги.\n",
    "Из всех видов услуг, по которым клиенты превышают лимит выигрывает по интернет-траффик.\n",
    "Именно этим обусловлен больший процент выручки у тарифа Smart. Кроме того, по тарифу Smart клиенты чаще всего выпадают из лимита по звонкам, в то время как в тариф Ultra включен большой лимит по минутам и пользователям его хватает. <p>\n",
    "Таким образом, можно озвучить основной вывод: тариф Smart для сотового оператора будет выгодней, чем тариф Ultra, с сохранением текущих лимитов и сохранением текущей стоимости доплат за превышение лимитов, ходящих в тариф. \n"
   ]
  },
  {
   "cell_type": "code",
   "execution_count": null,
   "metadata": {},
   "outputs": [],
   "source": []
  }
 ],
 "metadata": {
  "kernelspec": {
   "display_name": "Python 3",
   "language": "python",
   "name": "python3"
  },
  "language_info": {
   "codemirror_mode": {
    "name": "ipython",
    "version": 3
   },
   "file_extension": ".py",
   "mimetype": "text/x-python",
   "name": "python",
   "nbconvert_exporter": "python",
   "pygments_lexer": "ipython3",
   "version": "3.7.8"
  },
  "toc": {
   "base_numbering": 1,
   "nav_menu": {},
   "number_sections": true,
   "sideBar": true,
   "skip_h1_title": true,
   "title_cell": "Table of Contents",
   "title_sidebar": "Contents",
   "toc_cell": false,
   "toc_position": {},
   "toc_section_display": true,
   "toc_window_display": false
  }
 },
 "nbformat": 4,
 "nbformat_minor": 2
}
