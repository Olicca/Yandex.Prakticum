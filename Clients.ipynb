{
 "cells": [
  {
   "cell_type": "markdown",
   "metadata": {},
   "source": [
    "# Прогнозирование оттока посетителей фитнес-центра"
   ]
  },
  {
   "cell_type": "markdown",
   "metadata": {},
   "source": [
    "Сеть фитнес-центров «Культурист-датасаентист» разрабатывает стратегию взаимодействия с клиентами на основе аналитических данных. Распространённая проблема фитнес-клубов и других сервисов — отток клиентов. \n",
    "Чтобы бороться с оттоком, отдел по работе с клиентами «Культуриста-датасаентиста» перевёл в электронный вид множество клиентских анкет. Наша задача — провести анализ и подготовить план действий по удержанию клиентов."
   ]
  },
  {
   "cell_type": "markdown",
   "metadata": {},
   "source": [
    "<b> План исследования: </b> <p>\n",
    "* Шаг 1.Загрузка и предобработка данных <p>\n",
    "* Шаг 2.Исследовательский анализ данных (EDA)\n",
    "    - Есть ли в датасете отсутствующие признаки, изучить средние значения и стандартные отклонения (пригодится метод describe());\n",
    "    - Посмотреть на средние значения признаков в двух группах — тех, кто ушел в отток и тех, кто остался (воспользуйтесь методом groupby());\n",
    "    - Построить столбчатые гистограммы и распределения признаков для тех, кто ушёл (отток) и тех, кто остался (не попали в отток);\n",
    "    - Построить матрицу корреляций и отобразить её <p>\n",
    "* Шаг 3. Построить модель прогнозирования оттока клиентов:\n",
    "    - Построить модель бинарной классификации клиентов, где целевой признак — факт оттока клиента в следующем месяце:\n",
    "разбить данные на обучающую и валидационную выборку функцией train_test_split().\n",
    "    - Обучить модель на train-выборке двумя способами:\n",
    "        * логистической регрессией,\n",
    "        * случайным лесом.\n",
    "    - Оценить метрики accuracy, precision и recall для обеих моделей на валидационной выборке. Сравнить по ним модели. Какая модель показала себя лучше на основании метрик? Указать параметр random_state при разделении выборки и задании алгоритма.\n",
    "* Шаг 4. Сделаем кластеризацию клиентов:\n",
    "    - Стандартизируем данные.\n",
    "    - Построим матрицу расстояний функцией linkage() на стандартизованной матрице признаков и нарисуем дендрограмму\n",
    "    - Обучим модель кластеризации на основании алгоритма K-Means и спрогнозируйте кластеры клиентов. \n",
    "    - Построим распределения признаков для кластеров.\n",
    "    - Для каждого полученного кластера посчитаем долю оттока\n",
    "* Шаг 4. Выводы\n",
    "\n",
    "\n",
    "    "
   ]
  },
  {
   "cell_type": "markdown",
   "metadata": {},
   "source": [
    "## Загрузка и предобработка данных"
   ]
  },
  {
   "cell_type": "code",
   "execution_count": 1,
   "metadata": {},
   "outputs": [],
   "source": [
    "#импортируем библиотеки\n",
    "import pandas as pd\n",
    "import numpy as np\n",
    "import scipy.stats as st\n",
    "import matplotlib.pyplot as plt\n",
    "import plotly.express as px\n",
    "import seaborn as sns\n",
    "import warnings\n",
    "warnings.filterwarnings('ignore')\n",
    "from plotly import graph_objects as go\n",
    "\n",
    "from sklearn.preprocessing import StandardScaler\n",
    "from sklearn.model_selection import train_test_split\n",
    "from sklearn.linear_model import Lasso, Ridge\n",
    "from sklearn.tree import DecisionTreeRegressor\n",
    "from sklearn.ensemble import RandomForestRegressor, GradientBoostingRegressor\n",
    "from sklearn.ensemble import RandomForestClassifier, GradientBoostingClassifier\n",
    "import matplotlib.pyplot as plt\n",
    "from sklearn.metrics import mean_absolute_error, mean_squared_error, r2_score\n",
    "\n",
    "from sklearn.linear_model import LogisticRegression\n",
    "from sklearn.preprocessing import StandardScaler\n",
    "\n",
    "from sklearn.metrics import accuracy_score, precision_score, recall_score, f1_score\n",
    "from sklearn.metrics import roc_auc_score\n",
    "from scipy.cluster.hierarchy import dendrogram, linkage \n",
    "from sklearn.cluster import KMeans"
   ]
  },
  {
   "cell_type": "code",
   "execution_count": 2,
   "metadata": {},
   "outputs": [],
   "source": [
    "fitness = pd.read_csv('/datasets/gym_churn.csv')"
   ]
  },
  {
   "cell_type": "code",
   "execution_count": 3,
   "metadata": {},
   "outputs": [
    {
     "data": {
      "text/html": [
       "<div>\n",
       "<style scoped>\n",
       "    .dataframe tbody tr th:only-of-type {\n",
       "        vertical-align: middle;\n",
       "    }\n",
       "\n",
       "    .dataframe tbody tr th {\n",
       "        vertical-align: top;\n",
       "    }\n",
       "\n",
       "    .dataframe thead th {\n",
       "        text-align: right;\n",
       "    }\n",
       "</style>\n",
       "<table border=\"1\" class=\"dataframe\">\n",
       "  <thead>\n",
       "    <tr style=\"text-align: right;\">\n",
       "      <th></th>\n",
       "      <th>gender</th>\n",
       "      <th>Near_Location</th>\n",
       "      <th>Partner</th>\n",
       "      <th>Promo_friends</th>\n",
       "      <th>Phone</th>\n",
       "      <th>Contract_period</th>\n",
       "      <th>Group_visits</th>\n",
       "      <th>Age</th>\n",
       "      <th>Avg_additional_charges_total</th>\n",
       "      <th>Month_to_end_contract</th>\n",
       "      <th>Lifetime</th>\n",
       "      <th>Avg_class_frequency_total</th>\n",
       "      <th>Avg_class_frequency_current_month</th>\n",
       "      <th>Churn</th>\n",
       "    </tr>\n",
       "  </thead>\n",
       "  <tbody>\n",
       "    <tr>\n",
       "      <td>0</td>\n",
       "      <td>1</td>\n",
       "      <td>1</td>\n",
       "      <td>1</td>\n",
       "      <td>1</td>\n",
       "      <td>0</td>\n",
       "      <td>6</td>\n",
       "      <td>1</td>\n",
       "      <td>29</td>\n",
       "      <td>14.227470</td>\n",
       "      <td>5.0</td>\n",
       "      <td>3</td>\n",
       "      <td>0.020398</td>\n",
       "      <td>0.000000</td>\n",
       "      <td>0</td>\n",
       "    </tr>\n",
       "    <tr>\n",
       "      <td>1</td>\n",
       "      <td>0</td>\n",
       "      <td>1</td>\n",
       "      <td>0</td>\n",
       "      <td>0</td>\n",
       "      <td>1</td>\n",
       "      <td>12</td>\n",
       "      <td>1</td>\n",
       "      <td>31</td>\n",
       "      <td>113.202938</td>\n",
       "      <td>12.0</td>\n",
       "      <td>7</td>\n",
       "      <td>1.922936</td>\n",
       "      <td>1.910244</td>\n",
       "      <td>0</td>\n",
       "    </tr>\n",
       "    <tr>\n",
       "      <td>2</td>\n",
       "      <td>0</td>\n",
       "      <td>1</td>\n",
       "      <td>1</td>\n",
       "      <td>0</td>\n",
       "      <td>1</td>\n",
       "      <td>1</td>\n",
       "      <td>0</td>\n",
       "      <td>28</td>\n",
       "      <td>129.448479</td>\n",
       "      <td>1.0</td>\n",
       "      <td>2</td>\n",
       "      <td>1.859098</td>\n",
       "      <td>1.736502</td>\n",
       "      <td>0</td>\n",
       "    </tr>\n",
       "    <tr>\n",
       "      <td>3</td>\n",
       "      <td>0</td>\n",
       "      <td>1</td>\n",
       "      <td>1</td>\n",
       "      <td>1</td>\n",
       "      <td>1</td>\n",
       "      <td>12</td>\n",
       "      <td>1</td>\n",
       "      <td>33</td>\n",
       "      <td>62.669863</td>\n",
       "      <td>12.0</td>\n",
       "      <td>2</td>\n",
       "      <td>3.205633</td>\n",
       "      <td>3.357215</td>\n",
       "      <td>0</td>\n",
       "    </tr>\n",
       "    <tr>\n",
       "      <td>4</td>\n",
       "      <td>1</td>\n",
       "      <td>1</td>\n",
       "      <td>1</td>\n",
       "      <td>1</td>\n",
       "      <td>1</td>\n",
       "      <td>1</td>\n",
       "      <td>0</td>\n",
       "      <td>26</td>\n",
       "      <td>198.362265</td>\n",
       "      <td>1.0</td>\n",
       "      <td>3</td>\n",
       "      <td>1.113884</td>\n",
       "      <td>1.120078</td>\n",
       "      <td>0</td>\n",
       "    </tr>\n",
       "    <tr>\n",
       "      <td>5</td>\n",
       "      <td>1</td>\n",
       "      <td>1</td>\n",
       "      <td>0</td>\n",
       "      <td>0</td>\n",
       "      <td>1</td>\n",
       "      <td>1</td>\n",
       "      <td>1</td>\n",
       "      <td>34</td>\n",
       "      <td>450.743960</td>\n",
       "      <td>1.0</td>\n",
       "      <td>3</td>\n",
       "      <td>2.623477</td>\n",
       "      <td>2.637007</td>\n",
       "      <td>0</td>\n",
       "    </tr>\n",
       "    <tr>\n",
       "      <td>6</td>\n",
       "      <td>1</td>\n",
       "      <td>1</td>\n",
       "      <td>1</td>\n",
       "      <td>1</td>\n",
       "      <td>0</td>\n",
       "      <td>6</td>\n",
       "      <td>1</td>\n",
       "      <td>32</td>\n",
       "      <td>94.266389</td>\n",
       "      <td>6.0</td>\n",
       "      <td>2</td>\n",
       "      <td>1.138941</td>\n",
       "      <td>1.277242</td>\n",
       "      <td>0</td>\n",
       "    </tr>\n",
       "    <tr>\n",
       "      <td>7</td>\n",
       "      <td>0</td>\n",
       "      <td>1</td>\n",
       "      <td>0</td>\n",
       "      <td>0</td>\n",
       "      <td>1</td>\n",
       "      <td>1</td>\n",
       "      <td>0</td>\n",
       "      <td>30</td>\n",
       "      <td>217.786641</td>\n",
       "      <td>1.0</td>\n",
       "      <td>0</td>\n",
       "      <td>1.213502</td>\n",
       "      <td>1.049387</td>\n",
       "      <td>1</td>\n",
       "    </tr>\n",
       "    <tr>\n",
       "      <td>8</td>\n",
       "      <td>1</td>\n",
       "      <td>1</td>\n",
       "      <td>1</td>\n",
       "      <td>1</td>\n",
       "      <td>1</td>\n",
       "      <td>1</td>\n",
       "      <td>1</td>\n",
       "      <td>23</td>\n",
       "      <td>45.409909</td>\n",
       "      <td>1.0</td>\n",
       "      <td>1</td>\n",
       "      <td>1.106239</td>\n",
       "      <td>1.059333</td>\n",
       "      <td>0</td>\n",
       "    </tr>\n",
       "    <tr>\n",
       "      <td>9</td>\n",
       "      <td>0</td>\n",
       "      <td>1</td>\n",
       "      <td>0</td>\n",
       "      <td>0</td>\n",
       "      <td>1</td>\n",
       "      <td>1</td>\n",
       "      <td>0</td>\n",
       "      <td>31</td>\n",
       "      <td>65.310836</td>\n",
       "      <td>1.0</td>\n",
       "      <td>11</td>\n",
       "      <td>1.810852</td>\n",
       "      <td>1.951368</td>\n",
       "      <td>0</td>\n",
       "    </tr>\n",
       "  </tbody>\n",
       "</table>\n",
       "</div>"
      ],
      "text/plain": [
       "   gender  Near_Location  Partner  Promo_friends  Phone  Contract_period  \\\n",
       "0       1              1        1              1      0                6   \n",
       "1       0              1        0              0      1               12   \n",
       "2       0              1        1              0      1                1   \n",
       "3       0              1        1              1      1               12   \n",
       "4       1              1        1              1      1                1   \n",
       "5       1              1        0              0      1                1   \n",
       "6       1              1        1              1      0                6   \n",
       "7       0              1        0              0      1                1   \n",
       "8       1              1        1              1      1                1   \n",
       "9       0              1        0              0      1                1   \n",
       "\n",
       "   Group_visits  Age  Avg_additional_charges_total  Month_to_end_contract  \\\n",
       "0             1   29                     14.227470                    5.0   \n",
       "1             1   31                    113.202938                   12.0   \n",
       "2             0   28                    129.448479                    1.0   \n",
       "3             1   33                     62.669863                   12.0   \n",
       "4             0   26                    198.362265                    1.0   \n",
       "5             1   34                    450.743960                    1.0   \n",
       "6             1   32                     94.266389                    6.0   \n",
       "7             0   30                    217.786641                    1.0   \n",
       "8             1   23                     45.409909                    1.0   \n",
       "9             0   31                     65.310836                    1.0   \n",
       "\n",
       "   Lifetime  Avg_class_frequency_total  Avg_class_frequency_current_month  \\\n",
       "0         3                   0.020398                           0.000000   \n",
       "1         7                   1.922936                           1.910244   \n",
       "2         2                   1.859098                           1.736502   \n",
       "3         2                   3.205633                           3.357215   \n",
       "4         3                   1.113884                           1.120078   \n",
       "5         3                   2.623477                           2.637007   \n",
       "6         2                   1.138941                           1.277242   \n",
       "7         0                   1.213502                           1.049387   \n",
       "8         1                   1.106239                           1.059333   \n",
       "9        11                   1.810852                           1.951368   \n",
       "\n",
       "   Churn  \n",
       "0      0  \n",
       "1      0  \n",
       "2      0  \n",
       "3      0  \n",
       "4      0  \n",
       "5      0  \n",
       "6      0  \n",
       "7      1  \n",
       "8      0  \n",
       "9      0  "
      ]
     },
     "metadata": {},
     "output_type": "display_data"
    }
   ],
   "source": [
    "#посмотрим на данные\n",
    "display(fitness.head(10))"
   ]
  },
  {
   "cell_type": "markdown",
   "metadata": {},
   "source": [
    "Заказчик подготовил данные, которые содержат данные на месяц до оттока и факт оттока на определённый месяц. \n",
    "Набор данных включает следующие поля:\n",
    "- <b> 'Churn' </b> — факт оттока в текущем месяце;\n",
    "\n",
    "Данные клиента за предыдущий до проверки факта оттока месяц:\n",
    "- <b> 'gender'</b> — пол;\n",
    "- <b> 'Near_Location'</b> — проживание или работа в районе, где находится фитнес-центр;\n",
    "- <b> 'Partner' </b> — сотрудник компании-партнёра клуба (сотрудничество с компаниями, чьи сотрудники могут получать скидки на абонемент — в таком случае фитнес-центр хранит информацию о работодателе клиента);\n",
    "- <b> Promo_friends </b> — факт первоначальной записи в рамках акции «приведи друга» (использовал промо-код от знакомого при оплате первого абонемента);\n",
    "- <b> 'Phone' </b> — наличие контактного телефона;\n",
    "- <b> 'Age' </b> — возраст;\n",
    "- <b> 'Lifetime' </b> — время с момента первого обращения в фитнес-центр (в месяцах). \n",
    "\n",
    "Информация на основе журнала посещений, покупок и информация о текущем статусе абонемента клиента:\n",
    "- <b> 'Contract_period' </b> — длительность текущего действующего абонемента (месяц, 3 месяца, 6 месяцев, год);\n",
    "- <b> 'Month_to_end_contract' </b> — срок до окончания текущего действующего абонемента (в месяцах);\n",
    "- <b> 'Group_visits' </b> — факт посещения групповых занятий;\n",
    "- <b> 'Avg_class_frequency_total' </b> — средняя частота посещений в неделю за все время с начала действия абонемента;\n",
    "- <b> 'Avg_class_frequency_current_month' </b> — средняя частота посещений в неделю за предыдущий месяц;\n",
    "- <b> 'Avg_additional_charges_total'</b> — суммарная выручка от других услуг фитнес-центра: кафе, спорт-товары, косметический и массажный салон.    "
   ]
  },
  {
   "cell_type": "code",
   "execution_count": 4,
   "metadata": {},
   "outputs": [],
   "source": [
    "#приведем названия столбцов к нижнему регистру\n",
    "fitness.columns = fitness.columns.str.lower()"
   ]
  },
  {
   "cell_type": "code",
   "execution_count": 5,
   "metadata": {},
   "outputs": [
    {
     "name": "stdout",
     "output_type": "stream",
     "text": [
      "<class 'pandas.core.frame.DataFrame'>\n",
      "RangeIndex: 4000 entries, 0 to 3999\n",
      "Data columns (total 14 columns):\n",
      "gender                               4000 non-null int64\n",
      "near_location                        4000 non-null int64\n",
      "partner                              4000 non-null int64\n",
      "promo_friends                        4000 non-null int64\n",
      "phone                                4000 non-null int64\n",
      "contract_period                      4000 non-null int64\n",
      "group_visits                         4000 non-null int64\n",
      "age                                  4000 non-null int64\n",
      "avg_additional_charges_total         4000 non-null float64\n",
      "month_to_end_contract                4000 non-null float64\n",
      "lifetime                             4000 non-null int64\n",
      "avg_class_frequency_total            4000 non-null float64\n",
      "avg_class_frequency_current_month    4000 non-null float64\n",
      "churn                                4000 non-null int64\n",
      "dtypes: float64(4), int64(10)\n",
      "memory usage: 437.6 KB\n"
     ]
    }
   ],
   "source": [
    "#посмотрим информацию о датафрейме\n",
    "fitness.info()"
   ]
  },
  {
   "cell_type": "code",
   "execution_count": 6,
   "metadata": {},
   "outputs": [
    {
     "data": {
      "text/plain": [
       "0"
      ]
     },
     "execution_count": 6,
     "metadata": {},
     "output_type": "execute_result"
    }
   ],
   "source": [
    "fitness.duplicated().sum()"
   ]
  },
  {
   "cell_type": "markdown",
   "metadata": {},
   "source": [
    "Пропусков не обнаружено, дубликатов не обнаружено"
   ]
  },
  {
   "cell_type": "markdown",
   "metadata": {},
   "source": [
    "## Исследовательский анализ данных (EDA)"
   ]
  },
  {
   "cell_type": "markdown",
   "metadata": {},
   "source": [
    "### Есть ли в датасете отсутствующие признаки, изучить средние значения и стандартные отклонения (пригодится метод describe());"
   ]
  },
  {
   "cell_type": "code",
   "execution_count": 7,
   "metadata": {},
   "outputs": [
    {
     "data": {
      "text/html": [
       "<div>\n",
       "<style scoped>\n",
       "    .dataframe tbody tr th:only-of-type {\n",
       "        vertical-align: middle;\n",
       "    }\n",
       "\n",
       "    .dataframe tbody tr th {\n",
       "        vertical-align: top;\n",
       "    }\n",
       "\n",
       "    .dataframe thead th {\n",
       "        text-align: right;\n",
       "    }\n",
       "</style>\n",
       "<table border=\"1\" class=\"dataframe\">\n",
       "  <thead>\n",
       "    <tr style=\"text-align: right;\">\n",
       "      <th></th>\n",
       "      <th>count</th>\n",
       "      <th>mean</th>\n",
       "      <th>std</th>\n",
       "      <th>min</th>\n",
       "      <th>25%</th>\n",
       "      <th>50%</th>\n",
       "      <th>75%</th>\n",
       "      <th>max</th>\n",
       "    </tr>\n",
       "  </thead>\n",
       "  <tbody>\n",
       "    <tr>\n",
       "      <td>gender</td>\n",
       "      <td>4000.0</td>\n",
       "      <td>0.510250</td>\n",
       "      <td>0.499957</td>\n",
       "      <td>0.000000</td>\n",
       "      <td>0.000000</td>\n",
       "      <td>1.000000</td>\n",
       "      <td>1.000000</td>\n",
       "      <td>1.000000</td>\n",
       "    </tr>\n",
       "    <tr>\n",
       "      <td>near_location</td>\n",
       "      <td>4000.0</td>\n",
       "      <td>0.845250</td>\n",
       "      <td>0.361711</td>\n",
       "      <td>0.000000</td>\n",
       "      <td>1.000000</td>\n",
       "      <td>1.000000</td>\n",
       "      <td>1.000000</td>\n",
       "      <td>1.000000</td>\n",
       "    </tr>\n",
       "    <tr>\n",
       "      <td>partner</td>\n",
       "      <td>4000.0</td>\n",
       "      <td>0.486750</td>\n",
       "      <td>0.499887</td>\n",
       "      <td>0.000000</td>\n",
       "      <td>0.000000</td>\n",
       "      <td>0.000000</td>\n",
       "      <td>1.000000</td>\n",
       "      <td>1.000000</td>\n",
       "    </tr>\n",
       "    <tr>\n",
       "      <td>promo_friends</td>\n",
       "      <td>4000.0</td>\n",
       "      <td>0.308500</td>\n",
       "      <td>0.461932</td>\n",
       "      <td>0.000000</td>\n",
       "      <td>0.000000</td>\n",
       "      <td>0.000000</td>\n",
       "      <td>1.000000</td>\n",
       "      <td>1.000000</td>\n",
       "    </tr>\n",
       "    <tr>\n",
       "      <td>phone</td>\n",
       "      <td>4000.0</td>\n",
       "      <td>0.903500</td>\n",
       "      <td>0.295313</td>\n",
       "      <td>0.000000</td>\n",
       "      <td>1.000000</td>\n",
       "      <td>1.000000</td>\n",
       "      <td>1.000000</td>\n",
       "      <td>1.000000</td>\n",
       "    </tr>\n",
       "    <tr>\n",
       "      <td>contract_period</td>\n",
       "      <td>4000.0</td>\n",
       "      <td>4.681250</td>\n",
       "      <td>4.549706</td>\n",
       "      <td>1.000000</td>\n",
       "      <td>1.000000</td>\n",
       "      <td>1.000000</td>\n",
       "      <td>6.000000</td>\n",
       "      <td>12.000000</td>\n",
       "    </tr>\n",
       "    <tr>\n",
       "      <td>group_visits</td>\n",
       "      <td>4000.0</td>\n",
       "      <td>0.412250</td>\n",
       "      <td>0.492301</td>\n",
       "      <td>0.000000</td>\n",
       "      <td>0.000000</td>\n",
       "      <td>0.000000</td>\n",
       "      <td>1.000000</td>\n",
       "      <td>1.000000</td>\n",
       "    </tr>\n",
       "    <tr>\n",
       "      <td>age</td>\n",
       "      <td>4000.0</td>\n",
       "      <td>29.184250</td>\n",
       "      <td>3.258367</td>\n",
       "      <td>18.000000</td>\n",
       "      <td>27.000000</td>\n",
       "      <td>29.000000</td>\n",
       "      <td>31.000000</td>\n",
       "      <td>41.000000</td>\n",
       "    </tr>\n",
       "    <tr>\n",
       "      <td>avg_additional_charges_total</td>\n",
       "      <td>4000.0</td>\n",
       "      <td>146.943728</td>\n",
       "      <td>96.355602</td>\n",
       "      <td>0.148205</td>\n",
       "      <td>68.868830</td>\n",
       "      <td>136.220159</td>\n",
       "      <td>210.949625</td>\n",
       "      <td>552.590740</td>\n",
       "    </tr>\n",
       "    <tr>\n",
       "      <td>month_to_end_contract</td>\n",
       "      <td>4000.0</td>\n",
       "      <td>4.322750</td>\n",
       "      <td>4.191297</td>\n",
       "      <td>1.000000</td>\n",
       "      <td>1.000000</td>\n",
       "      <td>1.000000</td>\n",
       "      <td>6.000000</td>\n",
       "      <td>12.000000</td>\n",
       "    </tr>\n",
       "    <tr>\n",
       "      <td>lifetime</td>\n",
       "      <td>4000.0</td>\n",
       "      <td>3.724750</td>\n",
       "      <td>3.749267</td>\n",
       "      <td>0.000000</td>\n",
       "      <td>1.000000</td>\n",
       "      <td>3.000000</td>\n",
       "      <td>5.000000</td>\n",
       "      <td>31.000000</td>\n",
       "    </tr>\n",
       "    <tr>\n",
       "      <td>avg_class_frequency_total</td>\n",
       "      <td>4000.0</td>\n",
       "      <td>1.879020</td>\n",
       "      <td>0.972245</td>\n",
       "      <td>0.000000</td>\n",
       "      <td>1.180875</td>\n",
       "      <td>1.832768</td>\n",
       "      <td>2.536078</td>\n",
       "      <td>6.023668</td>\n",
       "    </tr>\n",
       "    <tr>\n",
       "      <td>avg_class_frequency_current_month</td>\n",
       "      <td>4000.0</td>\n",
       "      <td>1.767052</td>\n",
       "      <td>1.052906</td>\n",
       "      <td>0.000000</td>\n",
       "      <td>0.963003</td>\n",
       "      <td>1.719574</td>\n",
       "      <td>2.510336</td>\n",
       "      <td>6.146783</td>\n",
       "    </tr>\n",
       "    <tr>\n",
       "      <td>churn</td>\n",
       "      <td>4000.0</td>\n",
       "      <td>0.265250</td>\n",
       "      <td>0.441521</td>\n",
       "      <td>0.000000</td>\n",
       "      <td>0.000000</td>\n",
       "      <td>0.000000</td>\n",
       "      <td>1.000000</td>\n",
       "      <td>1.000000</td>\n",
       "    </tr>\n",
       "  </tbody>\n",
       "</table>\n",
       "</div>"
      ],
      "text/plain": [
       "                                    count        mean        std        min  \\\n",
       "gender                             4000.0    0.510250   0.499957   0.000000   \n",
       "near_location                      4000.0    0.845250   0.361711   0.000000   \n",
       "partner                            4000.0    0.486750   0.499887   0.000000   \n",
       "promo_friends                      4000.0    0.308500   0.461932   0.000000   \n",
       "phone                              4000.0    0.903500   0.295313   0.000000   \n",
       "contract_period                    4000.0    4.681250   4.549706   1.000000   \n",
       "group_visits                       4000.0    0.412250   0.492301   0.000000   \n",
       "age                                4000.0   29.184250   3.258367  18.000000   \n",
       "avg_additional_charges_total       4000.0  146.943728  96.355602   0.148205   \n",
       "month_to_end_contract              4000.0    4.322750   4.191297   1.000000   \n",
       "lifetime                           4000.0    3.724750   3.749267   0.000000   \n",
       "avg_class_frequency_total          4000.0    1.879020   0.972245   0.000000   \n",
       "avg_class_frequency_current_month  4000.0    1.767052   1.052906   0.000000   \n",
       "churn                              4000.0    0.265250   0.441521   0.000000   \n",
       "\n",
       "                                         25%         50%         75%  \\\n",
       "gender                              0.000000    1.000000    1.000000   \n",
       "near_location                       1.000000    1.000000    1.000000   \n",
       "partner                             0.000000    0.000000    1.000000   \n",
       "promo_friends                       0.000000    0.000000    1.000000   \n",
       "phone                               1.000000    1.000000    1.000000   \n",
       "contract_period                     1.000000    1.000000    6.000000   \n",
       "group_visits                        0.000000    0.000000    1.000000   \n",
       "age                                27.000000   29.000000   31.000000   \n",
       "avg_additional_charges_total       68.868830  136.220159  210.949625   \n",
       "month_to_end_contract               1.000000    1.000000    6.000000   \n",
       "lifetime                            1.000000    3.000000    5.000000   \n",
       "avg_class_frequency_total           1.180875    1.832768    2.536078   \n",
       "avg_class_frequency_current_month   0.963003    1.719574    2.510336   \n",
       "churn                               0.000000    0.000000    1.000000   \n",
       "\n",
       "                                          max  \n",
       "gender                               1.000000  \n",
       "near_location                        1.000000  \n",
       "partner                              1.000000  \n",
       "promo_friends                        1.000000  \n",
       "phone                                1.000000  \n",
       "contract_period                     12.000000  \n",
       "group_visits                         1.000000  \n",
       "age                                 41.000000  \n",
       "avg_additional_charges_total       552.590740  \n",
       "month_to_end_contract               12.000000  \n",
       "lifetime                            31.000000  \n",
       "avg_class_frequency_total            6.023668  \n",
       "avg_class_frequency_current_month    6.146783  \n",
       "churn                                1.000000  "
      ]
     },
     "execution_count": 7,
     "metadata": {},
     "output_type": "execute_result"
    }
   ],
   "source": [
    "fitness.describe().T"
   ]
  },
  {
   "cell_type": "markdown",
   "metadata": {},
   "source": [
    "<b>Что мы видим из описания датасета: </b> <p>\n",
    "- пол клиентов фитнесклуба распределен примерно пополам, т.е. примерно 50% клиентов женщины и столько же мужчин\n",
    "- примерно 85% посетителей живет рядом с фитнес клубом\n",
    "- примерно половина клиентов клуба является сотрудником компании-партнера\n",
    "- 30% от всех посетителей пришли в клуб по акции \"Приведи друга\"\n",
    "- 90% посетителей оставили свой контактный телефон. \n",
    "- средняя длительность абонемента - 4,6 месяцев, при этом клуб продает абонимент от 1 до 12 месяцев\n",
    "- групповые занятия посещает в среднем 41% клиентов\n",
    "- средний возраст клиента - 29 лет, минимальный вовзраст клиента в клбуе - 18 лет, максимальный - 41 год.\n",
    "- средняя суммарная выручка от дополнительных услуг в клубе составляет 146 у.е.\n",
    "- среднее количество месяцев до окончания контракта - 4,3\n",
    "- среднее время с момента первого обращения в центр - 3,7 месяца\n",
    "- средняя частота посещений в месяц с начала абонемента - 1,8 \n",
    "- средняя частота посещения клуба в неделю за предыдущий месяц - 1,7\n",
    "- доля оттока - 26,5%    "
   ]
  },
  {
   "cell_type": "markdown",
   "metadata": {},
   "source": [
    "### Cредние значения признаков в двух группах — тех, кто ушел в отток и тех, кто остался"
   ]
  },
  {
   "cell_type": "code",
   "execution_count": 8,
   "metadata": {},
   "outputs": [
    {
     "data": {
      "text/html": [
       "<div>\n",
       "<style scoped>\n",
       "    .dataframe tbody tr th:only-of-type {\n",
       "        vertical-align: middle;\n",
       "    }\n",
       "\n",
       "    .dataframe tbody tr th {\n",
       "        vertical-align: top;\n",
       "    }\n",
       "\n",
       "    .dataframe thead th {\n",
       "        text-align: right;\n",
       "    }\n",
       "</style>\n",
       "<table border=\"1\" class=\"dataframe\">\n",
       "  <thead>\n",
       "    <tr style=\"text-align: right;\">\n",
       "      <th>churn</th>\n",
       "      <th>0</th>\n",
       "      <th>1</th>\n",
       "    </tr>\n",
       "  </thead>\n",
       "  <tbody>\n",
       "    <tr>\n",
       "      <td>gender</td>\n",
       "      <td>0.510037</td>\n",
       "      <td>0.510839</td>\n",
       "    </tr>\n",
       "    <tr>\n",
       "      <td>near_location</td>\n",
       "      <td>0.873086</td>\n",
       "      <td>0.768143</td>\n",
       "    </tr>\n",
       "    <tr>\n",
       "      <td>partner</td>\n",
       "      <td>0.534195</td>\n",
       "      <td>0.355325</td>\n",
       "    </tr>\n",
       "    <tr>\n",
       "      <td>promo_friends</td>\n",
       "      <td>0.353522</td>\n",
       "      <td>0.183789</td>\n",
       "    </tr>\n",
       "    <tr>\n",
       "      <td>phone</td>\n",
       "      <td>0.903709</td>\n",
       "      <td>0.902922</td>\n",
       "    </tr>\n",
       "    <tr>\n",
       "      <td>contract_period</td>\n",
       "      <td>5.747193</td>\n",
       "      <td>1.728558</td>\n",
       "    </tr>\n",
       "    <tr>\n",
       "      <td>group_visits</td>\n",
       "      <td>0.464103</td>\n",
       "      <td>0.268615</td>\n",
       "    </tr>\n",
       "    <tr>\n",
       "      <td>age</td>\n",
       "      <td>29.976523</td>\n",
       "      <td>26.989632</td>\n",
       "    </tr>\n",
       "    <tr>\n",
       "      <td>avg_additional_charges_total</td>\n",
       "      <td>158.445715</td>\n",
       "      <td>115.082899</td>\n",
       "    </tr>\n",
       "    <tr>\n",
       "      <td>month_to_end_contract</td>\n",
       "      <td>5.283089</td>\n",
       "      <td>1.662582</td>\n",
       "    </tr>\n",
       "    <tr>\n",
       "      <td>lifetime</td>\n",
       "      <td>4.711807</td>\n",
       "      <td>0.990575</td>\n",
       "    </tr>\n",
       "    <tr>\n",
       "      <td>avg_class_frequency_total</td>\n",
       "      <td>2.024876</td>\n",
       "      <td>1.474995</td>\n",
       "    </tr>\n",
       "    <tr>\n",
       "      <td>avg_class_frequency_current_month</td>\n",
       "      <td>2.027882</td>\n",
       "      <td>1.044546</td>\n",
       "    </tr>\n",
       "  </tbody>\n",
       "</table>\n",
       "</div>"
      ],
      "text/plain": [
       "churn                                       0           1\n",
       "gender                               0.510037    0.510839\n",
       "near_location                        0.873086    0.768143\n",
       "partner                              0.534195    0.355325\n",
       "promo_friends                        0.353522    0.183789\n",
       "phone                                0.903709    0.902922\n",
       "contract_period                      5.747193    1.728558\n",
       "group_visits                         0.464103    0.268615\n",
       "age                                 29.976523   26.989632\n",
       "avg_additional_charges_total       158.445715  115.082899\n",
       "month_to_end_contract                5.283089    1.662582\n",
       "lifetime                             4.711807    0.990575\n",
       "avg_class_frequency_total            2.024876    1.474995\n",
       "avg_class_frequency_current_month    2.027882    1.044546"
      ]
     },
     "execution_count": 8,
     "metadata": {},
     "output_type": "execute_result"
    }
   ],
   "source": [
    "#посмотрим на средние занчения по группам: те, кто ушел из фитнес клуба, и тех, кто остался\n",
    "fitness.groupby('churn').agg('mean').T"
   ]
  },
  {
   "cell_type": "markdown",
   "metadata": {},
   "source": [
    "Для наглядности построим графики:"
   ]
  },
  {
   "cell_type": "markdown",
   "metadata": {},
   "source": [
    "### Построим столбчатые гистограммы и распределения признаков для тех, кто ушёл (отток) и тех, кто остался (не попали в отток);"
   ]
  },
  {
   "cell_type": "code",
   "execution_count": 9,
   "metadata": {
    "scrolled": false
   },
   "outputs": [],
   "source": [
    "#отделим срезы данных, для удобства сравнения\n",
    "churn_clients = fitness[fitness['churn']==1]\n",
    "non_churn_clients = fitness[fitness['churn']==0]"
   ]
  },
  {
   "cell_type": "code",
   "execution_count": 10,
   "metadata": {
    "scrolled": true
   },
   "outputs": [
    {
     "data": {
      "image/png": "[encoded data removed]",
      "text/plain": [
       "<Figure size 720x288 with 1 Axes>"
      ]
     },
     "metadata": {
      "needs_background": "light"
     },
     "output_type": "display_data"
    },
    {
     "data": {
      "image/png": "[encoded data removed]",
      "text/plain": [
       "<Figure size 720x288 with 1 Axes>"
      ]
     },
     "metadata": {
      "needs_background": "light"
     },
     "output_type": "display_data"
    },
    {
     "data": {
      "image/png": "[encoded data removed]",
      "text/plain": [
       "<Figure size 720x288 with 1 Axes>"
      ]
     },
     "metadata": {
      "needs_background": "light"
     },
     "output_type": "display_data"
    },
    {
     "data": {
      "image/png": "[encoded data removed]",
      "text/plain": [
       "<Figure size 720x288 with 1 Axes>"
      ]
     },
     "metadata": {
      "needs_background": "light"
     },
     "output_type": "display_data"
    },
    {
     "data": {
      "image/png": "[encoded data removed]",
      "text/plain": [
       "<Figure size 720x288 with 1 Axes>"
      ]
     },
     "metadata": {
      "needs_background": "light"
     },
     "output_type": "display_data"
    },
    {
     "data": {
      "image/png": "[encoded data removed]",
      "text/plain": [
       "<Figure size 720x288 with 1 Axes>"
      ]
     },
     "metadata": {
      "needs_background": "light"
     },
     "output_type": "display_data"
    },
    {
     "data": {
      "image/png": "[encoded data removed]",
      "text/plain": [
       "<Figure size 720x288 with 1 Axes>"
      ]
     },
     "metadata": {
      "needs_background": "light"
     },
     "output_type": "display_data"
    },
    {
     "data": {
      "image/png": "[encoded data removed]",
      "text/plain": [
       "<Figure size 720x288 with 1 Axes>"
      ]
     },
     "metadata": {
      "needs_background": "light"
     },
     "output_type": "display_data"
    },
    {
     "data": {
      "image/png": "[encoded data removed]",
      "text/plain": [
       "<Figure size 720x288 with 1 Axes>"
      ]
     },
     "metadata": {
      "needs_background": "light"
     },
     "output_type": "display_data"
    },
    {
     "data": {
      "image/png": "[encoded data removed]",
      "text/plain": [
       "<Figure size 720x288 with 1 Axes>"
      ]
     },
     "metadata": {
      "needs_background": "light"
     },
     "output_type": "display_data"
    },
    {
     "data": {
      "image/png": "[encoded data removed]",
      "text/plain": [
       "<Figure size 720x288 with 1 Axes>"
      ]
     },
     "metadata": {
      "needs_background": "light"
     },
     "output_type": "display_data"
    },
    {
     "data": {
      "image/png": "[encoded data removed]",
      "text/plain": [
       "<Figure size 720x288 with 1 Axes>"
      ]
     },
     "metadata": {
      "needs_background": "light"
     },
     "output_type": "display_data"
    },
    {
     "data": {
      "image/png": "[encoded data removed]",
      "text/plain": [
       "<Figure size 720x288 with 1 Axes>"
      ]
     },
     "metadata": {
      "needs_background": "light"
     },
     "output_type": "display_data"
    },
    {
     "data": {
      "image/png": "[encoded data removed]",
      "text/plain": [
       "<Figure size 720x288 with 1 Axes>"
      ]
     },
     "metadata": {
      "needs_background": "light"
     },
     "output_type": "display_data"
    }
   ],
   "source": [
    "#построим графики по всем признакам\n",
    "\n",
    "for column in fitness.columns: \n",
    "    plt.figure(figsize=(10,4)) \n",
    "    plt.title(column)\n",
    "    sns.distplot(churn_clients[column])\n",
    "    sns.distplot(non_churn_clients[column])\n",
    "    plt.legend(['Клиент ушел', 'Клиент остался'])\n",
    "    plt.show()"
   ]
  },
  {
   "cell_type": "markdown",
   "metadata": {},
   "source": [
    "<b>Выводы: </b> <p>\n",
    "- пол распределен так же, по 50%\n",
    "- примерно 87% посетителей из тех, кто остался живет рядом, из тех кто ушел - 77%. Разница есть, но не слишком существенная.\n",
    "- из тех, кто остался, 53% - сотрудники компаний-партнеров, при этом среди тех, кто ушел такие сотрудники составляют 36%\n",
    "- из тех, кто пришел по приглашению друга, остались 35% и почти в два раза меньше их среди тех, кто ушел - 18%\n",
    "- средняя длительность абонемента - для оставшихся - 5,7 месяцев, для ушедших - 1,7 месяца. \n",
    "- интересная зависимость от посещения групповых занятий: 46% из тех, кто остался их посещает, среди ушедших посетителей групповые зянятия посещали только 26%\n",
    "- средний возраст клиентов примерно одинаковый в обеих группах: 29  лет среди оставшихся и 26 лет среди ушедших. Но при этом по графику видно, что рисунок ушедших смещается к более молодому возрасту, ваероятно, эта группа легче меняет клубы. Среди более страшей группы количство оставшихся выше. \n",
    "- средняя суммарная выручка от дополнительных услуг в клубе среди оставшихся выше, чем, среди ушедших - 158 и 115 у.е. соответственно.\n",
    "- среднее количество месяцев до окончания контракта среди оставшихся - 5,2, среди ушедших - 1,6\n",
    "- среднее время с момента первого обращения в центр среди оставшихся - 4,7, среди ушедших - менее 1 месяца\n",
    "- средняя частота посещений в месяц с начала абонемента среди оставшихся - 2 раза, среди ушедших - 1,4\n",
    "- средняя частота посещения клуба в неделю за предыдущий месяц среди оставшихся - 2 раза, среди ушедших - 1 "
   ]
  },
  {
   "cell_type": "markdown",
   "metadata": {},
   "source": [
    "### Построим матрицу корреляций"
   ]
  },
  {
   "cell_type": "code",
   "execution_count": 11,
   "metadata": {},
   "outputs": [
    {
     "data": {
      "image/png": "[encoded data removed]",
      "text/plain": [
       "<Figure size 864x864 with 2 Axes>"
      ]
     },
     "metadata": {
      "needs_background": "light"
     },
     "output_type": "display_data"
    }
   ],
   "source": [
    "matrix = fitness.corr()\n",
    "plt.figure(figsize=(12, 12))\n",
    "sns.heatmap(matrix, annot=True, fmt = '.2f', square=True)\n",
    "plt.show()"
   ]
  },
  {
   "cell_type": "markdown",
   "metadata": {},
   "source": [
    "<b>Выводы: </b> <p>\n",
    "Из графика можем видеть существенные корреляции между двумя парами признаков: \n",
    "* month_to_end_contract и contract_period\n",
    "* avg_class_frequency_total и avg_class_frequency_current_month"
   ]
  },
  {
   "cell_type": "markdown",
   "metadata": {},
   "source": [
    "Можно выделить некоторыую зависимость между стобцами promo_friends и partner, а так же contract_period и partner. Как видим, лучшими посетителями в большей степени вероятности являются компании-партнеры. Их сотрудники покупают более длительные абонементы, а так же приводят в фитнес клуб своих друзей и знакомых."
   ]
  },
  {
   "cell_type": "markdown",
   "metadata": {},
   "source": [
    "<b> При этом существенной корреляции столбца 'churn' с данными оттока посетителей клуба с другими признаками на графике нет </b>"
   ]
  },
  {
   "cell_type": "markdown",
   "metadata": {},
   "source": [
    "## Построим модель прогнозирования оттока клиентов"
   ]
  },
  {
   "cell_type": "markdown",
   "metadata": {},
   "source": [
    "<b> Задачи: </b> <p>\n",
    "\n",
    "1. Построим модель бинарной классификации клиентов, где целевой признак — факт оттока клиента в следующем месяце: разобьем данные на обучающую и валидационную выборку функцией train_test_split() \n",
    "<p><p>    \n",
    "2. Обучим модель на train-выборке двумя способами:\n",
    "* логистической регрессией,\n",
    "* случайным лесом.\n",
    "3. Оценим метрики accuracy, precision и recall для обеих моделей на валидационной выборке. Сравнить по ним модели. Какая модель показала себя лучше на основании метрик? Указать параметр random_state при разделении выборки и задании алгоритма."
   ]
  },
  {
   "cell_type": "markdown",
   "metadata": {},
   "source": [
    "### Логистическая регрессия"
   ]
  },
  {
   "cell_type": "markdown",
   "metadata": {},
   "source": [
    "Для того, чтобы получить правильные результаты, нам необходимо удалить слишком коррелирующие признаки, которые мы выявили ранее."
   ]
  },
  {
   "cell_type": "code",
   "execution_count": 12,
   "metadata": {},
   "outputs": [],
   "source": [
    "#удаляем лишние признаки\n",
    "fitness_new = fitness.drop(['month_to_end_contract', 'avg_class_frequency_current_month'], axis=1)"
   ]
  },
  {
   "cell_type": "code",
   "execution_count": 13,
   "metadata": {},
   "outputs": [],
   "source": [
    "#разделим данные на признаки (матрица X) и целевую переменную (y)\n",
    "X = fitness_new.drop('churn', axis = 1)\n",
    "y = fitness_new['churn']\n",
    "\n",
    "#разделяем модель на обучающую и валидационную выборки\n",
    "X_train, X_test, y_train, y_test = train_test_split(X, y, test_size=0.2, random_state=0)\n",
    "\n",
    "# обучим StandartScaler на обучающей выборке\n",
    "scaler = StandardScaler()\n",
    "scaler.fit(X_train)\n",
    "\n",
    "# преобразуем обучающий и валидационные наборы данных\n",
    "X_train_st = scaler.transform(X_train)\n",
    "X_test_st = scaler.transform(X_test)\n",
    "\n",
    "# зададим алгоритм для нашей модели\n",
    "lr_model = LogisticRegression(random_state = 0)\n",
    "\n",
    "# обучим модель\n",
    "lr_model.fit(X_train_st, y_train)\n",
    "\n",
    "# воспользуемся уже обученной моделью, чтобы сделать прогнозы\n",
    "lr_predictions = lr_model.predict(X_test_st)\n",
    "lr_probabilities = lr_model.predict_proba(X_test_st)[:, 1]"
   ]
  },
  {
   "cell_type": "code",
   "execution_count": 14,
   "metadata": {},
   "outputs": [],
   "source": [
    "# определим функцию, которая будет выводить наши метрики\n",
    "def print_all_metrics(y_true, y_pred, y_proba, title = 'Метрики классификации'):\n",
    "    print(title)\n",
    "    print('\\tAccuracy: {:.2f}'.format(accuracy_score(y_true, y_pred)))\n",
    "    print('\\tPrecision: {:.2f}'.format(precision_score(y_true, y_pred)))\n",
    "    print('\\tRecall: {:.2f}'.format(recall_score(y_true, y_pred)))\n",
    "    print('\\tF1: {:.2f}'.format(f1_score(y_true, y_pred)))\n",
    "    print('\\tROC_AUC: {:.2f}'.format(roc_auc_score(y_true, y_proba)))"
   ]
  },
  {
   "cell_type": "markdown",
   "metadata": {},
   "source": [
    "<b> Метрики логистической регрессии:"
   ]
  },
  {
   "cell_type": "code",
   "execution_count": 15,
   "metadata": {},
   "outputs": [
    {
     "name": "stdout",
     "output_type": "stream",
     "text": [
      "Метрики для модели логистической регрессии:\n",
      "\tAccuracy: 0.90\n",
      "\tPrecision: 0.79\n",
      "\tRecall: 0.81\n",
      "\tF1: 0.80\n",
      "\tROC_AUC: 0.95\n"
     ]
    }
   ],
   "source": [
    "print_all_metrics(y_test, lr_predictions, lr_probabilities , title='Метрики для модели логистической регрессии:')"
   ]
  },
  {
   "cell_type": "markdown",
   "metadata": {},
   "source": [
    "### Случайный лес"
   ]
  },
  {
   "cell_type": "code",
   "execution_count": 16,
   "metadata": {},
   "outputs": [],
   "source": [
    "# зададим алгоритм для новой модели на основе алгоритма случайного леса\n",
    "rf_model = RandomForestClassifier(n_estimators = 100, random_state = 0) \n",
    "# обучим модель случайного леса\n",
    "rf_model.fit(X_train, y_train)\n",
    "# воспользуемся уже обученной моделью, чтобы сделать прогнозы\n",
    "rf_predictions = rf_model.predict(X_test)\n",
    "rf_probabilities = rf_model.predict_proba(X_test)[:,1]"
   ]
  },
  {
   "cell_type": "markdown",
   "metadata": {},
   "source": [
    "<b> Метрики случайного леса:"
   ]
  },
  {
   "cell_type": "code",
   "execution_count": 17,
   "metadata": {},
   "outputs": [
    {
     "name": "stdout",
     "output_type": "stream",
     "text": [
      "Метрики для модели случайного леса:\n",
      "\tAccuracy: 0.89\n",
      "\tPrecision: 0.78\n",
      "\tRecall: 0.77\n",
      "\tF1: 0.78\n",
      "\tROC_AUC: 0.94\n"
     ]
    }
   ],
   "source": [
    "print_all_metrics(y_test, rf_predictions, rf_probabilities, title = 'Метрики для модели случайного леса:')"
   ]
  },
  {
   "cell_type": "markdown",
   "metadata": {},
   "source": [
    "По метрике ROC_AUC обе модели выглядят хорошо, но засчет чуть более высоких показателей Precision, Recall и F1 линейная регрессия выглядит лучше, но разница не слишком большая"
   ]
  },
  {
   "cell_type": "markdown",
   "metadata": {},
   "source": [
    "## Кластеризация клиентов"
   ]
  },
  {
   "cell_type": "markdown",
   "metadata": {},
   "source": [
    "<b>Проведем кластеризацию клиентов без учета столбца с оттоком клиента:</b> <p>\n",
    "1. Стандартизируем данные\n",
    "2. Построим матрицу расстояний функцией linkage() на стандартизованной матрице признаков и нарисуем дендрограмму\n",
    "3. Обучим модель кластеризации на основании алгоритма K-Means и спрогнозируем кластеры клиентов\n",
    "4. Посмотрим средниезначения кластеров\n",
    "5. Построим распределения признаков для кластеров\n",
    "6. Для каждого полученного кластера посчитаем долю оттока (методом groupby())"
   ]
  },
  {
   "cell_type": "code",
   "execution_count": 18,
   "metadata": {},
   "outputs": [],
   "source": [
    "# обязательная стандартизация данных перед работой с алгоритмами\n",
    "sc = StandardScaler()\n",
    "X_sc = sc.fit_transform(X)\n",
    "\n",
    "#в переменной linked сохранена таблица «связок» между объектами\n",
    "linked = linkage(X_sc, method = 'ward') "
   ]
  },
  {
   "cell_type": "code",
   "execution_count": 19,
   "metadata": {},
   "outputs": [
    {
     "data": {
      "image/png": "[encoded data removed]",
      "text/plain": [
       "<Figure size 1080x720 with 1 Axes>"
      ]
     },
     "metadata": {
      "needs_background": "light"
     },
     "output_type": "display_data"
    }
   ],
   "source": [
    "#строим дендрограмму\n",
    "plt.figure(figsize=(15, 10))  \n",
    "dendrogram(linked, orientation='top')\n",
    "plt.title('Иерархическая кластеризация')\n",
    "plt.show() "
   ]
  },
  {
   "cell_type": "markdown",
   "metadata": {},
   "source": [
    "Всего дендрограмма выделила 4 кластера"
   ]
  },
  {
   "cell_type": "code",
   "execution_count": 20,
   "metadata": {},
   "outputs": [
    {
     "data": {
      "text/html": [
       "<div>\n",
       "<style scoped>\n",
       "    .dataframe tbody tr th:only-of-type {\n",
       "        vertical-align: middle;\n",
       "    }\n",
       "\n",
       "    .dataframe tbody tr th {\n",
       "        vertical-align: top;\n",
       "    }\n",
       "\n",
       "    .dataframe thead th {\n",
       "        text-align: right;\n",
       "    }\n",
       "</style>\n",
       "<table border=\"1\" class=\"dataframe\">\n",
       "  <thead>\n",
       "    <tr style=\"text-align: right;\">\n",
       "      <th>cluster_km</th>\n",
       "      <th>0</th>\n",
       "      <th>1</th>\n",
       "      <th>2</th>\n",
       "      <th>3</th>\n",
       "      <th>4</th>\n",
       "    </tr>\n",
       "  </thead>\n",
       "  <tbody>\n",
       "    <tr>\n",
       "      <td>gender</td>\n",
       "      <td>0.499109</td>\n",
       "      <td>0.488571</td>\n",
       "      <td>0.505300</td>\n",
       "      <td>0.544202</td>\n",
       "      <td>0.523316</td>\n",
       "    </tr>\n",
       "    <tr>\n",
       "      <td>near_location</td>\n",
       "      <td>0.000000</td>\n",
       "      <td>0.995238</td>\n",
       "      <td>1.000000</td>\n",
       "      <td>1.000000</td>\n",
       "      <td>0.862694</td>\n",
       "    </tr>\n",
       "    <tr>\n",
       "      <td>partner</td>\n",
       "      <td>0.488414</td>\n",
       "      <td>0.955238</td>\n",
       "      <td>0.238516</td>\n",
       "      <td>0.250287</td>\n",
       "      <td>0.471503</td>\n",
       "    </tr>\n",
       "    <tr>\n",
       "      <td>promo_friends</td>\n",
       "      <td>0.076649</td>\n",
       "      <td>0.892381</td>\n",
       "      <td>0.059187</td>\n",
       "      <td>0.079219</td>\n",
       "      <td>0.305699</td>\n",
       "    </tr>\n",
       "    <tr>\n",
       "      <td>phone</td>\n",
       "      <td>1.000000</td>\n",
       "      <td>1.000000</td>\n",
       "      <td>1.000000</td>\n",
       "      <td>1.000000</td>\n",
       "      <td>0.000000</td>\n",
       "    </tr>\n",
       "    <tr>\n",
       "      <td>contract_period</td>\n",
       "      <td>3.032086</td>\n",
       "      <td>7.660952</td>\n",
       "      <td>2.819788</td>\n",
       "      <td>4.528129</td>\n",
       "      <td>4.777202</td>\n",
       "    </tr>\n",
       "    <tr>\n",
       "      <td>group_visits</td>\n",
       "      <td>0.235294</td>\n",
       "      <td>0.458095</td>\n",
       "      <td>0.000000</td>\n",
       "      <td>1.000000</td>\n",
       "      <td>0.427461</td>\n",
       "    </tr>\n",
       "    <tr>\n",
       "      <td>age</td>\n",
       "      <td>28.721925</td>\n",
       "      <td>29.543810</td>\n",
       "      <td>28.770318</td>\n",
       "      <td>29.536165</td>\n",
       "      <td>29.297927</td>\n",
       "    </tr>\n",
       "    <tr>\n",
       "      <td>avg_additional_charges_total</td>\n",
       "      <td>137.540009</td>\n",
       "      <td>155.861428</td>\n",
       "      <td>143.383993</td>\n",
       "      <td>148.088897</td>\n",
       "      <td>144.208179</td>\n",
       "    </tr>\n",
       "    <tr>\n",
       "      <td>lifetime</td>\n",
       "      <td>3.060606</td>\n",
       "      <td>4.380952</td>\n",
       "      <td>3.343640</td>\n",
       "      <td>3.761194</td>\n",
       "      <td>3.940415</td>\n",
       "    </tr>\n",
       "    <tr>\n",
       "      <td>avg_class_frequency_total</td>\n",
       "      <td>1.770413</td>\n",
       "      <td>1.978963</td>\n",
       "      <td>1.800647</td>\n",
       "      <td>1.941342</td>\n",
       "      <td>1.854211</td>\n",
       "    </tr>\n",
       "    <tr>\n",
       "      <td>churn</td>\n",
       "      <td>0.399287</td>\n",
       "      <td>0.120952</td>\n",
       "      <td>0.381625</td>\n",
       "      <td>0.200918</td>\n",
       "      <td>0.266839</td>\n",
       "    </tr>\n",
       "  </tbody>\n",
       "</table>\n",
       "</div>"
      ],
      "text/plain": [
       "cluster_km                             0           1           2           3  \\\n",
       "gender                          0.499109    0.488571    0.505300    0.544202   \n",
       "near_location                   0.000000    0.995238    1.000000    1.000000   \n",
       "partner                         0.488414    0.955238    0.238516    0.250287   \n",
       "promo_friends                   0.076649    0.892381    0.059187    0.079219   \n",
       "phone                           1.000000    1.000000    1.000000    1.000000   \n",
       "contract_period                 3.032086    7.660952    2.819788    4.528129   \n",
       "group_visits                    0.235294    0.458095    0.000000    1.000000   \n",
       "age                            28.721925   29.543810   28.770318   29.536165   \n",
       "avg_additional_charges_total  137.540009  155.861428  143.383993  148.088897   \n",
       "lifetime                        3.060606    4.380952    3.343640    3.761194   \n",
       "avg_class_frequency_total       1.770413    1.978963    1.800647    1.941342   \n",
       "churn                           0.399287    0.120952    0.381625    0.200918   \n",
       "\n",
       "cluster_km                             4  \n",
       "gender                          0.523316  \n",
       "near_location                   0.862694  \n",
       "partner                         0.471503  \n",
       "promo_friends                   0.305699  \n",
       "phone                           0.000000  \n",
       "contract_period                 4.777202  \n",
       "group_visits                    0.427461  \n",
       "age                            29.297927  \n",
       "avg_additional_charges_total  144.208179  \n",
       "lifetime                        3.940415  \n",
       "avg_class_frequency_total       1.854211  \n",
       "churn                           0.266839  "
      ]
     },
     "execution_count": 20,
     "metadata": {},
     "output_type": "execute_result"
    }
   ],
   "source": [
    "# задаём модель k_means с числом кластеров 5 (по заданию)\n",
    "km = KMeans(n_clusters = 5, random_state = 0)\n",
    "# прогнозируем кластеры для наблюдений \n",
    "labels = km.fit_predict(X_sc)\n",
    "\n",
    "fitness_new['cluster_km'] = labels\n",
    "fitness_new.groupby(['cluster_km']).mean().T\n"
   ]
  },
  {
   "cell_type": "markdown",
   "metadata": {},
   "source": [
    "<b> Выводы: </b> <p>\n",
    "Кластер 0:  <p>\n",
    "- Отток 26% - выше среднего \n",
    "- 86% клиентов из этого кластера живут рядом с клубом\n",
    "- Клиенты из этого кластера не предоставляют телефоны для связи\n",
    "- Средняя продолжительность абонемента - 4,7 месяцев\n",
    "- 42% из низ посещают групповые занятия\n",
    "<p><p> \n",
    "    \n",
    "Кластер 1: <p>\n",
    "- Отток 12% - самый устойчивый кластер посетителей  <p>\n",
    "- 99% живут рядом с клубом\n",
    "- 95% являются сотрудниками компаний-партнеров\n",
    "- 89% из них привели друзья\n",
    "- средний срок абонемента - 7,6 месяцев\n",
    "- 45% посещают групповые занятия\n",
    "- самая высокая средняя посещаемость - 1,97 раз в неделю\n",
    "<p><p>\n",
    "Кластер 2: <p>\n",
    "- Отток 38% - высокий отток посетителей  <p>\n",
    "- Все живут рядом с клубом\n",
    "- 23% являются сотрудниками компаний-партнеров\n",
    "- 5% из них привели друзья\n",
    "- Средний срок абонемента - 2,8 месяцев\n",
    "- Средний возвраст 28 лет\n",
    "- Не посещают групповые занятия\n",
    "<p><p>\n",
    "Кластер 3: <p>\n",
    "- Отток 20% - средний отток  <p>\n",
    "- Все живут рядом с клубом\n",
    "- 25% являются сотрудниками компаний-партнеров\n",
    "- 7% из них привели друзья\n",
    "- Средний срок абонемента - 4,5 месяцев\n",
    "- Средний возвраст 29 лет\n",
    "- Все посещают групповые занятия \n",
    "- Втораой кластер по посещаемости - в среднем 1,94 раз в неделю\n",
    "<p><p>\n",
    "Кластер 4: <p>\n",
    "- Отток 39% - самый высокий отток  <p>\n",
    "- Не живут рядом с клубом\n",
    "- 48% являются сотрудниками компаний-партнеров\n",
    "- 7% из них привели друзья\n",
    "- Средний срок абонемента - 3 месяцев\n",
    "- Средний возвраст 28 лет\n",
    "- Групповые занятия посещают только 23%\n",
    "- Реже всех посещают клуб - в среднем 1,7 раз в неделю     "
   ]
  },
  {
   "cell_type": "markdown",
   "metadata": {},
   "source": [
    "<b> Построим гарфики для наглядности "
   ]
  },
  {
   "cell_type": "code",
   "execution_count": 21,
   "metadata": {
    "scrolled": true
   },
   "outputs": [
    {
     "data": {
      "image/png": "[encoded data removed]",
      "text/plain": [
       "<Figure size 432x432 with 1 Axes>"
      ]
     },
     "metadata": {
      "needs_background": "light"
     },
     "output_type": "display_data"
    },
    {
     "data": {
      "image/png": "[encoded data removed]",
      "text/plain": [
       "<Figure size 432x432 with 1 Axes>"
      ]
     },
     "metadata": {
      "needs_background": "light"
     },
     "output_type": "display_data"
    },
    {
     "data": {
      "image/png": "[encoded data removed]",
      "text/plain": [
       "<Figure size 432x432 with 1 Axes>"
      ]
     },
     "metadata": {
      "needs_background": "light"
     },
     "output_type": "display_data"
    },
    {
     "data": {
      "image/png": "[encoded data removed]",
      "text/plain": [
       "<Figure size 432x432 with 1 Axes>"
      ]
     },
     "metadata": {
      "needs_background": "light"
     },
     "output_type": "display_data"
    },
    {
     "data": {
      "image/png": "[encoded data removed]",
      "text/plain": [
       "<Figure size 432x432 with 1 Axes>"
      ]
     },
     "metadata": {
      "needs_background": "light"
     },
     "output_type": "display_data"
    },
    {
     "data": {
      "image/png": "[encoded data removed]",
      "text/plain": [
       "<Figure size 432x432 with 1 Axes>"
      ]
     },
     "metadata": {
      "needs_background": "light"
     },
     "output_type": "display_data"
    }
   ],
   "source": [
    "for column in ['gender', 'near_location', 'partner', 'promo_friends', 'phone', 'group_visits']:\n",
    "    plt.figure(figsize=(6, 6))\n",
    "    sns.countplot(x = fitness_new[column], hue='cluster_km', data=fitness_new, palette='colorblind')\n",
    "    plt.title(column)\n",
    "    plt.show()"
   ]
  },
  {
   "cell_type": "code",
   "execution_count": 22,
   "metadata": {
    "scrolled": true
   },
   "outputs": [
    {
     "data": {
      "image/png": "[encoded data removed]",
      "text/plain": [
       "<Figure size 576x432 with 1 Axes>"
      ]
     },
     "metadata": {
      "needs_background": "light"
     },
     "output_type": "display_data"
    },
    {
     "data": {
      "image/png": "[encoded data removed]",
      "text/plain": [
       "<Figure size 576x432 with 1 Axes>"
      ]
     },
     "metadata": {
      "needs_background": "light"
     },
     "output_type": "display_data"
    },
    {
     "data": {
      "image/png": "[encoded data removed]",
      "text/plain": [
       "<Figure size 576x432 with 1 Axes>"
      ]
     },
     "metadata": {
      "needs_background": "light"
     },
     "output_type": "display_data"
    },
    {
     "data": {
      "image/png": "[encoded data removed]",
      "text/plain": [
       "<Figure size 576x432 with 1 Axes>"
      ]
     },
     "metadata": {
      "needs_background": "light"
     },
     "output_type": "display_data"
    },
    {
     "data": {
      "image/png": "[encoded data removed]",
      "text/plain": [
       "<Figure size 576x432 with 1 Axes>"
      ]
     },
     "metadata": {
      "needs_background": "light"
     },
     "output_type": "display_data"
    }
   ],
   "source": [
    "for column in ['contract_period', 'age', 'avg_additional_charges_total', 'lifetime', 'avg_class_frequency_total']:\n",
    "    plt.figure(figsize=(8, 6))\n",
    "    sns.boxplot(x = 'cluster_km', y = fitness_new[column], data = fitness_new, hue='cluster_km', palette='colorblind')\n",
    "    plt.show()"
   ]
  },
  {
   "cell_type": "markdown",
   "metadata": {},
   "source": [
    "На графиках можно наглядно посмотреть распределние признаков по кластерам. По бинарным признакам выводы совпадают с теми, что мы сделали по таблице выше. По остальным стало наглядно видно распределение, например:\n",
    "- У самого\"положителььного\" первого кластера не только средняя длительность контратка высокая, но и в целом распределение занчений  в высоком диапазоне, чего нет у остальных\n",
    "- По возрасту так же видим, что у 1 и 3 кластера, распределение посетителей ближе к возврастной категории\n",
    "- По затратам на дополнительные услуги так же 1 и 3 кластер немного выше на графике, чем остальные.\n",
    "- По значениям lifetime так же видим, что этот показатель ниже у самой неблагополучной \"нулевой\" группы, а у 1 выше остальных\n",
    "- По средней посещаемости так же выигрывает первый кластер. Самое небольшое распределение - так же у первой группы.\n",
    "\n"
   ]
  },
  {
   "cell_type": "markdown",
   "metadata": {},
   "source": [
    "## Выводы"
   ]
  },
  {
   "cell_type": "markdown",
   "metadata": {},
   "source": [
    "Таким образом, можно сделать выводы, что на посещаемость влияют в наибольшей степени следующие факторы:\n",
    "- более старший возраст\n",
    "- если посетителя привел друг\n",
    "- посещение групповых занятий\n",
    "- средняя продолжительность абонемента\n",
    "- контракт с компанией-партнером\n"
   ]
  },
  {
   "cell_type": "markdown",
   "metadata": {},
   "source": [
    "Мы так же моежм сделать интересный вывод, что дальнее расстояние до местарасположения клуба может способствовать оттоку посетителей (это видно по кластеру 0), но при этом, сама по себе близость клуба к своим клиентам не так сильно влияет на удержание клиентов, только в совокупности с другими факторами (например, по калстеру 2 у нас высокие показатели по билзости клуба, но, тем не менее, он на 2 месте по оттоку)"
   ]
  },
  {
   "cell_type": "markdown",
   "metadata": {},
   "source": [
    "Хорошо влияет на удержание клиента регулярное посещение групповых занятий. вероятно, это в некоторой степени связано с общением с другими посетителями."
   ]
  },
  {
   "cell_type": "markdown",
   "metadata": {},
   "source": [
    "<b> Рекомендации:"
   ]
  },
  {
   "cell_type": "markdown",
   "metadata": {},
   "source": [
    "1. Постараться увеличить привленчение посетителей на групповые занятия\n",
    "2. Акцент на привлечение лучше делать на возраст от 29 лет и страше\n",
    "3. Продумать акции на продажу абонементов на длительный, годовой срок.\n",
    "4. Наиболее выгодно заключать контракты с компаниями, которые приводят своих сотрудников в клуб.\n",
    "5. Стараться, привлекать посетителей интересными занятиями и удобным расписанием, чтобы посетителям было удобно регулярно ходить на одну и ту же тренировку - не мене 2х раз в неделю"
   ]
  },
  {
   "cell_type": "code",
   "execution_count": null,
   "metadata": {},
   "outputs": [],
   "source": []
  }
 ],
 "metadata": {
  "ExecuteTimeLog": [
   {
    "duration": 2084,
    "start_time": "2021-06-21T15:25:20.002Z"
   },
   {
    "duration": 564,
    "start_time": "2021-06-21T15:25:26.674Z"
   },
   {
    "duration": 24,
    "start_time": "2021-06-21T15:25:32.573Z"
   },
   {
    "duration": 27,
    "start_time": "2021-06-21T15:43:03.539Z"
   },
   {
    "duration": 41,
    "start_time": "2021-06-21T15:43:26.152Z"
   },
   {
    "duration": 2754,
    "start_time": "2021-06-22T06:24:54.124Z"
   },
   {
    "duration": 480,
    "start_time": "2021-06-22T06:24:57.140Z"
   },
   {
    "duration": 2088,
    "start_time": "2021-06-22T06:25:29.992Z"
   },
   {
    "duration": 27,
    "start_time": "2021-06-22T06:25:32.083Z"
   },
   {
    "duration": 25,
    "start_time": "2021-06-22T06:25:32.114Z"
   },
   {
    "duration": 598,
    "start_time": "2021-06-22T06:25:32.142Z"
   },
   {
    "duration": 11,
    "start_time": "2021-06-22T06:28:34.561Z"
   },
   {
    "duration": 8,
    "start_time": "2021-06-22T07:11:53.294Z"
   },
   {
    "duration": 74,
    "start_time": "2021-06-22T07:12:08.214Z"
   },
   {
    "duration": 14,
    "start_time": "2021-06-22T07:17:27.303Z"
   },
   {
    "duration": 746,
    "start_time": "2021-06-22T07:17:34.944Z"
   },
   {
    "duration": 11,
    "start_time": "2021-06-22T07:18:14.080Z"
   },
   {
    "duration": 78,
    "start_time": "2021-06-22T07:30:03.688Z"
   },
   {
    "duration": 4,
    "start_time": "2021-06-22T07:36:25.152Z"
   },
   {
    "duration": 10,
    "start_time": "2021-06-22T07:36:26.646Z"
   },
   {
    "duration": 9,
    "start_time": "2021-06-22T07:36:59.727Z"
   },
   {
    "duration": 74,
    "start_time": "2021-06-22T07:37:04.646Z"
   },
   {
    "duration": 1524,
    "start_time": "2021-06-22T08:05:47.319Z"
   },
   {
    "duration": 17,
    "start_time": "2021-06-22T08:14:47.118Z"
   },
   {
    "duration": 329,
    "start_time": "2021-06-22T08:27:34.644Z"
   },
   {
    "duration": 568,
    "start_time": "2021-06-22T08:27:44.733Z"
   },
   {
    "duration": 3762,
    "start_time": "2021-06-22T08:28:15.342Z"
   },
   {
    "duration": 7909,
    "start_time": "2021-06-22T08:34:02.143Z"
   },
   {
    "duration": 8,
    "start_time": "2021-06-22T08:35:29.723Z"
   },
   {
    "duration": 7735,
    "start_time": "2021-06-22T08:35:47.108Z"
   },
   {
    "duration": 7661,
    "start_time": "2021-06-22T08:43:52.796Z"
   },
   {
    "duration": 681,
    "start_time": "2021-06-22T08:53:13.270Z"
   },
   {
    "duration": 880,
    "start_time": "2021-06-22T08:53:26.383Z"
   },
   {
    "duration": 7071,
    "start_time": "2021-06-22T08:53:49.686Z"
   },
   {
    "duration": 7470,
    "start_time": "2021-06-22T08:54:16.574Z"
   },
   {
    "duration": 7735,
    "start_time": "2021-06-22T08:54:34.517Z"
   },
   {
    "duration": 2060,
    "start_time": "2021-06-22T11:03:09.699Z"
   },
   {
    "duration": 28,
    "start_time": "2021-06-22T11:03:11.762Z"
   },
   {
    "duration": 26,
    "start_time": "2021-06-22T11:03:11.794Z"
   },
   {
    "duration": 4,
    "start_time": "2021-06-22T11:03:11.823Z"
   },
   {
    "duration": 12,
    "start_time": "2021-06-22T11:03:11.829Z"
   },
   {
    "duration": 11,
    "start_time": "2021-06-22T11:03:11.843Z"
   },
   {
    "duration": 67,
    "start_time": "2021-06-22T11:03:11.888Z"
   },
   {
    "duration": 37,
    "start_time": "2021-06-22T11:03:11.957Z"
   },
   {
    "duration": 7,
    "start_time": "2021-06-22T11:03:11.997Z"
   },
   {
    "duration": 7781,
    "start_time": "2021-06-22T11:03:12.007Z"
   },
   {
    "duration": 609,
    "start_time": "2021-06-22T11:03:19.792Z"
   },
   {
    "duration": 2086,
    "start_time": "2021-06-22T11:07:09.979Z"
   },
   {
    "duration": 28,
    "start_time": "2021-06-22T11:07:12.068Z"
   },
   {
    "duration": 24,
    "start_time": "2021-06-22T11:07:12.100Z"
   },
   {
    "duration": 4,
    "start_time": "2021-06-22T11:07:12.126Z"
   },
   {
    "duration": 13,
    "start_time": "2021-06-22T11:07:12.132Z"
   },
   {
    "duration": 44,
    "start_time": "2021-06-22T11:07:12.147Z"
   },
   {
    "duration": 68,
    "start_time": "2021-06-22T11:07:12.194Z"
   },
   {
    "duration": 39,
    "start_time": "2021-06-22T11:07:12.266Z"
   },
   {
    "duration": 7,
    "start_time": "2021-06-22T11:07:12.308Z"
   },
   {
    "duration": 7785,
    "start_time": "2021-06-22T11:07:12.318Z"
   },
   {
    "duration": 516,
    "start_time": "2021-06-22T11:07:20.106Z"
   },
   {
    "duration": 1754,
    "start_time": "2021-06-22T11:08:24.091Z"
   },
   {
    "duration": 2003,
    "start_time": "2021-06-22T11:31:48.470Z"
   },
   {
    "duration": 19,
    "start_time": "2021-06-22T11:33:30.165Z"
   },
   {
    "duration": 412,
    "start_time": "2021-06-22T11:34:55.731Z"
   },
   {
    "duration": 159,
    "start_time": "2021-06-22T11:36:54.769Z"
   },
   {
    "duration": 2442,
    "start_time": "2021-06-22T14:28:22.008Z"
   },
   {
    "duration": 28,
    "start_time": "2021-06-22T14:28:24.453Z"
   },
   {
    "duration": 28,
    "start_time": "2021-06-22T14:28:24.486Z"
   },
   {
    "duration": 6,
    "start_time": "2021-06-22T14:28:24.517Z"
   },
   {
    "duration": 15,
    "start_time": "2021-06-22T14:28:24.527Z"
   },
   {
    "duration": 56,
    "start_time": "2021-06-22T14:28:24.546Z"
   },
   {
    "duration": 98,
    "start_time": "2021-06-22T14:28:24.606Z"
   },
   {
    "duration": 16,
    "start_time": "2021-06-22T14:28:24.708Z"
   },
   {
    "duration": 7,
    "start_time": "2021-06-22T14:28:24.727Z"
   },
   {
    "duration": 8790,
    "start_time": "2021-06-22T14:28:24.736Z"
   },
   {
    "duration": 2584,
    "start_time": "2021-06-22T14:28:33.529Z"
   },
   {
    "duration": 11,
    "start_time": "2021-06-22T14:28:36.116Z"
   },
   {
    "duration": 28,
    "start_time": "2021-06-22T14:28:36.130Z"
   },
   {
    "duration": 1446,
    "start_time": "2021-06-22T14:28:36.187Z"
   },
   {
    "duration": 9075,
    "start_time": "2021-06-22T14:30:32.944Z"
   },
   {
    "duration": 8714,
    "start_time": "2021-06-22T14:38:41.319Z"
   },
   {
    "duration": 7908,
    "start_time": "2021-06-22T14:51:23.686Z"
   },
   {
    "duration": 305,
    "start_time": "2021-06-22T14:51:45.157Z"
   },
   {
    "duration": 2079,
    "start_time": "2021-06-22T14:52:39.647Z"
   },
   {
    "duration": 26,
    "start_time": "2021-06-22T14:52:41.729Z"
   },
   {
    "duration": 30,
    "start_time": "2021-06-22T14:52:41.757Z"
   },
   {
    "duration": 27,
    "start_time": "2021-06-22T14:52:41.789Z"
   },
   {
    "duration": 22,
    "start_time": "2021-06-22T14:52:41.818Z"
   },
   {
    "duration": 14,
    "start_time": "2021-06-22T14:52:41.843Z"
   },
   {
    "duration": 72,
    "start_time": "2021-06-22T14:52:41.860Z"
   },
   {
    "duration": 21,
    "start_time": "2021-06-22T14:52:41.937Z"
   },
   {
    "duration": 26,
    "start_time": "2021-06-22T14:52:41.962Z"
   },
   {
    "duration": 8501,
    "start_time": "2021-06-22T14:52:41.991Z"
   },
   {
    "duration": 1716,
    "start_time": "2021-06-22T14:52:50.495Z"
   },
   {
    "duration": 548,
    "start_time": "2021-06-22T14:52:52.214Z"
   },
   {
    "duration": -391,
    "start_time": "2021-06-22T14:52:53.155Z"
   },
   {
    "duration": -392,
    "start_time": "2021-06-22T14:52:53.158Z"
   },
   {
    "duration": 73,
    "start_time": "2021-06-22T14:53:33.932Z"
   },
   {
    "duration": 301,
    "start_time": "2021-06-22T14:54:16.563Z"
   },
   {
    "duration": 17,
    "start_time": "2021-06-22T14:54:43.091Z"
   },
   {
    "duration": 110,
    "start_time": "2021-06-22T15:20:55.230Z"
   },
   {
    "duration": 311,
    "start_time": "2021-06-22T15:23:51.770Z"
   },
   {
    "duration": 5,
    "start_time": "2021-06-22T15:23:54.006Z"
   },
   {
    "duration": 15,
    "start_time": "2021-06-22T15:23:55.709Z"
   },
   {
    "duration": 392,
    "start_time": "2021-06-22T15:26:39.778Z"
   },
   {
    "duration": 2016,
    "start_time": "2021-06-22T15:27:16.240Z"
   },
   {
    "duration": 25,
    "start_time": "2021-06-22T15:27:18.259Z"
   },
   {
    "duration": 38,
    "start_time": "2021-06-22T15:27:18.287Z"
   },
   {
    "duration": 4,
    "start_time": "2021-06-22T15:27:18.328Z"
   },
   {
    "duration": 29,
    "start_time": "2021-06-22T15:27:18.334Z"
   },
   {
    "duration": 18,
    "start_time": "2021-06-22T15:27:18.366Z"
   },
   {
    "duration": 71,
    "start_time": "2021-06-22T15:27:18.389Z"
   },
   {
    "duration": 39,
    "start_time": "2021-06-22T15:27:18.462Z"
   },
   {
    "duration": 8,
    "start_time": "2021-06-22T15:27:18.505Z"
   },
   {
    "duration": 7789,
    "start_time": "2021-06-22T15:27:18.516Z"
   },
   {
    "duration": 1825,
    "start_time": "2021-06-22T15:27:26.307Z"
   },
   {
    "duration": 79,
    "start_time": "2021-06-22T15:27:28.135Z"
   },
   {
    "duration": 89,
    "start_time": "2021-06-22T15:27:28.217Z"
   },
   {
    "duration": 18,
    "start_time": "2021-06-22T15:27:28.390Z"
   },
   {
    "duration": 537,
    "start_time": "2021-06-22T15:27:28.410Z"
   },
   {
    "duration": 36,
    "start_time": "2021-06-22T15:27:28.950Z"
   },
   {
    "duration": 511,
    "start_time": "2021-06-22T15:27:28.990Z"
   },
   {
    "duration": -446,
    "start_time": "2021-06-22T15:27:29.951Z"
   },
   {
    "duration": 134,
    "start_time": "2021-06-22T15:27:50.253Z"
   },
   {
    "duration": 16,
    "start_time": "2021-06-22T15:28:10.997Z"
   },
   {
    "duration": 65,
    "start_time": "2021-06-22T15:43:06.346Z"
   },
   {
    "duration": 14,
    "start_time": "2021-06-22T15:43:10.905Z"
   },
   {
    "duration": 54,
    "start_time": "2021-06-22T15:43:38.337Z"
   },
   {
    "duration": 15,
    "start_time": "2021-06-22T15:43:43.737Z"
   },
   {
    "duration": 63,
    "start_time": "2021-06-22T15:45:07.967Z"
   },
   {
    "duration": 7,
    "start_time": "2021-06-22T15:45:12.559Z"
   },
   {
    "duration": 15,
    "start_time": "2021-06-22T15:45:14.134Z"
   },
   {
    "duration": 183,
    "start_time": "2021-06-22T15:46:20.405Z"
   },
   {
    "duration": 55,
    "start_time": "2021-06-22T15:47:31.317Z"
   },
   {
    "duration": 16,
    "start_time": "2021-06-22T15:47:34.148Z"
   },
   {
    "duration": 502,
    "start_time": "2021-06-22T15:48:22.683Z"
   },
   {
    "duration": 15,
    "start_time": "2021-06-22T15:48:24.715Z"
   },
   {
    "duration": 2020,
    "start_time": "2021-06-22T15:49:13.784Z"
   },
   {
    "duration": 26,
    "start_time": "2021-06-22T15:49:15.807Z"
   },
   {
    "duration": 29,
    "start_time": "2021-06-22T15:49:15.836Z"
   },
   {
    "duration": 8,
    "start_time": "2021-06-22T15:49:15.868Z"
   },
   {
    "duration": 28,
    "start_time": "2021-06-22T15:49:15.886Z"
   },
   {
    "duration": 50,
    "start_time": "2021-06-22T15:49:15.917Z"
   },
   {
    "duration": 70,
    "start_time": "2021-06-22T15:49:15.969Z"
   },
   {
    "duration": 16,
    "start_time": "2021-06-22T15:49:16.042Z"
   },
   {
    "duration": 23,
    "start_time": "2021-06-22T15:49:16.062Z"
   },
   {
    "duration": 7605,
    "start_time": "2021-06-22T15:49:16.088Z"
   },
   {
    "duration": 1859,
    "start_time": "2021-06-22T15:49:23.696Z"
   },
   {
    "duration": 131,
    "start_time": "2021-06-22T15:49:25.559Z"
   },
   {
    "duration": 98,
    "start_time": "2021-06-22T15:49:25.787Z"
   },
   {
    "duration": 16,
    "start_time": "2021-06-22T15:49:25.888Z"
   },
   {
    "duration": 519,
    "start_time": "2021-06-22T15:49:25.906Z"
   },
   {
    "duration": -458,
    "start_time": "2021-06-22T15:49:26.886Z"
   },
   {
    "duration": -459,
    "start_time": "2021-06-22T15:49:26.888Z"
   },
   {
    "duration": -460,
    "start_time": "2021-06-22T15:49:26.891Z"
   },
   {
    "duration": -471,
    "start_time": "2021-06-22T15:49:26.903Z"
   },
   {
    "duration": 301,
    "start_time": "2021-06-22T15:49:38.076Z"
   },
   {
    "duration": 514,
    "start_time": "2021-06-22T15:49:45.661Z"
   },
   {
    "duration": 17,
    "start_time": "2021-06-22T15:49:49.397Z"
   },
   {
    "duration": 6,
    "start_time": "2021-06-22T16:10:59.409Z"
   },
   {
    "duration": 7,
    "start_time": "2021-06-22T16:11:20.457Z"
   },
   {
    "duration": 42,
    "start_time": "2021-06-22T16:12:34.217Z"
   },
   {
    "duration": 6,
    "start_time": "2021-06-22T16:12:37.897Z"
   },
   {
    "duration": 15,
    "start_time": "2021-06-22T16:12:39.857Z"
   },
   {
    "duration": 2143,
    "start_time": "2021-06-22T16:14:07.693Z"
   },
   {
    "duration": 26,
    "start_time": "2021-06-22T16:14:09.839Z"
   },
   {
    "duration": 27,
    "start_time": "2021-06-22T16:14:09.867Z"
   },
   {
    "duration": 21,
    "start_time": "2021-06-22T16:14:09.897Z"
   },
   {
    "duration": 28,
    "start_time": "2021-06-22T16:14:09.920Z"
   },
   {
    "duration": 23,
    "start_time": "2021-06-22T16:14:09.950Z"
   },
   {
    "duration": 90,
    "start_time": "2021-06-22T16:14:09.976Z"
   },
   {
    "duration": 35,
    "start_time": "2021-06-22T16:14:10.071Z"
   },
   {
    "duration": 8,
    "start_time": "2021-06-22T16:14:10.109Z"
   },
   {
    "duration": 7608,
    "start_time": "2021-06-22T16:14:10.120Z"
   },
   {
    "duration": 1829,
    "start_time": "2021-06-22T16:14:17.730Z"
   },
   {
    "duration": 5,
    "start_time": "2021-06-22T16:14:19.562Z"
   },
   {
    "duration": 52,
    "start_time": "2021-06-22T16:14:19.569Z"
   },
   {
    "duration": 9,
    "start_time": "2021-06-22T16:14:19.684Z"
   },
   {
    "duration": 20,
    "start_time": "2021-06-22T16:14:19.785Z"
   },
   {
    "duration": 811,
    "start_time": "2021-06-22T16:14:19.809Z"
   },
   {
    "duration": 20,
    "start_time": "2021-06-22T16:14:20.623Z"
   },
   {
    "duration": 49,
    "start_time": "2021-06-22T16:14:20.646Z"
   },
   {
    "duration": 640,
    "start_time": "2021-06-22T16:14:20.699Z"
   },
   {
    "duration": -467,
    "start_time": "2021-06-22T16:14:21.809Z"
   },
   {
    "duration": 110,
    "start_time": "2021-06-22T16:33:25.271Z"
   },
   {
    "duration": 6,
    "start_time": "2021-06-22T16:35:59.826Z"
   },
   {
    "duration": 9,
    "start_time": "2021-06-22T16:37:14.770Z"
   },
   {
    "duration": 2427,
    "start_time": "2021-06-23T07:11:09.089Z"
   },
   {
    "duration": 25,
    "start_time": "2021-06-23T07:11:11.518Z"
   },
   {
    "duration": 23,
    "start_time": "2021-06-23T07:11:11.546Z"
   },
   {
    "duration": 4,
    "start_time": "2021-06-23T07:11:11.572Z"
   },
   {
    "duration": 18,
    "start_time": "2021-06-23T07:11:11.578Z"
   },
   {
    "duration": 32,
    "start_time": "2021-06-23T07:11:11.599Z"
   },
   {
    "duration": 68,
    "start_time": "2021-06-23T07:11:11.633Z"
   },
   {
    "duration": 32,
    "start_time": "2021-06-23T07:11:11.704Z"
   },
   {
    "duration": 7,
    "start_time": "2021-06-23T07:11:11.739Z"
   },
   {
    "duration": 7570,
    "start_time": "2021-06-23T07:11:11.748Z"
   },
   {
    "duration": 1673,
    "start_time": "2021-06-23T07:11:19.324Z"
   },
   {
    "duration": 6,
    "start_time": "2021-06-23T07:11:21.000Z"
   },
   {
    "duration": 57,
    "start_time": "2021-06-23T07:11:21.008Z"
   },
   {
    "duration": 7,
    "start_time": "2021-06-23T07:11:21.125Z"
   },
   {
    "duration": 16,
    "start_time": "2021-06-23T07:11:21.224Z"
   },
   {
    "duration": 519,
    "start_time": "2021-06-23T07:11:21.242Z"
   },
   {
    "duration": 14,
    "start_time": "2021-06-23T07:11:21.763Z"
   },
   {
    "duration": 5,
    "start_time": "2021-06-23T07:11:21.780Z"
   },
   {
    "duration": 470,
    "start_time": "2021-06-23T07:11:21.787Z"
   },
   {
    "duration": -318,
    "start_time": "2021-06-23T07:11:22.577Z"
   },
   {
    "duration": -320,
    "start_time": "2021-06-23T07:11:22.580Z"
   },
   {
    "duration": -320,
    "start_time": "2021-06-23T07:11:22.582Z"
   },
   {
    "duration": 288,
    "start_time": "2021-06-23T07:11:30.650Z"
   },
   {
    "duration": 2804,
    "start_time": "2021-06-23T07:12:16.366Z"
   },
   {
    "duration": 25,
    "start_time": "2021-06-23T07:12:19.172Z"
   },
   {
    "duration": 35,
    "start_time": "2021-06-23T07:12:19.200Z"
   },
   {
    "duration": 4,
    "start_time": "2021-06-23T07:12:19.238Z"
   },
   {
    "duration": 24,
    "start_time": "2021-06-23T07:12:19.244Z"
   },
   {
    "duration": 25,
    "start_time": "2021-06-23T07:12:19.270Z"
   },
   {
    "duration": 73,
    "start_time": "2021-06-23T07:12:19.297Z"
   },
   {
    "duration": 16,
    "start_time": "2021-06-23T07:12:19.373Z"
   },
   {
    "duration": 17,
    "start_time": "2021-06-23T07:12:19.392Z"
   },
   {
    "duration": 7163,
    "start_time": "2021-06-23T07:12:19.424Z"
   },
   {
    "duration": 1672,
    "start_time": "2021-06-23T07:12:26.589Z"
   },
   {
    "duration": 5,
    "start_time": "2021-06-23T07:12:28.263Z"
   },
   {
    "duration": 68,
    "start_time": "2021-06-23T07:12:28.271Z"
   },
   {
    "duration": 86,
    "start_time": "2021-06-23T07:12:28.342Z"
   },
   {
    "duration": 103,
    "start_time": "2021-06-23T07:12:28.432Z"
   },
   {
    "duration": 518,
    "start_time": "2021-06-23T07:12:28.537Z"
   },
   {
    "duration": 17,
    "start_time": "2021-06-23T07:12:29.058Z"
   },
   {
    "duration": 814,
    "start_time": "2021-06-23T07:12:29.078Z"
   },
   {
    "duration": 29,
    "start_time": "2021-06-23T07:12:29.895Z"
   },
   {
    "duration": 1061,
    "start_time": "2021-06-23T07:12:29.927Z"
   },
   {
    "duration": -321,
    "start_time": "2021-06-23T07:12:31.312Z"
   },
   {
    "duration": 2025,
    "start_time": "2021-06-23T07:12:47.497Z"
   },
   {
    "duration": 23,
    "start_time": "2021-06-23T07:12:49.525Z"
   },
   {
    "duration": 24,
    "start_time": "2021-06-23T07:12:49.552Z"
   },
   {
    "duration": 4,
    "start_time": "2021-06-23T07:12:49.579Z"
   },
   {
    "duration": 16,
    "start_time": "2021-06-23T07:12:49.586Z"
   },
   {
    "duration": 12,
    "start_time": "2021-06-23T07:12:49.625Z"
   },
   {
    "duration": 84,
    "start_time": "2021-06-23T07:12:49.639Z"
   },
   {
    "duration": 15,
    "start_time": "2021-06-23T07:12:49.725Z"
   },
   {
    "duration": 13,
    "start_time": "2021-06-23T07:12:49.746Z"
   },
   {
    "duration": 8332,
    "start_time": "2021-06-23T07:12:49.763Z"
   },
   {
    "duration": 1710,
    "start_time": "2021-06-23T07:12:58.097Z"
   },
   {
    "duration": 15,
    "start_time": "2021-06-23T07:12:59.810Z"
   },
   {
    "duration": 34,
    "start_time": "2021-06-23T07:12:59.829Z"
   },
   {
    "duration": 5,
    "start_time": "2021-06-23T07:12:59.866Z"
   },
   {
    "duration": 51,
    "start_time": "2021-06-23T07:12:59.873Z"
   },
   {
    "duration": 512,
    "start_time": "2021-06-23T07:12:59.927Z"
   },
   {
    "duration": 14,
    "start_time": "2021-06-23T07:13:00.441Z"
   },
   {
    "duration": 816,
    "start_time": "2021-06-23T07:13:00.457Z"
   },
   {
    "duration": 21,
    "start_time": "2021-06-23T07:13:01.276Z"
   },
   {
    "duration": 503,
    "start_time": "2021-06-23T07:13:01.300Z"
   },
   {
    "duration": -317,
    "start_time": "2021-06-23T07:13:02.123Z"
   },
   {
    "duration": 1270,
    "start_time": "2021-06-23T07:15:13.954Z"
   },
   {
    "duration": 19525,
    "start_time": "2021-06-23T07:17:40.222Z"
   },
   {
    "duration": -390,
    "start_time": "2021-06-23T07:18:00.141Z"
   },
   {
    "duration": 1948,
    "start_time": "2021-06-23T07:18:10.593Z"
   },
   {
    "duration": 24,
    "start_time": "2021-06-23T07:18:12.544Z"
   },
   {
    "duration": 23,
    "start_time": "2021-06-23T07:18:12.570Z"
   },
   {
    "duration": 3,
    "start_time": "2021-06-23T07:18:12.596Z"
   },
   {
    "duration": 37,
    "start_time": "2021-06-23T07:18:12.601Z"
   },
   {
    "duration": 12,
    "start_time": "2021-06-23T07:18:12.641Z"
   },
   {
    "duration": 84,
    "start_time": "2021-06-23T07:18:12.656Z"
   },
   {
    "duration": 14,
    "start_time": "2021-06-23T07:18:12.742Z"
   },
   {
    "duration": 14,
    "start_time": "2021-06-23T07:18:12.760Z"
   },
   {
    "duration": 7790,
    "start_time": "2021-06-23T07:18:12.776Z"
   },
   {
    "duration": 1775,
    "start_time": "2021-06-23T07:18:20.568Z"
   },
   {
    "duration": 5,
    "start_time": "2021-06-23T07:18:22.345Z"
   },
   {
    "duration": 36,
    "start_time": "2021-06-23T07:18:22.353Z"
   },
   {
    "duration": 6,
    "start_time": "2021-06-23T07:18:22.391Z"
   },
   {
    "duration": 18,
    "start_time": "2021-06-23T07:18:22.430Z"
   },
   {
    "duration": 514,
    "start_time": "2021-06-23T07:18:22.450Z"
   },
   {
    "duration": 14,
    "start_time": "2021-06-23T07:18:22.967Z"
   },
   {
    "duration": 825,
    "start_time": "2021-06-23T07:18:22.983Z"
   },
   {
    "duration": -431,
    "start_time": "2021-06-23T07:18:53.367Z"
   },
   {
    "duration": -432,
    "start_time": "2021-06-23T07:18:53.369Z"
   },
   {
    "duration": -431,
    "start_time": "2021-06-23T07:18:53.370Z"
   },
   {
    "duration": -431,
    "start_time": "2021-06-23T07:18:53.372Z"
   },
   {
    "duration": -430,
    "start_time": "2021-06-23T07:18:53.373Z"
   },
   {
    "duration": 136946,
    "start_time": "2021-06-23T07:18:56.715Z"
   },
   {
    "duration": 306,
    "start_time": "2021-06-23T07:24:26.341Z"
   },
   {
    "duration": 949,
    "start_time": "2021-06-23T07:24:39.300Z"
   },
   {
    "duration": 1503,
    "start_time": "2021-06-23T07:54:15.151Z"
   },
   {
    "duration": 1616,
    "start_time": "2021-06-23T08:44:13.625Z"
   },
   {
    "duration": 1826,
    "start_time": "2021-06-23T08:46:31.382Z"
   },
   {
    "duration": 1554,
    "start_time": "2021-06-23T08:47:56.180Z"
   },
   {
    "duration": 1660,
    "start_time": "2021-06-23T08:48:32.379Z"
   },
   {
    "duration": 1617,
    "start_time": "2021-06-23T08:49:23.234Z"
   },
   {
    "duration": 136838,
    "start_time": "2021-06-23T08:49:35.881Z"
   },
   {
    "duration": 136555,
    "start_time": "2021-06-23T08:52:53.469Z"
   },
   {
    "duration": 19,
    "start_time": "2021-06-23T08:56:24.089Z"
   },
   {
    "duration": 771,
    "start_time": "2021-06-23T08:58:52.574Z"
   },
   {
    "duration": 1689,
    "start_time": "2021-06-23T09:00:44.252Z"
   },
   {
    "duration": 1152,
    "start_time": "2021-06-23T09:01:23.986Z"
   },
   {
    "duration": 757,
    "start_time": "2021-06-23T09:04:28.792Z"
   },
   {
    "duration": 133874,
    "start_time": "2021-06-23T09:05:00.262Z"
   },
   {
    "duration": 1633,
    "start_time": "2021-06-23T09:11:08.405Z"
   },
   {
    "duration": 1522,
    "start_time": "2021-06-23T09:11:31.015Z"
   },
   {
    "duration": 1587,
    "start_time": "2021-06-23T09:14:51.539Z"
   },
   {
    "duration": 1605,
    "start_time": "2021-06-23T09:38:54.432Z"
   },
   {
    "duration": 1692,
    "start_time": "2021-06-23T09:39:49.842Z"
   },
   {
    "duration": 1081,
    "start_time": "2021-06-23T09:40:10.659Z"
   },
   {
    "duration": 1432,
    "start_time": "2021-06-23T10:00:56.505Z"
   },
   {
    "duration": 18387,
    "start_time": "2021-06-23T10:31:23.121Z"
   },
   {
    "duration": 2285,
    "start_time": "2021-06-23T10:31:55.414Z"
   },
   {
    "duration": 29,
    "start_time": "2021-06-23T10:31:57.702Z"
   },
   {
    "duration": 34,
    "start_time": "2021-06-23T10:31:57.735Z"
   },
   {
    "duration": 6,
    "start_time": "2021-06-23T10:31:57.772Z"
   },
   {
    "duration": 20,
    "start_time": "2021-06-23T10:31:57.781Z"
   },
   {
    "duration": 16,
    "start_time": "2021-06-23T10:31:57.826Z"
   },
   {
    "duration": 125,
    "start_time": "2021-06-23T10:31:57.845Z"
   },
   {
    "duration": 21,
    "start_time": "2021-06-23T10:31:57.975Z"
   },
   {
    "duration": 30,
    "start_time": "2021-06-23T10:31:57.999Z"
   },
   {
    "duration": 9927,
    "start_time": "2021-06-23T10:31:58.032Z"
   },
   {
    "duration": 1719,
    "start_time": "2021-06-23T10:32:07.961Z"
   },
   {
    "duration": 5,
    "start_time": "2021-06-23T10:32:09.682Z"
   },
   {
    "duration": 55,
    "start_time": "2021-06-23T10:32:09.689Z"
   },
   {
    "duration": 5,
    "start_time": "2021-06-23T10:32:09.746Z"
   },
   {
    "duration": 22,
    "start_time": "2021-06-23T10:32:09.753Z"
   },
   {
    "duration": 515,
    "start_time": "2021-06-23T10:32:09.778Z"
   },
   {
    "duration": 14,
    "start_time": "2021-06-23T10:32:10.296Z"
   },
   {
    "duration": 790,
    "start_time": "2021-06-23T10:32:10.324Z"
   },
   {
    "duration": 165248,
    "start_time": "2021-06-23T10:32:11.116Z"
   },
   {
    "duration": 2061,
    "start_time": "2021-06-23T10:34:56.366Z"
   },
   {
    "duration": 20900,
    "start_time": "2021-06-23T10:34:58.430Z"
   },
   {
    "duration": 132,
    "start_time": "2021-06-23T10:35:19.332Z"
   },
   {
    "duration": -439,
    "start_time": "2021-06-23T10:35:19.906Z"
   },
   {
    "duration": -439,
    "start_time": "2021-06-23T10:35:19.908Z"
   },
   {
    "duration": -444,
    "start_time": "2021-06-23T10:35:19.915Z"
   },
   {
    "duration": -446,
    "start_time": "2021-06-23T10:35:19.919Z"
   },
   {
    "duration": 1861,
    "start_time": "2021-06-23T10:54:45.745Z"
   },
   {
    "duration": 25,
    "start_time": "2021-06-23T10:54:47.609Z"
   },
   {
    "duration": 24,
    "start_time": "2021-06-23T10:54:47.637Z"
   },
   {
    "duration": 6,
    "start_time": "2021-06-23T10:54:47.664Z"
   },
   {
    "duration": 17,
    "start_time": "2021-06-23T10:54:47.672Z"
   },
   {
    "duration": 37,
    "start_time": "2021-06-23T10:54:47.691Z"
   },
   {
    "duration": 69,
    "start_time": "2021-06-23T10:54:47.730Z"
   },
   {
    "duration": 37,
    "start_time": "2021-06-23T10:54:47.802Z"
   },
   {
    "duration": 7,
    "start_time": "2021-06-23T10:54:47.842Z"
   },
   {
    "duration": 7479,
    "start_time": "2021-06-23T10:54:47.852Z"
   },
   {
    "duration": 1711,
    "start_time": "2021-06-23T10:54:55.333Z"
   },
   {
    "duration": 6,
    "start_time": "2021-06-23T10:54:57.046Z"
   },
   {
    "duration": 32,
    "start_time": "2021-06-23T10:54:57.054Z"
   },
   {
    "duration": 5,
    "start_time": "2021-06-23T10:54:57.089Z"
   },
   {
    "duration": 15,
    "start_time": "2021-06-23T10:54:57.124Z"
   },
   {
    "duration": 495,
    "start_time": "2021-06-23T10:54:57.141Z"
   },
   {
    "duration": 14,
    "start_time": "2021-06-23T10:54:57.638Z"
   },
   {
    "duration": 807,
    "start_time": "2021-06-23T10:54:57.654Z"
   },
   {
    "duration": 136450,
    "start_time": "2021-06-23T10:54:58.463Z"
   },
   {
    "duration": 1732,
    "start_time": "2021-06-23T10:57:14.915Z"
   },
   {
    "duration": 458,
    "start_time": "2021-06-23T10:57:16.649Z"
   },
   {
    "duration": -463,
    "start_time": "2021-06-23T10:57:17.573Z"
   },
   {
    "duration": -462,
    "start_time": "2021-06-23T10:57:17.574Z"
   },
   {
    "duration": -463,
    "start_time": "2021-06-23T10:57:17.576Z"
   },
   {
    "duration": -477,
    "start_time": "2021-06-23T10:57:17.592Z"
   },
   {
    "duration": -478,
    "start_time": "2021-06-23T10:57:17.594Z"
   },
   {
    "duration": 323,
    "start_time": "2021-06-23T14:48:16.379Z"
   },
   {
    "duration": 1829,
    "start_time": "2021-06-23T14:48:53.575Z"
   },
   {
    "duration": 308,
    "start_time": "2021-06-23T14:49:45.732Z"
   },
   {
    "duration": 285,
    "start_time": "2021-06-23T14:49:57.348Z"
   },
   {
    "duration": 1563,
    "start_time": "2021-06-23T14:50:15.935Z"
   },
   {
    "duration": 1604,
    "start_time": "2021-06-23T14:51:06.642Z"
   },
   {
    "duration": 1983,
    "start_time": "2021-06-23T14:52:43.384Z"
   },
   {
    "duration": 842,
    "start_time": "2021-06-23T14:54:46.301Z"
   },
   {
    "duration": 824,
    "start_time": "2021-06-23T14:55:03.782Z"
   },
   {
    "duration": 1640,
    "start_time": "2021-06-23T14:55:50.200Z"
   },
   {
    "duration": 306,
    "start_time": "2021-06-23T14:56:05.308Z"
   },
   {
    "duration": 1542,
    "start_time": "2021-06-23T14:56:23.171Z"
   },
   {
    "duration": 89,
    "start_time": "2021-06-23T14:56:51.122Z"
   },
   {
    "duration": 296,
    "start_time": "2021-06-23T14:58:33.690Z"
   },
   {
    "duration": 7163,
    "start_time": "2021-06-23T14:58:50.719Z"
   },
   {
    "duration": 3405,
    "start_time": "2021-06-23T15:04:36.526Z"
   },
   {
    "duration": 2392,
    "start_time": "2021-06-23T15:04:58.929Z"
   },
   {
    "duration": 8600,
    "start_time": "2021-06-23T15:05:28.472Z"
   },
   {
    "duration": 2245,
    "start_time": "2021-06-23T15:06:12.287Z"
   },
   {
    "duration": 1858,
    "start_time": "2021-06-23T15:06:51.343Z"
   },
   {
    "duration": 290,
    "start_time": "2021-06-23T15:09:52.858Z"
   },
   {
    "duration": 3100,
    "start_time": "2021-06-23T15:10:26.993Z"
   },
   {
    "duration": 284,
    "start_time": "2021-06-23T15:11:18.888Z"
   },
   {
    "duration": 313,
    "start_time": "2021-06-23T15:11:44.095Z"
   },
   {
    "duration": 274,
    "start_time": "2021-06-23T15:11:55.895Z"
   },
   {
    "duration": 2374,
    "start_time": "2021-06-23T15:13:08.166Z"
   },
   {
    "duration": 95,
    "start_time": "2021-06-23T15:13:43.285Z"
   },
   {
    "duration": 92,
    "start_time": "2021-06-23T15:13:45.909Z"
   },
   {
    "duration": 287,
    "start_time": "2021-06-23T15:13:52.317Z"
   },
   {
    "duration": 2916,
    "start_time": "2021-06-23T15:14:21.237Z"
   },
   {
    "duration": 1277,
    "start_time": "2021-06-23T15:16:43.753Z"
   },
   {
    "duration": 567,
    "start_time": "2021-06-23T15:22:34.010Z"
   },
   {
    "duration": 3471,
    "start_time": "2021-06-23T15:22:44.482Z"
   },
   {
    "duration": 6733,
    "start_time": "2021-06-23T15:42:28.160Z"
   },
   {
    "duration": 1878,
    "start_time": "2021-06-23T15:43:21.232Z"
   },
   {
    "duration": 2510,
    "start_time": "2021-06-23T15:43:39.079Z"
   },
   {
    "duration": 3061,
    "start_time": "2021-06-23T15:44:03.734Z"
   },
   {
    "duration": 2077,
    "start_time": "2021-06-23T15:44:18.974Z"
   },
   {
    "duration": 3540,
    "start_time": "2021-06-23T15:45:29.836Z"
   },
   {
    "duration": 3615,
    "start_time": "2021-06-23T15:45:42.123Z"
   },
   {
    "duration": 3503,
    "start_time": "2021-06-23T15:46:05.612Z"
   },
   {
    "duration": 3693,
    "start_time": "2021-06-23T15:47:17.034Z"
   },
   {
    "duration": 3789,
    "start_time": "2021-06-23T15:47:25.305Z"
   },
   {
    "duration": 4082,
    "start_time": "2021-06-23T15:48:30.968Z"
   },
   {
    "duration": 910,
    "start_time": "2021-06-23T15:50:24.605Z"
   },
   {
    "duration": 961,
    "start_time": "2021-06-23T15:50:33.471Z"
   },
   {
    "duration": 4008,
    "start_time": "2021-06-23T15:50:52.625Z"
   },
   {
    "duration": -393,
    "start_time": "2021-06-23T15:54:08.335Z"
   },
   {
    "duration": 789,
    "start_time": "2021-06-23T15:54:08.217Z"
   },
   {
    "duration": 2946,
    "start_time": "2021-06-23T15:54:19.186Z"
   },
   {
    "duration": 2068,
    "start_time": "2021-06-23T15:54:51.210Z"
   },
   {
    "duration": 24,
    "start_time": "2021-06-23T15:54:53.281Z"
   },
   {
    "duration": 27,
    "start_time": "2021-06-23T15:54:53.309Z"
   },
   {
    "duration": 24,
    "start_time": "2021-06-23T15:54:53.345Z"
   },
   {
    "duration": 16,
    "start_time": "2021-06-23T15:54:53.372Z"
   },
   {
    "duration": 12,
    "start_time": "2021-06-23T15:54:53.391Z"
   },
   {
    "duration": 87,
    "start_time": "2021-06-23T15:54:53.406Z"
   },
   {
    "duration": 42,
    "start_time": "2021-06-23T15:54:53.497Z"
   },
   {
    "duration": 7,
    "start_time": "2021-06-23T15:54:53.544Z"
   },
   {
    "duration": 7840,
    "start_time": "2021-06-23T15:54:53.555Z"
   },
   {
    "duration": 1837,
    "start_time": "2021-06-23T15:55:01.399Z"
   },
   {
    "duration": 5,
    "start_time": "2021-06-23T15:55:03.239Z"
   },
   {
    "duration": 34,
    "start_time": "2021-06-23T15:55:03.247Z"
   },
   {
    "duration": 5,
    "start_time": "2021-06-23T15:55:03.283Z"
   },
   {
    "duration": 50,
    "start_time": "2021-06-23T15:55:03.290Z"
   },
   {
    "duration": 532,
    "start_time": "2021-06-23T15:55:03.343Z"
   },
   {
    "duration": 17,
    "start_time": "2021-06-23T15:55:03.877Z"
   },
   {
    "duration": 870,
    "start_time": "2021-06-23T15:55:03.897Z"
   },
   {
    "duration": 142488,
    "start_time": "2021-06-23T15:55:04.770Z"
   },
   {
    "duration": 1297,
    "start_time": "2021-06-23T15:57:27.260Z"
   },
   {
    "duration": 2588,
    "start_time": "2021-06-23T15:57:28.559Z"
   },
   {
    "duration": 2976,
    "start_time": "2021-06-23T15:57:31.150Z"
   },
   {
    "duration": 110,
    "start_time": "2021-06-23T15:57:34.129Z"
   },
   {
    "duration": -326,
    "start_time": "2021-06-23T15:57:34.568Z"
   },
   {
    "duration": -327,
    "start_time": "2021-06-23T15:57:34.570Z"
   },
   {
    "duration": -328,
    "start_time": "2021-06-23T15:57:34.572Z"
   },
   {
    "duration": -328,
    "start_time": "2021-06-23T15:57:34.574Z"
   },
   {
    "duration": 1979,
    "start_time": "2021-06-23T15:59:32.028Z"
   },
   {
    "duration": 1860,
    "start_time": "2021-06-23T15:59:52.410Z"
   },
   {
    "duration": 2034,
    "start_time": "2021-06-23T15:59:59.810Z"
   },
   {
    "duration": 1900,
    "start_time": "2021-06-23T16:00:21.546Z"
   },
   {
    "duration": 3128,
    "start_time": "2021-06-23T16:00:37.074Z"
   },
   {
    "duration": 2220,
    "start_time": "2021-06-23T16:00:46.034Z"
   },
   {
    "duration": 2279,
    "start_time": "2021-06-23T16:00:54.057Z"
   },
   {
    "duration": 2488,
    "start_time": "2021-06-23T16:01:29.561Z"
   },
   {
    "duration": 3360,
    "start_time": "2021-06-23T16:01:45.960Z"
   },
   {
    "duration": 2436,
    "start_time": "2021-06-23T16:01:55.496Z"
   },
   {
    "duration": 96,
    "start_time": "2021-06-23T16:23:04.004Z"
   },
   {
    "duration": 2022,
    "start_time": "2021-06-23T16:31:25.793Z"
   },
   {
    "duration": 28,
    "start_time": "2021-06-23T16:31:27.818Z"
   },
   {
    "duration": 23,
    "start_time": "2021-06-23T16:31:27.849Z"
   },
   {
    "duration": 7,
    "start_time": "2021-06-23T16:31:27.875Z"
   },
   {
    "duration": 19,
    "start_time": "2021-06-23T16:31:27.884Z"
   },
   {
    "duration": 32,
    "start_time": "2021-06-23T16:31:27.905Z"
   },
   {
    "duration": 91,
    "start_time": "2021-06-23T16:31:27.941Z"
   },
   {
    "duration": 15,
    "start_time": "2021-06-23T16:31:28.038Z"
   },
   {
    "duration": 8,
    "start_time": "2021-06-23T16:31:28.056Z"
   },
   {
    "duration": 8109,
    "start_time": "2021-06-23T16:31:28.066Z"
   },
   {
    "duration": 1836,
    "start_time": "2021-06-23T16:31:36.178Z"
   },
   {
    "duration": 11,
    "start_time": "2021-06-23T16:31:38.025Z"
   },
   {
    "duration": 33,
    "start_time": "2021-06-23T16:31:38.040Z"
   },
   {
    "duration": 6,
    "start_time": "2021-06-23T16:31:38.075Z"
   },
   {
    "duration": 46,
    "start_time": "2021-06-23T16:31:38.083Z"
   },
   {
    "duration": 602,
    "start_time": "2021-06-23T16:31:38.133Z"
   },
   {
    "duration": 15,
    "start_time": "2021-06-23T16:31:38.738Z"
   },
   {
    "duration": 826,
    "start_time": "2021-06-23T16:31:38.755Z"
   },
   {
    "duration": 142654,
    "start_time": "2021-06-23T16:31:39.583Z"
   },
   {
    "duration": 1596,
    "start_time": "2021-06-23T16:34:02.241Z"
   },
   {
    "duration": 2214,
    "start_time": "2021-06-23T16:34:03.840Z"
   },
   {
    "duration": 2454,
    "start_time": "2021-06-23T16:34:06.056Z"
   },
   {
    "duration": 2139,
    "start_time": "2021-06-24T06:56:34.784Z"
   },
   {
    "duration": 25,
    "start_time": "2021-06-24T06:56:36.926Z"
   },
   {
    "duration": 39,
    "start_time": "2021-06-24T06:56:36.954Z"
   },
   {
    "duration": 28,
    "start_time": "2021-06-24T06:56:36.996Z"
   },
   {
    "duration": 27,
    "start_time": "2021-06-24T06:56:37.027Z"
   },
   {
    "duration": 32,
    "start_time": "2021-06-24T06:56:37.056Z"
   },
   {
    "duration": 75,
    "start_time": "2021-06-24T06:56:37.091Z"
   },
   {
    "duration": 15,
    "start_time": "2021-06-24T06:56:37.171Z"
   },
   {
    "duration": 11,
    "start_time": "2021-06-24T06:56:37.202Z"
   },
   {
    "duration": 7564,
    "start_time": "2021-06-24T06:56:37.215Z"
   },
   {
    "duration": 1757,
    "start_time": "2021-06-24T06:56:44.782Z"
   },
   {
    "duration": 4,
    "start_time": "2021-06-24T06:56:46.542Z"
   },
   {
    "duration": 52,
    "start_time": "2021-06-24T06:56:46.548Z"
   },
   {
    "duration": 5,
    "start_time": "2021-06-24T06:56:46.603Z"
   },
   {
    "duration": 25,
    "start_time": "2021-06-24T06:56:46.610Z"
   },
   {
    "duration": 609,
    "start_time": "2021-06-24T06:56:46.637Z"
   },
   {
    "duration": 15,
    "start_time": "2021-06-24T06:56:47.248Z"
   },
   {
    "duration": 839,
    "start_time": "2021-06-24T06:56:47.265Z"
   },
   {
    "duration": 139457,
    "start_time": "2021-06-24T06:56:48.106Z"
   },
   {
    "duration": 1764,
    "start_time": "2021-06-24T06:59:07.566Z"
   },
   {
    "duration": 2102,
    "start_time": "2021-06-24T06:59:09.332Z"
   },
   {
    "duration": 2350,
    "start_time": "2021-06-24T06:59:11.437Z"
   },
   {
    "duration": 2017,
    "start_time": "2021-06-28T13:20:39.184Z"
   },
   {
    "duration": 26,
    "start_time": "2021-06-28T13:20:41.204Z"
   },
   {
    "duration": 24,
    "start_time": "2021-06-28T13:20:41.237Z"
   },
   {
    "duration": 24,
    "start_time": "2021-06-28T13:20:41.263Z"
   },
   {
    "duration": 14,
    "start_time": "2021-06-28T13:20:41.290Z"
   },
   {
    "duration": 14,
    "start_time": "2021-06-28T13:20:41.307Z"
   },
   {
    "duration": 106,
    "start_time": "2021-06-28T13:20:41.324Z"
   },
   {
    "duration": 15,
    "start_time": "2021-06-28T13:20:41.433Z"
   },
   {
    "duration": 7,
    "start_time": "2021-06-28T13:20:41.451Z"
   },
   {
    "duration": 7587,
    "start_time": "2021-06-28T13:20:41.460Z"
   },
   {
    "duration": 1767,
    "start_time": "2021-06-28T13:20:49.050Z"
   },
   {
    "duration": 5,
    "start_time": "2021-06-28T13:20:50.820Z"
   },
   {
    "duration": 32,
    "start_time": "2021-06-28T13:20:50.828Z"
   },
   {
    "duration": 26,
    "start_time": "2021-06-28T13:20:50.862Z"
   },
   {
    "duration": 24,
    "start_time": "2021-06-28T13:20:50.891Z"
   },
   {
    "duration": 509,
    "start_time": "2021-06-28T13:20:50.917Z"
   },
   {
    "duration": 14,
    "start_time": "2021-06-28T13:20:51.428Z"
   },
   {
    "duration": 766,
    "start_time": "2021-06-28T13:20:51.445Z"
   },
   {
    "duration": 139661,
    "start_time": "2021-06-28T13:20:52.213Z"
   },
   {
    "duration": 1730,
    "start_time": "2021-06-28T13:23:11.877Z"
   },
   {
    "duration": 2132,
    "start_time": "2021-06-28T13:23:13.610Z"
   },
   {
    "duration": 2223,
    "start_time": "2021-06-28T13:23:15.744Z"
   }
  ],
  "celltoolbar": "Необработанный формат ячейки",
  "kernelspec": {
   "display_name": "Python 3 (ipykernel)",
   "language": "python",
   "name": "python3"
  },
  "language_info": {
   "codemirror_mode": {
    "name": "ipython",
    "version": 3
   },
   "file_extension": ".py",
   "mimetype": "text/x-python",
   "name": "python",
   "nbconvert_exporter": "python",
   "pygments_lexer": "ipython3",
   "version": "3.9.5"
  },
  "toc": {
   "base_numbering": 1,
   "nav_menu": {
    "height": "234px",
    "width": "482px"
   },
   "number_sections": true,
   "sideBar": true,
   "skip_h1_title": true,
   "title_cell": "Table of Contents",
   "title_sidebar": "Contents",
   "toc_cell": false,
   "toc_position": {},
   "toc_section_display": true,
   "toc_window_display": false
  }
 },
 "nbformat": 4,
 "nbformat_minor": 2
}
